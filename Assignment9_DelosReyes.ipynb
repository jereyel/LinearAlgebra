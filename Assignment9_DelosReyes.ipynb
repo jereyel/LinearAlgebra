{
  "nbformat": 4,
  "nbformat_minor": 0,
  "metadata": {
    "colab": {
      "name": "Assignment9_DelosReyes",
      "provenance": [],
      "collapsed_sections": [],
      "authorship_tag": "ABX9TyN0nTm7DgYuVCEN6bMtQlbs",
      "include_colab_link": true
    },
    "kernelspec": {
      "name": "python3",
      "display_name": "Python 3"
    },
    "language_info": {
      "name": "python"
    }
  },
  "cells": [
    {
      "cell_type": "markdown",
      "metadata": {
        "id": "view-in-github",
        "colab_type": "text"
      },
      "source": [
        "<a href=\"https://colab.research.google.com/github/jereyel/LinearAlgebra/blob/main/Assignment9_DelosReyes.ipynb\" target=\"_parent\"><img src=\"https://colab.research.google.com/assets/colab-badge.svg\" alt=\"Open In Colab\"/></a>"
      ]
    },
    {
      "cell_type": "markdown",
      "metadata": {
        "id": "cdTlAvE6ovTu"
      },
      "source": [
        "# Lab 2 - Plotting Vector using NumPy and MatPlotLib"
      ]
    },
    {
      "cell_type": "markdown",
      "metadata": {
        "id": "cByHYn0fo0PO"
      },
      "source": [
        "Objectives\n",
        "\n",
        "\n",
        "*   Be familiar with the libraries in Python for numerical and scientific programming. \n",
        "*   Visualize vectors through Python programming.\n",
        "*   Perform simple vector operations through code.\n",
        "\n"
      ]
    },
    {
      "cell_type": "markdown",
      "metadata": {
        "id": "YTTSFog2pUX8"
      },
      "source": [
        "## Discussion"
      ]
    },
    {
      "cell_type": "markdown",
      "metadata": {
        "id": "pWgb55XGpW0l"
      },
      "source": [
        "Numpy can be used to represent scalars value and vectors values. It is used commonly for matrix and vector operation in programming. Below is the basic operation and examples of application Numpy \"np\" in coding."
      ]
    },
    {
      "cell_type": "markdown",
      "metadata": {
        "id": "riZ5A4sQPvfK"
      },
      "source": [
        "###Representing Ventors"
      ]
    },
    {
      "cell_type": "markdown",
      "metadata": {
        "id": "ZFFMf6aCPseo"
      },
      "source": [
        "$$ A = 4\\hat{x} + 3\\hat{y} \\\\\n",
        "B = 2\\hat{x} - 5\\hat{y} \\\\ \n",
        "C = 4ax + 3ay -2az \\\\ \n",
        "D = 2\\hat{i} - 2\\hat{j} + 3\\hat{k} $$"
      ]
    },
    {
      "cell_type": "markdown",
      "metadata": {
        "id": "QnHf1bRjPuCZ"
      },
      "source": [
        "$$ A = \\begin{bmatrix} 4 \\\\ 3\\end{bmatrix} , B = \\begin{bmatrix} 2 \\\\ -5\\end{bmatrix} , C = \\begin{bmatrix} 4 \\\\ 3 \\\\  4 \\end{bmatrix} , D = \\begin{bmatrix} 4 \\\\ 3 \\\\ -2\\end{bmatrix}\n",
        "$$\n",
        "$$ A = \\begin{bmatrix} 4 \\\\ 3\\end{bmatrix} , B = \\begin{bmatrix} 2 \\\\ -5\\end{bmatrix}\n",
        "$$ \n",
        "$$ C = \\begin{bmatrix} 4 \\ 3 \\ 4 \\end{bmatrix} , D = \\begin{bmatrix} 4 \\ 3 \\ -2\\end{bmatrix}$$\n"
      ]
    },
    {
      "cell_type": "code",
      "metadata": {
        "id": "z-1G2BiKRrqx"
      },
      "source": [
        "import numpy as np ## 'np' here is short-hand name of the library (numpy) or a nickname."
      ],
      "execution_count": null,
      "outputs": []
    },
    {
      "cell_type": "code",
      "metadata": {
        "colab": {
          "base_uri": "https://localhost:8080/"
        },
        "id": "nThWF0UTSKsL",
        "outputId": "9d3e5122-a8c8-4271-953f-138098047890"
      },
      "source": [
        "A = np.array([4, 3])\n",
        "B = np.array([2, -5])\n",
        "C = np.array([\n",
        "              [4],\n",
        "              [3],\n",
        "              [-2]\n",
        "])\n",
        "D = np.array ([[2],\n",
        "              [-2],\n",
        "              [3]])\n",
        "print('Vector A is ', A)\n",
        "print('Vector B is ', B)\n",
        "print('Vector C is ', C)\n",
        "print('Vector D is ', D)"
      ],
      "execution_count": null,
      "outputs": [
        {
          "output_type": "stream",
          "name": "stdout",
          "text": [
            "Vector A is  [4 3]\n",
            "Vector B is  [ 2 -5]\n",
            "Vector C is  [[ 4]\n",
            " [ 3]\n",
            " [-2]]\n",
            "Vector D is  [[ 2]\n",
            " [-2]\n",
            " [ 3]]\n"
          ]
        }
      ]
    },
    {
      "cell_type": "markdown",
      "metadata": {
        "id": "IdszWmOFTzoc"
      },
      "source": [
        "###Describing Vectors in NumPy"
      ]
    },
    {
      "cell_type": "code",
      "metadata": {
        "colab": {
          "base_uri": "https://localhost:8080/"
        },
        "id": "kRHwEpH6T4nl",
        "outputId": "c06a236b-86d6-45e8-975e-596d7e03bdcb"
      },
      "source": [
        "A.shape"
      ],
      "execution_count": null,
      "outputs": [
        {
          "output_type": "execute_result",
          "data": {
            "text/plain": [
              "(2,)"
            ]
          },
          "metadata": {},
          "execution_count": 3
        }
      ]
    },
    {
      "cell_type": "code",
      "metadata": {
        "colab": {
          "base_uri": "https://localhost:8080/"
        },
        "id": "Z76S8oy8UEOs",
        "outputId": "28fb7d60-cbb2-49e1-e732-3b8af2c8ce71"
      },
      "source": [
        "C.shape"
      ],
      "execution_count": null,
      "outputs": [
        {
          "output_type": "execute_result",
          "data": {
            "text/plain": [
              "(3, 1)"
            ]
          },
          "metadata": {},
          "execution_count": 4
        }
      ]
    },
    {
      "cell_type": "code",
      "metadata": {
        "colab": {
          "base_uri": "https://localhost:8080/"
        },
        "id": "q2oz4tysTjTE",
        "outputId": "6f0d451a-b9dc-47c7-a6b6-d852fa6be649"
      },
      "source": [
        "H = np.array([1, 0, 2, 5, -0.2, 2])\n",
        "H.shape"
      ],
      "execution_count": null,
      "outputs": [
        {
          "output_type": "execute_result",
          "data": {
            "text/plain": [
              "(6,)"
            ]
          },
          "metadata": {},
          "execution_count": 5
        }
      ]
    },
    {
      "cell_type": "code",
      "metadata": {
        "colab": {
          "base_uri": "https://localhost:8080/"
        },
        "id": "FA6cFpj6T6uy",
        "outputId": "369ab635-5fe2-4dfc-e65f-d69ac10362e9"
      },
      "source": [
        "A.size"
      ],
      "execution_count": null,
      "outputs": [
        {
          "output_type": "execute_result",
          "data": {
            "text/plain": [
              "2"
            ]
          },
          "metadata": {},
          "execution_count": 6
        }
      ]
    },
    {
      "cell_type": "code",
      "metadata": {
        "colab": {
          "base_uri": "https://localhost:8080/"
        },
        "id": "eMvDrY1dT9Fx",
        "outputId": "ecb19f96-992e-4b3d-fac1-5be471cb5260"
      },
      "source": [
        "H.size"
      ],
      "execution_count": null,
      "outputs": [
        {
          "output_type": "execute_result",
          "data": {
            "text/plain": [
              "6"
            ]
          },
          "metadata": {},
          "execution_count": 7
        }
      ]
    },
    {
      "cell_type": "code",
      "metadata": {
        "colab": {
          "base_uri": "https://localhost:8080/"
        },
        "id": "A0opYpZ_T-ze",
        "outputId": "b9082923-66ec-48a2-8849-33612885f828"
      },
      "source": [
        "B.size"
      ],
      "execution_count": null,
      "outputs": [
        {
          "output_type": "execute_result",
          "data": {
            "text/plain": [
              "2"
            ]
          },
          "metadata": {},
          "execution_count": 8
        }
      ]
    },
    {
      "cell_type": "code",
      "metadata": {
        "colab": {
          "base_uri": "https://localhost:8080/"
        },
        "id": "Cj16JCqvUA7j",
        "outputId": "f0abac07-7d50-4256-f3c7-f80abd44e4bf"
      },
      "source": [
        "C.size"
      ],
      "execution_count": null,
      "outputs": [
        {
          "output_type": "execute_result",
          "data": {
            "text/plain": [
              "3"
            ]
          },
          "metadata": {},
          "execution_count": 9
        }
      ]
    },
    {
      "cell_type": "code",
      "metadata": {
        "colab": {
          "base_uri": "https://localhost:8080/"
        },
        "id": "0MaHjF8eUKgw",
        "outputId": "78d32bbf-58b6-48be-f02f-baad421ec0c5"
      },
      "source": [
        "D.size"
      ],
      "execution_count": null,
      "outputs": [
        {
          "output_type": "execute_result",
          "data": {
            "text/plain": [
              "3"
            ]
          },
          "metadata": {},
          "execution_count": 10
        }
      ]
    },
    {
      "cell_type": "code",
      "metadata": {
        "colab": {
          "base_uri": "https://localhost:8080/"
        },
        "id": "J8SUPYDbUOCS",
        "outputId": "30b1ea7c-5ac2-4e15-eda5-5aa881515704"
      },
      "source": [
        "D.ndim"
      ],
      "execution_count": null,
      "outputs": [
        {
          "output_type": "execute_result",
          "data": {
            "text/plain": [
              "2"
            ]
          },
          "metadata": {},
          "execution_count": 11
        }
      ]
    },
    {
      "cell_type": "markdown",
      "metadata": {
        "id": "ilrP2NY7UftR"
      },
      "source": [
        "###Addition"
      ]
    },
    {
      "cell_type": "code",
      "metadata": {
        "colab": {
          "base_uri": "https://localhost:8080/"
        },
        "id": "2-msZ7a0UjKC",
        "outputId": "a7669969-b9fe-46ac-ebd9-ce4c9b440166"
      },
      "source": [
        "R = np.add(A, B)\n",
        "R"
      ],
      "execution_count": null,
      "outputs": [
        {
          "output_type": "execute_result",
          "data": {
            "text/plain": [
              "array([ 6, -2])"
            ]
          },
          "metadata": {},
          "execution_count": 12
        }
      ]
    },
    {
      "cell_type": "code",
      "metadata": {
        "colab": {
          "base_uri": "https://localhost:8080/"
        },
        "id": "I9OWSv89VCa8",
        "outputId": "bd3c6016-0f91-4a72-dba6-fbcfcaef805f"
      },
      "source": [
        "P = np.add(C, D)\n",
        "P"
      ],
      "execution_count": null,
      "outputs": [
        {
          "output_type": "execute_result",
          "data": {
            "text/plain": [
              "array([[6],\n",
              "       [1],\n",
              "       [1]])"
            ]
          },
          "metadata": {},
          "execution_count": 13
        }
      ]
    },
    {
      "cell_type": "code",
      "metadata": {
        "colab": {
          "base_uri": "https://localhost:8080/"
        },
        "id": "OC0TU5mCU2AN",
        "outputId": "ba9e5934-e124-464d-d4ff-52c5e5bf28bf"
      },
      "source": [
        "R = A + B\n",
        "R"
      ],
      "execution_count": null,
      "outputs": [
        {
          "output_type": "execute_result",
          "data": {
            "text/plain": [
              "array([ 6, -2])"
            ]
          },
          "metadata": {},
          "execution_count": 14
        }
      ]
    },
    {
      "cell_type": "code",
      "metadata": {
        "colab": {
          "base_uri": "https://localhost:8080/"
        },
        "id": "Dg8MMhrqV5lB",
        "outputId": "12165ac9-8a41-4231-bc29-44a6101d4b08"
      },
      "source": [
        "pos1 = np.array ([0,0,0])\n",
        "pos2 = np.array ([0,1,3])\n",
        "pos3 = np.array ([1,5,-2])\n",
        "pos4 = np.array ([5,-3,3])\n",
        "R = pos1 + pos2 + pos3 + pos4\n",
        "R"
      ],
      "execution_count": null,
      "outputs": [
        {
          "output_type": "execute_result",
          "data": {
            "text/plain": [
              "array([6, 3, 4])"
            ]
          },
          "metadata": {},
          "execution_count": 15
        }
      ]
    },
    {
      "cell_type": "code",
      "metadata": {
        "colab": {
          "base_uri": "https://localhost:8080/"
        },
        "id": "xz6QXfa9WVbu",
        "outputId": "25bdd5c3-575a-4367-d82c-70c0c251a5c5"
      },
      "source": [
        "R = pos1 - pos2\n",
        "R"
      ],
      "execution_count": null,
      "outputs": [
        {
          "output_type": "execute_result",
          "data": {
            "text/plain": [
              "array([ 0, -1, -3])"
            ]
          },
          "metadata": {},
          "execution_count": 16
        }
      ]
    },
    {
      "cell_type": "code",
      "metadata": {
        "colab": {
          "base_uri": "https://localhost:8080/"
        },
        "id": "gO4-K1oZWesb",
        "outputId": "3ae0f916-85a1-43dd-d8da-5b7701fdb28d"
      },
      "source": [
        "R = np.multiply(pos1, pos2)\n",
        "R"
      ],
      "execution_count": null,
      "outputs": [
        {
          "output_type": "execute_result",
          "data": {
            "text/plain": [
              "array([0, 0, 0])"
            ]
          },
          "metadata": {},
          "execution_count": 17
        }
      ]
    },
    {
      "cell_type": "code",
      "metadata": {
        "colab": {
          "base_uri": "https://localhost:8080/"
        },
        "id": "2cAFqvV_Wmzr",
        "outputId": "44274fc8-ca49-4ae9-c450-fb8e36b99a06"
      },
      "source": [
        "R = np.multiply(pos3, pos4)\n",
        "R"
      ],
      "execution_count": null,
      "outputs": [
        {
          "output_type": "execute_result",
          "data": {
            "text/plain": [
              "array([  5, -15,  -6])"
            ]
          },
          "metadata": {},
          "execution_count": 18
        }
      ]
    },
    {
      "cell_type": "code",
      "metadata": {
        "colab": {
          "base_uri": "https://localhost:8080/"
        },
        "id": "Yv92rMG-WqZY",
        "outputId": "0693c29b-379b-4c88-ad3f-477443b3b296"
      },
      "source": [
        "R = pos3 * pos4\n",
        "R"
      ],
      "execution_count": null,
      "outputs": [
        {
          "output_type": "execute_result",
          "data": {
            "text/plain": [
              "array([  5, -15,  -6])"
            ]
          },
          "metadata": {},
          "execution_count": 19
        }
      ]
    },
    {
      "cell_type": "code",
      "metadata": {
        "colab": {
          "base_uri": "https://localhost:8080/"
        },
        "id": "H03lo8X6WxlI",
        "outputId": "58b2fa8d-36d7-4f16-cb43-80e9c46fdd34"
      },
      "source": [
        "R = pos3 / pos4\n",
        "R"
      ],
      "execution_count": null,
      "outputs": [
        {
          "output_type": "execute_result",
          "data": {
            "text/plain": [
              "array([ 0.2       , -1.66666667, -0.66666667])"
            ]
          },
          "metadata": {},
          "execution_count": 20
        }
      ]
    },
    {
      "cell_type": "markdown",
      "metadata": {
        "id": "UXs2k9LjXCXi"
      },
      "source": [
        "###Try for yourself!"
      ]
    },
    {
      "cell_type": "markdown",
      "metadata": {
        "id": "POrSdridXJsj"
      },
      "source": [
        "DO WITH VECTORS A AND B"
      ]
    },
    {
      "cell_type": "code",
      "metadata": {
        "colab": {
          "base_uri": "https://localhost:8080/"
        },
        "id": "DfRvSm5hZRCn",
        "outputId": "99d88c75-09d9-4ce7-8c03-35516996ae90"
      },
      "source": [
        "R = np.add(A, B)\n",
        "R"
      ],
      "execution_count": null,
      "outputs": [
        {
          "output_type": "execute_result",
          "data": {
            "text/plain": [
              "array([2, 4])"
            ]
          },
          "metadata": {},
          "execution_count": 27
        }
      ]
    },
    {
      "cell_type": "code",
      "metadata": {
        "colab": {
          "base_uri": "https://localhost:8080/"
        },
        "id": "wZE8lOVBZU8T",
        "outputId": "2fea6de6-8cd4-472c-fc74-5a539e60aa36"
      },
      "source": [
        "R = A + B\n",
        "R"
      ],
      "execution_count": null,
      "outputs": [
        {
          "output_type": "execute_result",
          "data": {
            "text/plain": [
              "array([2, 4])"
            ]
          },
          "metadata": {},
          "execution_count": 28
        }
      ]
    },
    {
      "cell_type": "code",
      "metadata": {
        "colab": {
          "base_uri": "https://localhost:8080/"
        },
        "id": "MlWzUWvEZYXG",
        "outputId": "edd6c0e7-da8d-4d2e-9735-2c347c4234a9"
      },
      "source": [
        "R = A - B\n",
        "R"
      ],
      "execution_count": null,
      "outputs": [
        {
          "output_type": "execute_result",
          "data": {
            "text/plain": [
              "array([ 0, -6])"
            ]
          },
          "metadata": {},
          "execution_count": 30
        }
      ]
    },
    {
      "cell_type": "code",
      "metadata": {
        "colab": {
          "base_uri": "https://localhost:8080/"
        },
        "id": "eFVlqJmKZcmk",
        "outputId": "df6326b3-3994-4185-bb07-b2617a07fbf2"
      },
      "source": [
        "R = np.multiply(A, B)\n",
        "R"
      ],
      "execution_count": null,
      "outputs": [
        {
          "output_type": "execute_result",
          "data": {
            "text/plain": [
              "array([ 1, -5])"
            ]
          },
          "metadata": {},
          "execution_count": 31
        }
      ]
    },
    {
      "cell_type": "code",
      "metadata": {
        "colab": {
          "base_uri": "https://localhost:8080/"
        },
        "id": "PgfXZFu_Zgex",
        "outputId": "11e183af-a163-414e-fedc-3e107299f8a5"
      },
      "source": [
        "R = A * B\n",
        "R"
      ],
      "execution_count": null,
      "outputs": [
        {
          "output_type": "execute_result",
          "data": {
            "text/plain": [
              "array([ 1, -5])"
            ]
          },
          "metadata": {},
          "execution_count": 33
        }
      ]
    },
    {
      "cell_type": "code",
      "metadata": {
        "colab": {
          "base_uri": "https://localhost:8080/"
        },
        "id": "x2ZFXZcqZnvw",
        "outputId": "22c21fd5-a7af-4f8c-c01d-4ae800785e1c"
      },
      "source": [
        "R = A / B\n",
        "R"
      ],
      "execution_count": null,
      "outputs": [
        {
          "output_type": "execute_result",
          "data": {
            "text/plain": [
              "array([ 1. , -0.2])"
            ]
          },
          "metadata": {},
          "execution_count": 34
        }
      ]
    },
    {
      "cell_type": "markdown",
      "metadata": {
        "id": "8xvnvN4SXMKF"
      },
      "source": [
        "###Scaling"
      ]
    },
    {
      "cell_type": "code",
      "metadata": {
        "colab": {
          "base_uri": "https://localhost:8080/"
        },
        "id": "qoQimyRFXKgl",
        "outputId": "d4537cfe-be31-4344-cdc1-5e9ccdebd8f9"
      },
      "source": [
        "S = 5 * A\n",
        "S"
      ],
      "execution_count": null,
      "outputs": [
        {
          "output_type": "execute_result",
          "data": {
            "text/plain": [
              "array([20, 15])"
            ]
          },
          "metadata": {},
          "execution_count": 21
        }
      ]
    },
    {
      "cell_type": "code",
      "metadata": {
        "colab": {
          "base_uri": "https://localhost:8080/"
        },
        "id": "nbtTi2HxXX4u",
        "outputId": "69b5f419-bc27-4e63-94c7-9ece4b553f54"
      },
      "source": [
        "S = np.multiply(5, A)\n",
        "S"
      ],
      "execution_count": null,
      "outputs": [
        {
          "output_type": "execute_result",
          "data": {
            "text/plain": [
              "array([20, 15])"
            ]
          },
          "metadata": {},
          "execution_count": 22
        }
      ]
    },
    {
      "cell_type": "markdown",
      "metadata": {
        "id": "dQO8sGqqXgDF"
      },
      "source": [
        "SCALE A and B vectos HERE"
      ]
    },
    {
      "cell_type": "code",
      "metadata": {
        "colab": {
          "base_uri": "https://localhost:8080/"
        },
        "id": "Rl6uOCXAZuVQ",
        "outputId": "307fed9e-6a1f-48e9-c26a-02518d0885c6"
      },
      "source": [
        "S = 3 * A\n",
        "S"
      ],
      "execution_count": null,
      "outputs": [
        {
          "output_type": "execute_result",
          "data": {
            "text/plain": [
              "array([ 3, -3])"
            ]
          },
          "metadata": {},
          "execution_count": 35
        }
      ]
    },
    {
      "cell_type": "code",
      "metadata": {
        "colab": {
          "base_uri": "https://localhost:8080/"
        },
        "id": "xpxzXAL8Zxp4",
        "outputId": "9518e633-a4a8-4a84-a269-1653607adca1"
      },
      "source": [
        "S = 9 * B\n",
        "S"
      ],
      "execution_count": null,
      "outputs": [
        {
          "output_type": "execute_result",
          "data": {
            "text/plain": [
              "array([ 9, 45])"
            ]
          },
          "metadata": {},
          "execution_count": 36
        }
      ]
    },
    {
      "cell_type": "code",
      "metadata": {
        "colab": {
          "base_uri": "https://localhost:8080/"
        },
        "id": "Qb_oGUnEZ02T",
        "outputId": "2d96d89e-47bb-4539-9fbc-ba22f6bbe469"
      },
      "source": [
        "S = np.multiply(3, A)\n",
        "S"
      ],
      "execution_count": null,
      "outputs": [
        {
          "output_type": "execute_result",
          "data": {
            "text/plain": [
              "array([ 3, -3])"
            ]
          },
          "metadata": {},
          "execution_count": 37
        }
      ]
    },
    {
      "cell_type": "code",
      "metadata": {
        "colab": {
          "base_uri": "https://localhost:8080/"
        },
        "id": "eFQhKzJpZ3ml",
        "outputId": "332569e8-ddb8-458b-e979-d96a54151683"
      },
      "source": [
        "S = np.multiply(9, B)\n",
        "S"
      ],
      "execution_count": null,
      "outputs": [
        {
          "output_type": "execute_result",
          "data": {
            "text/plain": [
              "array([ 9, 45])"
            ]
          },
          "metadata": {},
          "execution_count": 38
        }
      ]
    },
    {
      "cell_type": "markdown",
      "metadata": {
        "id": "RpXvuxHdXo5i"
      },
      "source": [
        "###MatPlotLib"
      ]
    },
    {
      "cell_type": "markdown",
      "metadata": {
        "id": "ntvPgsVvXx0U"
      },
      "source": [
        "####Visualizing Data"
      ]
    },
    {
      "cell_type": "code",
      "metadata": {
        "id": "oBR7mDZ-X_Qy"
      },
      "source": [
        "import matplotlib.pyplot as plt\n",
        "import matplotlib\n",
        "%matplotlib inline"
      ],
      "execution_count": null,
      "outputs": []
    },
    {
      "cell_type": "code",
      "metadata": {
        "colab": {
          "base_uri": "https://localhost:8080/",
          "height": 265
        },
        "id": "DLd1sjnRYYiJ",
        "outputId": "f10ef40a-7dad-4f7f-b3c1-ef435df15d86"
      },
      "source": [
        "A = [1, -1]\n",
        "B = [1, 2]\n",
        "plt.plot(A, label='A')\n",
        "plt.plot(B, label='B')\n",
        "plt.legend()\n",
        "plt.show()"
      ],
      "execution_count": null,
      "outputs": [
        {
          "output_type": "display_data",
          "data": {
            "image/png": "[encoded data removed]",
            "text/plain": [
              "<Figure size 432x288 with 1 Axes>"
            ]
          },
          "metadata": {
            "needs_background": "light"
          }
        }
      ]
    },
    {
      "cell_type": "code",
      "metadata": {
        "colab": {
          "base_uri": "https://localhost:8080/",
          "height": 265
        },
        "id": "15Nb3SHgYcfw",
        "outputId": "56a68730-7d9a-4e7b-90d0-b62906982239"
      },
      "source": [
        "A = [1, -1]\n",
        "B = [5, 2]\n",
        "plt.scatter(A[0], A[1], label='A', c = 'green')\n",
        "plt.scatter(B[0], B[1], label='B', c = 'magenta')\n",
        "plt.grid()\n",
        "plt.legend()\n",
        "plt.show()"
      ],
      "execution_count": null,
      "outputs": [
        {
          "output_type": "display_data",
          "data": {
            "image/png": "[encoded data removed]",
            "text/plain": [
              "<Figure size 432x288 with 1 Axes>"
            ]
          },
          "metadata": {
            "needs_background": "light"
          }
        }
      ]
    },
    {
      "cell_type": "code",
      "metadata": {
        "colab": {
          "base_uri": "https://localhost:8080/",
          "height": 347
        },
        "id": "7jKtSQIHaf5G",
        "outputId": "d5e7832f-b085-42e8-c222-0484a4a1b77c"
      },
      "source": [
        "A = np.array([1, -1])\n",
        "B = np.array([1, 5])\n",
        "\n",
        "Magnitude = np.sqrt(np.sum(R**2))\n",
        "plt.title(\"Resultant Vector \\n Magnitude:{}\" .format(Magnitude))\n",
        "plt.xlim(-5, 5)\n",
        "plt.ylim(-5, 5)\n",
        "plt.quiver(0, 0, A[0], A[1], angles='xy', scale_units='xy', scale=1, color='red')\n",
        "plt.quiver(A[0], A[1], B[0], B[1], angles='xy', scale_units='xy', scale=1, color='green')\n",
        "R = A + B\n",
        "plt.quiver(0, 0, R[0], R[1], angles='xy', scale_units='xy', scale=1, color='black')\n",
        "\n",
        "plt.grid()\n",
        "plt.show()\n",
        "\n",
        "Magnitude = np.sqrt(np.sum(R**2))\n",
        "print('Magnitude is ', Magnitude)\n",
        "\n",
        "Slope = R[1]/R[0]\n",
        "print('Slope is ', Slope)\n",
        "\n",
        "Angle = (np.arctan(Slope))*(180/np.pi)\n",
        "print('Angele is ', Angle)"
      ],
      "execution_count": null,
      "outputs": [
        {
          "output_type": "display_data",
          "data": {
            "image/png": "[encoded data removed]",
            "text/plain": [
              "<Figure size 432x288 with 1 Axes>"
            ]
          },
          "metadata": {
            "needs_background": "light"
          }
        },
        {
          "output_type": "stream",
          "name": "stdout",
          "text": [
            "Magnitude is  4.47213595499958\n",
            "Slope is  2.0\n",
            "Angele is  63.43494882292201\n"
          ]
        }
      ]
    },
    {
      "cell_type": "markdown",
      "metadata": {
        "id": "v26vppbZhPAm"
      },
      "source": [
        "Try plotting Three Vectors and show the Resultant Vector as a result.\n",
        "Use Head to Tail Method."
      ]
    },
    {
      "cell_type": "code",
      "metadata": {
        "colab": {
          "base_uri": "https://localhost:8080/",
          "height": 347
        },
        "id": "dKtHKKUiaG8N",
        "outputId": "046ce024-faac-40bc-87ff-78afff20784f"
      },
      "source": [
        "A = np.array([-3, 3])\n",
        "B = np.array([6, -2])\n",
        "C = np.array([1, 2])\n",
        "\n",
        "Magnitude = np.sqrt(np.sum(R**2))\n",
        "plt.title(\"Resultant Vector \\n Magnitude:{}\" .format(Magnitude))\n",
        "plt.xlim(-5, 5)\n",
        "plt.ylim(-5, 5)\n",
        "plt.quiver(0, 0, A[0], A[1], angles='xy', scale_units='xy', scale=1, color='red')\n",
        "plt.quiver(A[0], A[1], B[0], B[1], angles='xy', scale_units='xy', scale=1, color='green')\n",
        "plt.quiver(3, 1, C[0], C[1], angles='xy', scale_units='xy', scale=1, color='yellow')\n",
        "\n",
        "R = A + B + C\n",
        "plt.quiver(0, 0, R[0], R[1], angles='xy', scale_units='xy', scale=1, color='black')\n",
        "\n",
        "plt.grid()\n",
        "plt.show()\n",
        "\n",
        "Magnitude = np.sqrt(np.sum(R**2))\n",
        "print('Magnitude is ', Magnitude)\n",
        "\n",
        "Slope = R[1]/R[0]\n",
        "print('Slope is ', Slope)\n",
        "\n",
        "Angle = (np.arctan(Slope))*(180/np.pi)\n",
        "print('Angele is ', Angle)"
      ],
      "execution_count": null,
      "outputs": [
        {
          "output_type": "display_data",
          "data": {
            "image/png": "[encoded data removed]",
            "text/plain": [
              "<Figure size 432x288 with 1 Axes>"
            ]
          },
          "metadata": {
            "needs_background": "light"
          }
        },
        {
          "output_type": "stream",
          "name": "stdout",
          "text": [
            "Magnitude is  5.0\n",
            "Slope is  0.75\n",
            "Angele is  36.86989764584402\n"
          ]
        }
      ]
    }
  ]
}