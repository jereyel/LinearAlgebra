{
  "nbformat": 4,
  "nbformat_minor": 0,
  "metadata": {
    "colab": {
      "name": "assignmnet10.ipynb",
      "provenance": [],
      "authorship_tag": "ABX9TyPRLmlJzBE0oyH9RRD5fhqK",
      "include_colab_link": true
    },
    "kernelspec": {
      "name": "python3",
      "display_name": "Python 3"
    },
    "language_info": {
      "name": "python"
    }
  },
  "cells": [
    {
      "cell_type": "markdown",
      "metadata": {
        "id": "view-in-github",
        "colab_type": "text"
      },
      "source": [
        "<a href=\"https://colab.research.google.com/github/jereyel/LinearAlgebra/blob/main/assignmnet10.ipynb\" target=\"_parent\"><img src=\"https://colab.research.google.com/assets/colab-badge.svg\" alt=\"Open In Colab\"/></a>"
      ]
    },
    {
      "cell_type": "markdown",
      "metadata": {
        "id": "wG4VhYyiTAxj"
      },
      "source": [
        "##Laboratory 10: Linear Combination and Vector Spaces"
      ]
    },
    {
      "cell_type": "markdown",
      "metadata": {
        "id": "V1AuHsf-TN1I"
      },
      "source": [
        "###Objectives"
      ]
    },
    {
      "cell_type": "markdown",
      "metadata": {
        "id": "Ar1S6q2PTfzA"
      },
      "source": [
        "1. Be familiar with representing linear combinations in the 2-dimensional plane.\n",
        "2. Visualize spans using vector fields in Python.\n",
        "3. Perform vector fields operations using scientific programming."
      ]
    },
    {
      "cell_type": "markdown",
      "metadata": {
        "id": "Ce-qOjw-TKT8"
      },
      "source": [
        "###Discussion"
      ]
    },
    {
      "cell_type": "code",
      "metadata": {
        "id": "TYnUM6M9SdM1"
      },
      "source": [
        "import numpy as np\n",
        "import matplotlib.pyplot as plt\n",
        "%matplotlib inline"
      ],
      "execution_count": null,
      "outputs": []
    },
    {
      "cell_type": "markdown",
      "metadata": {
        "id": "q4u5QX1FTYXV"
      },
      "source": [
        "####Linear Combination\n"
      ]
    },
    {
      "cell_type": "markdown",
      "metadata": {
        "id": "SflXN0WATvkj"
      },
      "source": [
        "$$X = \\begin{bmatrix} 2\\\\5 \\\\\\end{bmatrix} , Y = \\begin{bmatrix} 7\\\\9 \\\\\\end{bmatrix} $$"
      ]
    },
    {
      "cell_type": "code",
      "metadata": {
        "colab": {
          "base_uri": "https://localhost:8080/"
        },
        "id": "bLdwLecITbjd",
        "outputId": "6432575f-eee6-49e1-a466-78375d7ab714"
      },
      "source": [
        "vectX = np.array([2,5])\n",
        "vectY = np.array([7,9])\n",
        "vectX"
      ],
      "execution_count": null,
      "outputs": [
        {
          "output_type": "execute_result",
          "data": {
            "text/plain": [
              "array([2, 5])"
            ]
          },
          "metadata": {},
          "execution_count": 3
        }
      ]
    },
    {
      "cell_type": "markdown",
      "metadata": {
        "id": "AqFqEkauUNva"
      },
      "source": [
        "####Span of single vectors"
      ]
    },
    {
      "cell_type": "markdown",
      "metadata": {
        "id": "ej-eb6eGUY59"
      },
      "source": [
        "$$X = c\\cdot \\begin{bmatrix} 2\\\\5 \\\\\\end{bmatrix} $$\n"
      ]
    },
    {
      "cell_type": "code",
      "metadata": {
        "colab": {
          "base_uri": "https://localhost:8080/",
          "height": 269
        },
        "id": "kVfQMjiWT0WK",
        "outputId": "37f0e28a-aee4-470c-ed52-66bd6e366791"
      },
      "source": [
        "c = np.arange(-10,10,0.125)\n",
        "\n",
        "plt.scatter(c*vectX[0],c*vectX[1])\n",
        "\n",
        "\n",
        "plt.xlim(-10,10)\n",
        "plt.ylim(-10,10)\n",
        "plt.axhline(y=0, color='k')\n",
        "plt.axvline(x=0, color='k')\n",
        "plt.grid()\n",
        "plt.show()"
      ],
      "execution_count": null,
      "outputs": [
        {
          "output_type": "display_data",
          "data": {
            "image/png": "[encoded data removed]",
            "text/plain": [
              "<Figure size 432x288 with 1 Axes>"
            ]
          },
          "metadata": {
            "needs_background": "light"
          }
        }
      ]
    },
    {
      "cell_type": "markdown",
      "metadata": {
        "id": "S3Tyuo7xW-yz"
      },
      "source": [
        "$$Y = c\\cdot \\begin{bmatrix} 7\\\\9 \\\\\\end{bmatrix} $$\n"
      ]
    },
    {
      "cell_type": "code",
      "metadata": {
        "colab": {
          "base_uri": "https://localhost:8080/",
          "height": 269
        },
        "id": "GnM49lw5XCjM",
        "outputId": "126491f8-022e-4806-a675-59c4d70c075c"
      },
      "source": [
        "c = np.arange(-15,15,0.5)\n",
        "\n",
        "plt.scatter(c*vectY[0],c*vectY[1])\n",
        "\n",
        "\n",
        "plt.xlim(-20,20)\n",
        "plt.ylim(-20,20)\n",
        "plt.axhline(y=0, color='k')\n",
        "plt.axvline(x=0, color='k')\n",
        "plt.grid()\n",
        "plt.show()"
      ],
      "execution_count": null,
      "outputs": [
        {
          "output_type": "display_data",
          "data": {
            "image/png": "[encoded data removed]",
            "text/plain": [
              "<Figure size 432x288 with 1 Axes>"
            ]
          },
          "metadata": {
            "needs_background": "light"
          }
        }
      ]
    },
    {
      "cell_type": "markdown",
      "metadata": {
        "id": "XVYcwWLfWUio"
      },
      "source": [
        "####Span of a linear combination of vectors"
      ]
    },
    {
      "cell_type": "markdown",
      "metadata": {
        "id": "7gKGVRGSWche"
      },
      "source": [
        "$$S = \\begin{Bmatrix} c_1 \\cdot\\begin{bmatrix} 1\\\\0 \\\\\\end{bmatrix}, \n",
        "c_2 \\cdot \\begin{bmatrix} 1\\\\-1 \\\\\\end{bmatrix}\\end{Bmatrix} $$"
      ]
    },
    {
      "cell_type": "code",
      "metadata": {
        "id": "HfacrQViWc4p",
        "colab": {
          "base_uri": "https://localhost:8080/",
          "height": 265
        },
        "outputId": "868690b8-6479-45e7-ffff-a294b3493194"
      },
      "source": [
        "vectA = np.array([1,0])\n",
        "vectB = np.array([1,-1])\n",
        "\n",
        "R = np.arange(-10,10,1)\n",
        "\n",
        "c1, c2 = np.meshgrid(R,R)\n",
        "\n",
        "vectR = vectA + vectB\n",
        "spanRx = c1*vectA[0] + c2*vectB[0]\n",
        "spanRy = c1*vectA[1] + c2*vectB[1]\n",
        "##plt.scatter(R*vectA[0],R*vectA[1])\n",
        "##plt.scatter(R*vectB[0],R*vectB[1])\n",
        "plt.scatter(spanRx,spanRy, s=5, alpha=0.75)\n",
        "\n",
        "plt.axhline(y=0, color='k')\n",
        "plt.axvline(x=0, color='k')\n",
        "plt.grid()\n",
        "plt.show()"
      ],
      "execution_count": null,
      "outputs": [
        {
          "output_type": "display_data",
          "data": {
            "image/png": "[encoded data removed]",
            "text/plain": [
              "<Figure size 432x288 with 1 Axes>"
            ]
          },
          "metadata": {
            "needs_background": "light"
          }
        }
      ]
    },
    {
      "cell_type": "markdown",
      "metadata": {
        "id": "AanEMvwAdk2E"
      },
      "source": [
        "####Task"
      ]
    },
    {
      "cell_type": "markdown",
      "metadata": {
        "id": "UeidP9XWHf82"
      },
      "source": [
        "$$4x- y -8 = 0 $$\n"
      ]
    },
    {
      "cell_type": "code",
      "metadata": {
        "id": "t3nQa-XiduBu",
        "colab": {
          "base_uri": "https://localhost:8080/",
          "height": 265
        },
        "outputId": "f723ad72-695c-4b7a-da53-4446b7ed90a4"
      },
      "source": [
        "vectJER = np.array([2,1])\n",
        "vectEYEL = np.array([-3,-4])\n",
        "\n",
        "RR = np.arange(-30,30,1)\n",
        "\n",
        "a1, a2 = np.meshgrid(RR,RR)\n",
        "\n",
        "vectDR = vectJER + vectEYEL\n",
        "spanRx = a1*vectJER[0] + a2*vectEYEL[0]\n",
        "spanRy = a1*vectJER[1] + a2*vectEYEL[1]\n",
        "plt.scatter(spanRx,spanRy, s=5, alpha=0.75)\n",
        "\n",
        "plt.axhline(y=0, color='c')\n",
        "plt.axvline(x=0, color='m')\n",
        "plt.grid()\n",
        "plt.show()"
      ],
      "execution_count": null,
      "outputs": [
        {
          "output_type": "display_data",
          "data": {
            "image/png": "[encoded data removed]",
            "text/plain": [
              "<Figure size 432x288 with 1 Axes>"
            ]
          },
          "metadata": {
            "needs_background": "light"
          }
        }
      ]
    },
    {
      "cell_type": "markdown",
      "metadata": {
        "id": "u66lrqLLdps5"
      },
      "source": [
        "####Conclusion"
      ]
    },
    {
      "cell_type": "markdown",
      "metadata": {
        "id": "x0MnuUp-dsdU"
      },
      "source": [
        "In many way, linear combination can be useful without us noticing. For example, linear combination can be used to compare something, rates of pay for example, to compare which is better in relation of time. If one company offers to pay 22,500php per week and the other offers 500php per hour, and both ask to work 40 hours per week, which company is offering the better rate of pay? With the use of linear combination, the first company's offer is expressed as 22500 = 40x. The second company's offer is expressed as y = 500(40). After comparing the two offers, the equations tells that the first company is offering better rate of pay at 562.50php per hour."
      ]
    }
  ]
}