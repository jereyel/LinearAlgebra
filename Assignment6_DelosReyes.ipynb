{
  "nbformat": 4,
  "nbformat_minor": 0,
  "metadata": {
    "colab": {
      "name": "Assignment6_DelosReyes.ipynb",
      "provenance": [],
      "include_colab_link": true
    },
    "kernelspec": {
      "name": "python3",
      "display_name": "Python 3"
    },
    "language_info": {
      "name": "python"
    }
  },
  "cells": [
    {
      "cell_type": "markdown",
      "metadata": {
        "id": "view-in-github",
        "colab_type": "text"
      },
      "source": [
        "<a href=\"https://colab.research.google.com/github/jereyel/LinearAlgebra/blob/main/Assignment6_DelosReyes.ipynb\" target=\"_parent\"><img src=\"https://colab.research.google.com/assets/colab-badge.svg\" alt=\"Open In Colab\"/></a>"
      ]
    },
    {
      "cell_type": "markdown",
      "metadata": {
        "id": "fi2yRG-jEpde"
      },
      "source": [
        "#Jereyel D. Delos Reyes\n",
        "\n",
        "---\n",
        "LINEAR ALGEBRA FOR ELECTRONICS ENGINEERING LAB 1800-2100 Wed\n"
      ]
    },
    {
      "cell_type": "markdown",
      "metadata": {
        "id": "omP0HgKtFTP0"
      },
      "source": [
        "##Objectives"
      ]
    },
    {
      "cell_type": "markdown",
      "metadata": {
        "id": "DwDiPdREFTLD"
      },
      "source": [
        "++ To be familiarized with the fundamentals of matricex operations. \n",
        "\n",
        "++ Apply the operations to solve intermediate equations.\n",
        "\n",
        "++ Apply matrix algebra in engineering solutions."
      ]
    },
    {
      "cell_type": "markdown",
      "metadata": {
        "id": "HPzTNKseFAl0"
      },
      "source": [
        "###Discussion"
      ]
    },
    {
      "cell_type": "code",
      "metadata": {
        "id": "-U4MGZp2H2et"
      },
      "source": [
        "import numpy as np\n",
        "import matplotlib.pyplot as plt\n",
        "%matplotlib inline"
      ],
      "execution_count": 62,
      "outputs": []
    },
    {
      "cell_type": "markdown",
      "metadata": {
        "id": "aJKnuDWIITM7"
      },
      "source": [
        "###Transposition"
      ]
    },
    {
      "cell_type": "markdown",
      "metadata": {
        "id": "SEymu14EKdlL"
      },
      "source": [
        "$$\n",
        "A = \\begin{bmatrix} 1 & 2 & 5\\\\5 & -1 &0 \\\\ 0 & -3 & 3\\end{bmatrix} $$\n",
        "$A^T$"
      ]
    },
    {
      "cell_type": "code",
      "metadata": {
        "id": "PQwkm9lHJIz_",
        "colab": {
          "base_uri": "https://localhost:8080/"
        },
        "outputId": "ba7702ca-182d-480a-af92-303d98941236"
      },
      "source": [
        "A = np.array([\n",
        "              [1,2,5],\n",
        "              [5,-1,0],\n",
        "              [0,-3,3]\n",
        "])\n",
        "\n",
        "A"
      ],
      "execution_count": 63,
      "outputs": [
        {
          "output_type": "execute_result",
          "data": {
            "text/plain": [
              "array([[ 1,  2,  5],\n",
              "       [ 5, -1,  0],\n",
              "       [ 0, -3,  3]])"
            ]
          },
          "metadata": {},
          "execution_count": 63
        }
      ]
    },
    {
      "cell_type": "code",
      "metadata": {
        "colab": {
          "base_uri": "https://localhost:8080/"
        },
        "id": "5FftyoZxKibe",
        "outputId": "4d227d99-ea3a-4740-bcbb-19fff0fcf801"
      },
      "source": [
        "AT1 = np.transpose(A)\n",
        "AT1"
      ],
      "execution_count": 64,
      "outputs": [
        {
          "output_type": "execute_result",
          "data": {
            "text/plain": [
              "array([[ 1,  5,  0],\n",
              "       [ 2, -1, -3],\n",
              "       [ 5,  0,  3]])"
            ]
          },
          "metadata": {},
          "execution_count": 64
        }
      ]
    },
    {
      "cell_type": "code",
      "metadata": {
        "colab": {
          "base_uri": "https://localhost:8080/"
        },
        "id": "ttzpJo8LKotQ",
        "outputId": "7ae95ca4-2310-46f0-b709-b4581ff407f0"
      },
      "source": [
        "AT2 = A.T\n",
        "AT2"
      ],
      "execution_count": 65,
      "outputs": [
        {
          "output_type": "execute_result",
          "data": {
            "text/plain": [
              "array([[ 1,  5,  0],\n",
              "       [ 2, -1, -3],\n",
              "       [ 5,  0,  3]])"
            ]
          },
          "metadata": {},
          "execution_count": 65
        }
      ]
    },
    {
      "cell_type": "code",
      "metadata": {
        "colab": {
          "base_uri": "https://localhost:8080/"
        },
        "id": "1OcdoBPxKruk",
        "outputId": "b4f41e08-bebb-489f-8d3e-5400290e4580"
      },
      "source": [
        "np.array_equiv(AT1,AT2)"
      ],
      "execution_count": 66,
      "outputs": [
        {
          "output_type": "execute_result",
          "data": {
            "text/plain": [
              "True"
            ]
          },
          "metadata": {},
          "execution_count": 66
        }
      ]
    },
    {
      "cell_type": "code",
      "metadata": {
        "colab": {
          "base_uri": "https://localhost:8080/"
        },
        "id": "Ib5XIrAmKzJx",
        "outputId": "6eb7ca5d-6efc-4f69-f9f8-0aa9c7f58413"
      },
      "source": [
        "B = np.array([\n",
        "              [1,2,3,4],\n",
        "              [1,0,2,1],\n",
        "])\n",
        "\n",
        "B.shape"
      ],
      "execution_count": 67,
      "outputs": [
        {
          "output_type": "execute_result",
          "data": {
            "text/plain": [
              "(2, 4)"
            ]
          },
          "metadata": {},
          "execution_count": 67
        }
      ]
    },
    {
      "cell_type": "code",
      "metadata": {
        "colab": {
          "base_uri": "https://localhost:8080/"
        },
        "id": "-_bsR6KgK5j4",
        "outputId": "8f4bc751-7bdb-444f-eadd-9737cd03952e"
      },
      "source": [
        "np.transpose(B).shape"
      ],
      "execution_count": 68,
      "outputs": [
        {
          "output_type": "execute_result",
          "data": {
            "text/plain": [
              "(4, 2)"
            ]
          },
          "metadata": {},
          "execution_count": 68
        }
      ]
    },
    {
      "cell_type": "code",
      "metadata": {
        "colab": {
          "base_uri": "https://localhost:8080/"
        },
        "id": "tCW0XX9kLNFd",
        "outputId": "488b4daf-220a-4207-dce8-9c3064ebb6a0"
      },
      "source": [
        "B.T.shape"
      ],
      "execution_count": 69,
      "outputs": [
        {
          "output_type": "execute_result",
          "data": {
            "text/plain": [
              "(4, 2)"
            ]
          },
          "metadata": {},
          "execution_count": 69
        }
      ]
    },
    {
      "cell_type": "code",
      "metadata": {
        "colab": {
          "base_uri": "https://localhost:8080/"
        },
        "id": "AAmhkbnQLfeO",
        "outputId": "9d6c916b-3cac-412e-9459-7c1546062274"
      },
      "source": [
        "C = np.array([\n",
        "              [1,3,7],\n",
        "              [2,4,6]\n",
        "])\n",
        "\n",
        "C.shape"
      ],
      "execution_count": 70,
      "outputs": [
        {
          "output_type": "execute_result",
          "data": {
            "text/plain": [
              "(2, 3)"
            ]
          },
          "metadata": {},
          "execution_count": 70
        }
      ]
    },
    {
      "cell_type": "code",
      "metadata": {
        "colab": {
          "base_uri": "https://localhost:8080/"
        },
        "id": "u6Xv2MX6Lri4",
        "outputId": "7e561b91-2cbc-4926-bfaa-eef84adbaef0"
      },
      "source": [
        "np.transpose(C).shape"
      ],
      "execution_count": 71,
      "outputs": [
        {
          "output_type": "execute_result",
          "data": {
            "text/plain": [
              "(3, 2)"
            ]
          },
          "metadata": {},
          "execution_count": 71
        }
      ]
    },
    {
      "cell_type": "code",
      "metadata": {
        "colab": {
          "base_uri": "https://localhost:8080/"
        },
        "id": "u12v9axiLzO5",
        "outputId": "9b69602d-5182-46a5-caf3-5deec5f16e68"
      },
      "source": [
        "C.T.shape"
      ],
      "execution_count": 72,
      "outputs": [
        {
          "output_type": "execute_result",
          "data": {
            "text/plain": [
              "(3, 2)"
            ]
          },
          "metadata": {},
          "execution_count": 72
        }
      ]
    },
    {
      "cell_type": "markdown",
      "metadata": {
        "id": "PPpp3W4zI_1S"
      },
      "source": [
        "###Dot Product / Inner Product"
      ]
    },
    {
      "cell_type": "code",
      "metadata": {
        "id": "l2Hvhn2rOJOU"
      },
      "source": [
        "X = np.array([\n",
        "    [1,2],\n",
        "    [0,1]\n",
        "])\n",
        "Y = np.array([\n",
        "    [-1,0],\n",
        "    [2,2]\n",
        "])"
      ],
      "execution_count": 73,
      "outputs": []
    },
    {
      "cell_type": "code",
      "metadata": {
        "colab": {
          "base_uri": "https://localhost:8080/"
        },
        "id": "o6E7uZBDOeu2",
        "outputId": "d240be9d-ee0c-40f3-99d7-7b3a5461aea1"
      },
      "source": [
        "X.dot(Y)"
      ],
      "execution_count": 74,
      "outputs": [
        {
          "output_type": "execute_result",
          "data": {
            "text/plain": [
              "array([[3, 4],\n",
              "       [2, 2]])"
            ]
          },
          "metadata": {},
          "execution_count": 74
        }
      ]
    },
    {
      "cell_type": "code",
      "metadata": {
        "colab": {
          "base_uri": "https://localhost:8080/"
        },
        "id": "L8I4Y4b9Og8I",
        "outputId": "7f31212f-85cc-4a32-a741-b64fa95765cc"
      },
      "source": [
        "X @ Y"
      ],
      "execution_count": 75,
      "outputs": [
        {
          "output_type": "execute_result",
          "data": {
            "text/plain": [
              "array([[3, 4],\n",
              "       [2, 2]])"
            ]
          },
          "metadata": {},
          "execution_count": 75
        }
      ]
    },
    {
      "cell_type": "code",
      "metadata": {
        "colab": {
          "base_uri": "https://localhost:8080/"
        },
        "id": "uN0cpkv-Oi6I",
        "outputId": "8b690223-db20-4bd2-9e51-ea4110516944"
      },
      "source": [
        "np.matmul(X,Y)"
      ],
      "execution_count": 76,
      "outputs": [
        {
          "output_type": "execute_result",
          "data": {
            "text/plain": [
              "array([[3, 4],\n",
              "       [2, 2]])"
            ]
          },
          "metadata": {},
          "execution_count": 76
        }
      ]
    },
    {
      "cell_type": "code",
      "metadata": {
        "id": "Injm1HNEOsBs"
      },
      "source": [
        "J = np.array([\n",
        "              [1,2,3],\n",
        "              [5,7,9],\n",
        "              [4,6,8]\n",
        "])\n",
        "N = np.array([\n",
        "              [1,3,7],\n",
        "              [5,6,9],\n",
        "              [2,4,8]\n",
        "])"
      ],
      "execution_count": 77,
      "outputs": []
    },
    {
      "cell_type": "code",
      "metadata": {
        "colab": {
          "base_uri": "https://localhost:8080/"
        },
        "id": "LBOp6rFfO0PB",
        "outputId": "b3bb8ecd-1365-4de1-893a-1b812ae92a63"
      },
      "source": [
        "J.dot(N)"
      ],
      "execution_count": 78,
      "outputs": [
        {
          "output_type": "execute_result",
          "data": {
            "text/plain": [
              "array([[ 17,  27,  49],\n",
              "       [ 58,  93, 170],\n",
              "       [ 50,  80, 146]])"
            ]
          },
          "metadata": {},
          "execution_count": 78
        }
      ]
    },
    {
      "cell_type": "code",
      "metadata": {
        "colab": {
          "base_uri": "https://localhost:8080/"
        },
        "id": "x3rwZ3LHPGlU",
        "outputId": "67f96762-4e95-4d96-8712-6cfee8d875ba"
      },
      "source": [
        "J @ N"
      ],
      "execution_count": 79,
      "outputs": [
        {
          "output_type": "execute_result",
          "data": {
            "text/plain": [
              "array([[ 17,  27,  49],\n",
              "       [ 58,  93, 170],\n",
              "       [ 50,  80, 146]])"
            ]
          },
          "metadata": {},
          "execution_count": 79
        }
      ]
    },
    {
      "cell_type": "code",
      "metadata": {
        "colab": {
          "base_uri": "https://localhost:8080/"
        },
        "id": "jC-ft4MjPJWu",
        "outputId": "2514bb4b-a36e-4d1c-b91e-69a514fdce51"
      },
      "source": [
        "np.matmul(J,N)"
      ],
      "execution_count": 80,
      "outputs": [
        {
          "output_type": "execute_result",
          "data": {
            "text/plain": [
              "array([[ 17,  27,  49],\n",
              "       [ 58,  93, 170],\n",
              "       [ 50,  80, 146]])"
            ]
          },
          "metadata": {},
          "execution_count": 80
        }
      ]
    },
    {
      "cell_type": "code",
      "metadata": {
        "colab": {
          "base_uri": "https://localhost:8080/"
        },
        "id": "ieHHMwqARQhK",
        "outputId": "a75e8550-d763-495b-f2d0-cdfbe3aa5e40"
      },
      "source": [
        "A = np.array([\n",
        "              [2,4,4],\n",
        "              [5,-2,7],\n",
        "              [0,1,1]\n",
        "])\n",
        "\n",
        "B = np.array([\n",
        "              [1,1,8],\n",
        "              [3,3,3],\n",
        "              [-1,-2,8]\n",
        "])\n",
        "\n",
        "C = np.array([\n",
        "              [9,1,1],\n",
        "              [1,1,2],\n",
        "              [1,2,3]\n",
        "])\n",
        "\n",
        "print(A.shape)\n",
        "print(B.shape)\n",
        "print(C.shape)"
      ],
      "execution_count": 81,
      "outputs": [
        {
          "output_type": "stream",
          "name": "stdout",
          "text": [
            "(3, 3)\n",
            "(3, 3)\n",
            "(3, 3)\n"
          ]
        }
      ]
    },
    {
      "cell_type": "code",
      "metadata": {
        "id": "MHN8pkfgQWBD"
      },
      "source": [
        "A5 = A @ B"
      ],
      "execution_count": 82,
      "outputs": []
    },
    {
      "cell_type": "code",
      "metadata": {
        "id": "bR6QydaYQa_6"
      },
      "source": [
        "A6 = B @ A"
      ],
      "execution_count": 83,
      "outputs": []
    },
    {
      "cell_type": "code",
      "metadata": {
        "colab": {
          "base_uri": "https://localhost:8080/"
        },
        "id": "aehMvcEYQg2Q",
        "outputId": "7df3378d-b4ed-4f70-d1de-a8fbde0fc4e6"
      },
      "source": [
        "np.array_equal(A5, A6)"
      ],
      "execution_count": 84,
      "outputs": [
        {
          "output_type": "execute_result",
          "data": {
            "text/plain": [
              "False"
            ]
          },
          "metadata": {},
          "execution_count": 84
        }
      ]
    },
    {
      "cell_type": "code",
      "metadata": {
        "id": "Dam0SOrkQmkb"
      },
      "source": [
        "A7 = A @ (B @ C) "
      ],
      "execution_count": 85,
      "outputs": []
    },
    {
      "cell_type": "code",
      "metadata": {
        "id": "m6CZkCtgQ3GO"
      },
      "source": [
        "A8 = (A @ B) @ C"
      ],
      "execution_count": 86,
      "outputs": []
    },
    {
      "cell_type": "code",
      "metadata": {
        "colab": {
          "base_uri": "https://localhost:8080/"
        },
        "id": "jVfhCau_Q70_",
        "outputId": "832979b0-2114-48ae-b4f8-76f6250ceab1"
      },
      "source": [
        "np.array_equal(A7, A8)"
      ],
      "execution_count": 87,
      "outputs": [
        {
          "output_type": "execute_result",
          "data": {
            "text/plain": [
              "True"
            ]
          },
          "metadata": {},
          "execution_count": 87
        }
      ]
    },
    {
      "cell_type": "code",
      "metadata": {
        "id": "gyKrCSSqORD3"
      },
      "source": [
        "A1 = A @ (B + C)"
      ],
      "execution_count": 88,
      "outputs": []
    },
    {
      "cell_type": "code",
      "metadata": {
        "id": "QwpNE8qIOUhe"
      },
      "source": [
        "A2 = (A @ B) + (A @ C)"
      ],
      "execution_count": 89,
      "outputs": []
    },
    {
      "cell_type": "code",
      "metadata": {
        "colab": {
          "base_uri": "https://localhost:8080/"
        },
        "id": "wyB5JzjVObO1",
        "outputId": "63cd0fc1-cfc0-4727-c740-7caed9284c04"
      },
      "source": [
        "np.array_equal(A1, A2)"
      ],
      "execution_count": 90,
      "outputs": [
        {
          "output_type": "execute_result",
          "data": {
            "text/plain": [
              "True"
            ]
          },
          "metadata": {},
          "execution_count": 90
        }
      ]
    },
    {
      "cell_type": "code",
      "metadata": {
        "id": "fCz4oux2O_7X"
      },
      "source": [
        "A3 = (B + C) @ A"
      ],
      "execution_count": 91,
      "outputs": []
    },
    {
      "cell_type": "code",
      "metadata": {
        "id": "N24dVHlqPmTg"
      },
      "source": [
        "A4 = (B @ A) + (C @ A)"
      ],
      "execution_count": 92,
      "outputs": []
    },
    {
      "cell_type": "code",
      "metadata": {
        "colab": {
          "base_uri": "https://localhost:8080/"
        },
        "id": "nz3qHCptP1uc",
        "outputId": "0d9ffeb8-3658-4793-efce-85e5d1034813"
      },
      "source": [
        "np.array_equiv(A1, A2)"
      ],
      "execution_count": 93,
      "outputs": [
        {
          "output_type": "execute_result",
          "data": {
            "text/plain": [
              "True"
            ]
          },
          "metadata": {},
          "execution_count": 93
        }
      ]
    },
    {
      "cell_type": "code",
      "metadata": {
        "colab": {
          "base_uri": "https://localhost:8080/"
        },
        "id": "RGIRcmO_SYxY",
        "outputId": "e0969b16-5f18-43a3-d756-14f7c8020624"
      },
      "source": [
        "X = np.array([\n",
        "              [1,2,3,0]\n",
        "])\n",
        "Y = np.array([\n",
        "              [1,0,4,-1]\n",
        "])\n",
        "\n",
        "print(X.shape)\n",
        "print(Y.shape)"
      ],
      "execution_count": 94,
      "outputs": [
        {
          "output_type": "stream",
          "name": "stdout",
          "text": [
            "(1, 4)\n",
            "(1, 4)\n"
          ]
        }
      ]
    },
    {
      "cell_type": "code",
      "metadata": {
        "colab": {
          "base_uri": "https://localhost:8080/"
        },
        "id": "i6HXHt6USka3",
        "outputId": "c5f45227-2e17-4e60-a16d-0e895a84b33c"
      },
      "source": [
        "Y.T @ X"
      ],
      "execution_count": 95,
      "outputs": [
        {
          "output_type": "execute_result",
          "data": {
            "text/plain": [
              "array([[ 1,  2,  3,  0],\n",
              "       [ 0,  0,  0,  0],\n",
              "       [ 4,  8, 12,  0],\n",
              "       [-1, -2, -3,  0]])"
            ]
          },
          "metadata": {},
          "execution_count": 95
        }
      ]
    },
    {
      "cell_type": "code",
      "metadata": {
        "colab": {
          "base_uri": "https://localhost:8080/"
        },
        "id": "XgQ8OtoxSiGR",
        "outputId": "fdf0db5c-fa8a-4d14-d73e-c7bc40bdc9d8"
      },
      "source": [
        "X @ Y.T"
      ],
      "execution_count": 96,
      "outputs": [
        {
          "output_type": "execute_result",
          "data": {
            "text/plain": [
              "array([[13]])"
            ]
          },
          "metadata": {},
          "execution_count": 96
        }
      ]
    },
    {
      "cell_type": "markdown",
      "metadata": {
        "id": "-Y2iJL0bKCpt"
      },
      "source": [
        "###Determinant"
      ]
    },
    {
      "cell_type": "code",
      "metadata": {
        "colab": {
          "base_uri": "https://localhost:8080/"
        },
        "id": "lm8otsCPY43C",
        "outputId": "60292c88-2cb1-4e5b-e9ae-9ac59fbdee77"
      },
      "source": [
        "A = np.array([\n",
        "              [1,4],\n",
        "              [0,3]\n",
        "])\n",
        "np.linalg.det(A)"
      ],
      "execution_count": 97,
      "outputs": [
        {
          "output_type": "execute_result",
          "data": {
            "text/plain": [
              "3.0000000000000004"
            ]
          },
          "metadata": {},
          "execution_count": 97
        }
      ]
    },
    {
      "cell_type": "code",
      "metadata": {
        "colab": {
          "base_uri": "https://localhost:8080/"
        },
        "id": "l0yRwMvSZZ-b",
        "outputId": "c552e901-aca9-4884-92cc-dd46a66fd8c3"
      },
      "source": [
        "B = np.array([\n",
        "              [1,5,2],\n",
        "              [3,-1,-1],\n",
        "              [0,-2,1]\n",
        "])\n",
        "np.linalg.det(B)"
      ],
      "execution_count": 98,
      "outputs": [
        {
          "output_type": "execute_result",
          "data": {
            "text/plain": [
              "-30.000000000000014"
            ]
          },
          "metadata": {},
          "execution_count": 98
        }
      ]
    },
    {
      "cell_type": "markdown",
      "metadata": {
        "id": "3WrlGTDvK07u"
      },
      "source": [
        "###Inverse"
      ]
    },
    {
      "cell_type": "code",
      "metadata": {
        "colab": {
          "base_uri": "https://localhost:8080/"
        },
        "id": "fuqZhsPEafR-",
        "outputId": "4627f175-98cf-4e29-8842-c57120c524e5"
      },
      "source": [
        "M = np.array([\n",
        "              [1,7],\n",
        "              [-3,5]\n",
        "])\n",
        "\n",
        "np.array(M @ np.linalg.inv(M), dtype=int)"
      ],
      "execution_count": 99,
      "outputs": [
        {
          "output_type": "execute_result",
          "data": {
            "text/plain": [
              "array([[1, 0],\n",
              "       [0, 1]])"
            ]
          },
          "metadata": {},
          "execution_count": 99
        }
      ]
    },
    {
      "cell_type": "code",
      "metadata": {
        "id": "KZmf5F5La5_8"
      },
      "source": [
        "P = np.array([\n",
        "              [6,9,0],\n",
        "              [4,2,-1],\n",
        "              [3,6,7]\n",
        "])\n",
        "\n",
        "Q = np.linalg.inv(P)"
      ],
      "execution_count": 100,
      "outputs": []
    },
    {
      "cell_type": "code",
      "metadata": {
        "colab": {
          "base_uri": "https://localhost:8080/"
        },
        "id": "IHuJymSUbOyk",
        "outputId": "bbce7d19-6f28-4f99-bd31-63bf620ef390"
      },
      "source": [
        "P @ Q"
      ],
      "execution_count": 101,
      "outputs": [
        {
          "output_type": "execute_result",
          "data": {
            "text/plain": [
              "array([[ 1.00000000e+00, -5.55111512e-17, -6.93889390e-18],\n",
              "       [ 8.32667268e-17,  1.00000000e+00, -2.77555756e-17],\n",
              "       [ 2.77555756e-17, -1.38777878e-17,  1.00000000e+00]])"
            ]
          },
          "metadata": {},
          "execution_count": 101
        }
      ]
    },
    {
      "cell_type": "code",
      "metadata": {
        "colab": {
          "base_uri": "https://localhost:8080/"
        },
        "id": "fTwkAPneC49r",
        "outputId": "860e6deb-1bc0-4c12-8ff2-c80dec0d70b5"
      },
      "source": [
        "np.array (P @ Q, dtype=int)"
      ],
      "execution_count": 102,
      "outputs": [
        {
          "output_type": "execute_result",
          "data": {
            "text/plain": [
              "array([[1, 0, 0],\n",
              "       [0, 0, 0],\n",
              "       [0, 0, 1]])"
            ]
          },
          "metadata": {},
          "execution_count": 102
        }
      ]
    },
    {
      "cell_type": "markdown",
      "metadata": {
        "id": "jJRxBk8cHplo"
      },
      "source": [
        "##Conclusion\n"
      ]
    },
    {
      "cell_type": "markdown",
      "metadata": {
        "id": "IPhKOWmBTXuK"
      },
      "source": [
        "Matrix can be difficult. A different system can be equipped by the\n",
        "application of matrices such as circuit, electronics, image processing, computer graphics and so on. As matrices do things to vectors, for this lesson, matrices can be boring for some but with the use of application and with google Collab it can be easier or hard for other. With the help of google Collab and python programming language it will be easier to understand the working principles of matrices and its corners how does an equation is being solved. "
      ]
    }
  ]
}