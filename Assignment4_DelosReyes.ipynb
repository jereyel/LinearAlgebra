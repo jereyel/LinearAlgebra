{
  "nbformat": 4,
  "nbformat_minor": 0,
  "metadata": {
    "colab": {
      "name": "Assignment4_DelosReyes.ipynb",
      "provenance": [],
      "collapsed_sections": [],
      "authorship_tag": "ABX9TyMdwSGu/mhMmCmsQz+i25Oj",
      "include_colab_link": true
    },
    "kernelspec": {
      "name": "python3",
      "display_name": "Python 3"
    },
    "language_info": {
      "name": "python"
    }
  },
  "cells": [
    {
      "cell_type": "markdown",
      "metadata": {
        "id": "view-in-github",
        "colab_type": "text"
      },
      "source": [
        "<a href=\"https://colab.research.google.com/github/jereyel/LinearAlgebra/blob/main/Assignment4_DelosReyes.ipynb\" target=\"_parent\"><img src=\"https://colab.research.google.com/assets/colab-badge.svg\" alt=\"Open In Colab\"/></a>"
      ]
    },
    {
      "cell_type": "markdown",
      "metadata": {
        "id": "zav1QBxqGQYS"
      },
      "source": [
        "## Activity"
      ]
    },
    {
      "cell_type": "markdown",
      "metadata": {
        "id": "zuqRF7uvGUAq"
      },
      "source": [
        "### Task 1"
      ]
    },
    {
      "cell_type": "markdown",
      "metadata": {
        "id": "_8ypVgmrGZx7"
      },
      "source": [
        "Create a function named `desc_mat()` that througouhly describes a matrix, it should: <br>\n",
        "1. Displays the shape, size, and rank of the matrix. <br>\n",
        "2. Displays whether the matrix is square or non-square. <br>\n",
        "3. Displays whether the matrix is an empty matrix. <br>\n",
        "4. Displays if the matrix is an identity, ones, or zeros matrix <br>\n",
        "   \n",
        "Use sample matrices in which their shapes are not lower than $(3,3)$.\n",
        "In your methodology, create a flowchart discuss the functions and methods you have done. Present your results in the results section showing the description of each matrix you have declared."
      ]
    },
    {
      "cell_type": "code",
      "metadata": {
        "id": "iA3ltH1kGcth"
      },
      "source": [
        "## Function area"
      ],
      "execution_count": null,
      "outputs": []
    },
    {
      "cell_type": "code",
      "metadata": {
        "id": "ZopBcxW3Ggxb"
      },
      "source": [
        "import numpy as np\n",
        "import matplotlib.pyplot as plt\n",
        "import scipy.linalg as la\n",
        "%matplotlib inline"
      ],
      "execution_count": 39,
      "outputs": []
    },
    {
      "cell_type": "code",
      "metadata": {
        "id": "JVl7v243GmdU"
      },
      "source": [
        "def desc_mat(matrix):\n",
        "    if matrix.size > 0:\n",
        "        is_square = True if matrix.shape[0] == matrix.shape[1] else False \n",
        "        print(f'Matrix:\\n{matrix}\\n\\nShape:\\t{matrix.shape}\\nRank:\\t{matrix.ndim}\\nIs Square: {is_square}\\n')\n",
        "    else:\n",
        "        print('Matrix is Null')"
      ],
      "execution_count": 48,
      "outputs": []
    },
    {
      "cell_type": "code",
      "metadata": {
        "id": "8GQTlkhZGdxn"
      },
      "source": [
        "## Matrix declarations"
      ],
      "execution_count": null,
      "outputs": []
    },
    {
      "cell_type": "code",
      "metadata": {
        "id": "R37fpvtPGu9R"
      },
      "source": [
        "A = np.array([\n",
        "    [1, 2, 3],\n",
        "    [3, 2, 1],\n",
        "    [1, 3, 5]\n",
        "])"
      ],
      "execution_count": 41,
      "outputs": []
    },
    {
      "cell_type": "code",
      "metadata": {
        "id": "HrutPDh3KDpF"
      },
      "source": [
        "B = np.array([\n",
        "    [2, 4, 10],\n",
        "    [6, 6, 16]\n",
        "])"
      ],
      "execution_count": 42,
      "outputs": []
    },
    {
      "cell_type": "code",
      "metadata": {
        "id": "qrXnN89cLBZZ"
      },
      "source": [
        "C = np.array([])"
      ],
      "execution_count": 43,
      "outputs": []
    },
    {
      "cell_type": "code",
      "metadata": {
        "id": "uf08WEFkbeqX"
      },
      "source": [
        "zeros = np.zeros((3,3))"
      ],
      "execution_count": 80,
      "outputs": []
    },
    {
      "cell_type": "code",
      "metadata": {
        "id": "lgpITVXwbwzd"
      },
      "source": [
        "ones = np.ones((3,3))\n"
      ],
      "execution_count": 75,
      "outputs": []
    },
    {
      "cell_type": "code",
      "metadata": {
        "id": "X1At6XW7cIKE"
      },
      "source": [
        "identity = np.identity(10)"
      ],
      "execution_count": 81,
      "outputs": []
    },
    {
      "cell_type": "code",
      "metadata": {
        "id": "VGgdtQ4FGfEL"
      },
      "source": [
        "## Test Areas"
      ],
      "execution_count": null,
      "outputs": []
    },
    {
      "cell_type": "markdown",
      "metadata": {
        "id": "gSJ6ByzPbOp3"
      },
      "source": [
        "1. Displays the shape, size, and rank of the matrix. <br>\n"
      ]
    },
    {
      "cell_type": "code",
      "metadata": {
        "colab": {
          "base_uri": "https://localhost:8080/"
        },
        "id": "gzuJo2RSHIh1",
        "outputId": "7dc5ae46-b596-428c-8683-b1866f726809"
      },
      "source": [
        "desc_mat(A)"
      ],
      "execution_count": 44,
      "outputs": [
        {
          "output_type": "stream",
          "name": "stdout",
          "text": [
            "Matrix:\n",
            "[[1 2 3]\n",
            " [3 2 1]\n",
            " [1 3 5]]\n",
            "\n",
            "Shape:\t(3, 3)\n",
            "Rank:\t2\n",
            "Is Square: True\n",
            "\n"
          ]
        }
      ]
    },
    {
      "cell_type": "markdown",
      "metadata": {
        "id": "0W6EL2L6bP4I"
      },
      "source": [
        "2. Displays whether the matrix is square or non-square. <br>\n"
      ]
    },
    {
      "cell_type": "code",
      "metadata": {
        "colab": {
          "base_uri": "https://localhost:8080/"
        },
        "id": "2zScWJ_jKUMX",
        "outputId": "810529a9-1c09-43a9-c672-dbe70229aef6"
      },
      "source": [
        "desc_mat(B)"
      ],
      "execution_count": 45,
      "outputs": [
        {
          "output_type": "stream",
          "name": "stdout",
          "text": [
            "Matrix:\n",
            "[[ 2  4 10]\n",
            " [ 6  6 16]]\n",
            "\n",
            "Shape:\t(2, 3)\n",
            "Rank:\t2\n",
            "Is Square: False\n",
            "\n"
          ]
        }
      ]
    },
    {
      "cell_type": "markdown",
      "metadata": {
        "id": "5Uwn3tmZbTjI"
      },
      "source": [
        "3. Displays whether the matrix is an empty matrix. <br>\n"
      ]
    },
    {
      "cell_type": "code",
      "metadata": {
        "colab": {
          "base_uri": "https://localhost:8080/"
        },
        "id": "Xha6KJlnLJQc",
        "outputId": "23dbcf4d-afa6-429e-c57c-691769919841"
      },
      "source": [
        "desc_mat(C)"
      ],
      "execution_count": 46,
      "outputs": [
        {
          "output_type": "stream",
          "name": "stdout",
          "text": [
            "Matrix is Null\n"
          ]
        }
      ]
    },
    {
      "cell_type": "markdown",
      "metadata": {
        "id": "xicUEH9BbWfv"
      },
      "source": [
        "4. Displays if the matrix is an identity, ones, or zeros matrix <br>\n"
      ]
    },
    {
      "cell_type": "code",
      "metadata": {
        "colab": {
          "base_uri": "https://localhost:8080/"
        },
        "id": "c1VKZ--qbZCG",
        "outputId": "f586c233-7d78-4bce-842d-89d9a5c47e01"
      },
      "source": [
        "desc_mat(zeros)"
      ],
      "execution_count": 74,
      "outputs": [
        {
          "output_type": "stream",
          "name": "stdout",
          "text": [
            "Matrix:\n",
            "[[0. 0. 0.]\n",
            " [0. 0. 0.]\n",
            " [0. 0. 0.]]\n",
            "\n",
            "Shape:\t(3, 3)\n",
            "Rank:\t2\n",
            "Is Square: True\n",
            "\n"
          ]
        }
      ]
    },
    {
      "cell_type": "code",
      "metadata": {
        "colab": {
          "base_uri": "https://localhost:8080/"
        },
        "id": "1VwYxl7Xb1rV",
        "outputId": "3daab0e7-def1-4b54-93df-340f92e483e9"
      },
      "source": [
        "desc_mat(ones)"
      ],
      "execution_count": 76,
      "outputs": [
        {
          "output_type": "stream",
          "name": "stdout",
          "text": [
            "Matrix:\n",
            "[[1. 1. 1.]\n",
            " [1. 1. 1.]\n",
            " [1. 1. 1.]]\n",
            "\n",
            "Shape:\t(3, 3)\n",
            "Rank:\t2\n",
            "Is Square: True\n",
            "\n"
          ]
        }
      ]
    },
    {
      "cell_type": "code",
      "metadata": {
        "colab": {
          "base_uri": "https://localhost:8080/"
        },
        "id": "UCmSpDDCcP9D",
        "outputId": "b0612922-eaa9-4ad8-d267-13dc68237b83"
      },
      "source": [
        "desc_mat(identity)"
      ],
      "execution_count": 82,
      "outputs": [
        {
          "output_type": "stream",
          "name": "stdout",
          "text": [
            "Matrix:\n",
            "[[1. 0. 0. 0. 0. 0. 0. 0. 0. 0.]\n",
            " [0. 1. 0. 0. 0. 0. 0. 0. 0. 0.]\n",
            " [0. 0. 1. 0. 0. 0. 0. 0. 0. 0.]\n",
            " [0. 0. 0. 1. 0. 0. 0. 0. 0. 0.]\n",
            " [0. 0. 0. 0. 1. 0. 0. 0. 0. 0.]\n",
            " [0. 0. 0. 0. 0. 1. 0. 0. 0. 0.]\n",
            " [0. 0. 0. 0. 0. 0. 1. 0. 0. 0.]\n",
            " [0. 0. 0. 0. 0. 0. 0. 1. 0. 0.]\n",
            " [0. 0. 0. 0. 0. 0. 0. 0. 1. 0.]\n",
            " [0. 0. 0. 0. 0. 0. 0. 0. 0. 1.]]\n",
            "\n",
            "Shape:\t(10, 10)\n",
            "Rank:\t2\n",
            "Is Square: True\n",
            "\n"
          ]
        }
      ]
    },
    {
      "cell_type": "markdown",
      "metadata": {
        "id": "YvcoSjC4dSWc"
      },
      "source": [
        "### Task 2"
      ]
    },
    {
      "cell_type": "markdown",
      "metadata": {
        "id": "6mQYOPhqdU3H"
      },
      "source": [
        "Create a function named `mat_operations()` that takes in two matrices a input parameters it should:<br>\n",
        " 1. Determines if the matrices are viable for operation and returns your own error message if they are not viable.\n",
        " 2. Returns the sum of the matrices.\n",
        " 3. Returns the differen of the matrices.\n",
        " 4. Returns the element-wise multiplication of the matrices.\n",
        " 5. Returns the element-wise division of the matrices.\n",
        "\n",
        "Use 5 sample matrices in which their shapes are not lower than $(3,3)$.\n",
        "In your methodology, create a flowchart discuss the functions and methods you have done. Present your results in the results section showing the description of each matrix you have declared."
      ]
    },
    {
      "cell_type": "code",
      "metadata": {
        "id": "tCFE62VJdS5L"
      },
      "source": [
        "def mat_operations(matrix):\n",
        "    print(f'Matrix:\\n{matrix}\\n\\nShape:\\t{matrix.shape}\\nRank:\\t{matrix.ndim}\\n')"
      ],
      "execution_count": 83,
      "outputs": []
    },
    {
      "cell_type": "code",
      "metadata": {
        "id": "FNe0mclFdad3"
      },
      "source": [
        "X = np.array([\n",
        "   [4,0,1],\n",
        "   [5,4,9],\n",
        "   [1,5,7],         \n",
        "])\n",
        "Y = np.array([\n",
        "   [2,6,7],\n",
        "   [3,2,1],\n",
        "   [4,7,8]\n",
        "])\n",
        "\n",
        "Z = np.array([\n",
        "    [2,4,6],\n",
        "    [1,3,5],\n",
        "    [1,2,3]\n",
        "])"
      ],
      "execution_count": 85,
      "outputs": []
    },
    {
      "cell_type": "code",
      "metadata": {
        "colab": {
          "base_uri": "https://localhost:8080/"
        },
        "id": "mlQK3Dh4d_dH",
        "outputId": "79ab0f8c-eb30-4c0b-fe3f-f6052145f840"
      },
      "source": [
        "Y + Z"
      ],
      "execution_count": 86,
      "outputs": [
        {
          "output_type": "execute_result",
          "data": {
            "text/plain": [
              "array([[ 4, 10, 13],\n",
              "       [ 4,  5,  6],\n",
              "       [ 5,  9, 11]])"
            ]
          },
          "metadata": {},
          "execution_count": 86
        }
      ]
    },
    {
      "cell_type": "code",
      "metadata": {
        "colab": {
          "base_uri": "https://localhost:8080/"
        },
        "id": "wA_rcAGeeKoS",
        "outputId": "d2b347e3-30a3-4865-997f-bf840273faa0"
      },
      "source": [
        "Z + 8"
      ],
      "execution_count": 88,
      "outputs": [
        {
          "output_type": "execute_result",
          "data": {
            "text/plain": [
              "array([[10, 12, 14],\n",
              "       [ 9, 11, 13],\n",
              "       [ 9, 10, 11]])"
            ]
          },
          "metadata": {},
          "execution_count": 88
        }
      ]
    },
    {
      "cell_type": "code",
      "metadata": {
        "colab": {
          "base_uri": "https://localhost:8080/"
        },
        "id": "LCFoBmtgeC-h",
        "outputId": "0aca4c57-27be-406c-92f0-72bb77b0e3ff"
      },
      "source": [
        "Z - X"
      ],
      "execution_count": 87,
      "outputs": [
        {
          "output_type": "execute_result",
          "data": {
            "text/plain": [
              "array([[-2,  4,  5],\n",
              "       [-4, -1, -4],\n",
              "       [ 0, -3, -4]])"
            ]
          },
          "metadata": {},
          "execution_count": 87
        }
      ]
    },
    {
      "cell_type": "code",
      "metadata": {
        "colab": {
          "base_uri": "https://localhost:8080/"
        },
        "id": "PGaZJVbneGUL",
        "outputId": "432a9c88-d9a6-4eb9-bc0e-14acf4d4bd72"
      },
      "source": [
        "Z - 0"
      ],
      "execution_count": 90,
      "outputs": [
        {
          "output_type": "execute_result",
          "data": {
            "text/plain": [
              "array([[2, 4, 6],\n",
              "       [1, 3, 5],\n",
              "       [1, 2, 3]])"
            ]
          },
          "metadata": {},
          "execution_count": 90
        }
      ]
    },
    {
      "cell_type": "code",
      "metadata": {
        "colab": {
          "base_uri": "https://localhost:8080/"
        },
        "id": "xMBfyuajeT9p",
        "outputId": "b761d8f3-f17d-4acb-e44e-8cc80de2e6af"
      },
      "source": [
        "Y * X"
      ],
      "execution_count": 91,
      "outputs": [
        {
          "output_type": "execute_result",
          "data": {
            "text/plain": [
              "array([[ 8,  0,  7],\n",
              "       [15,  8,  9],\n",
              "       [ 4, 35, 56]])"
            ]
          },
          "metadata": {},
          "execution_count": 91
        }
      ]
    },
    {
      "cell_type": "code",
      "metadata": {
        "colab": {
          "base_uri": "https://localhost:8080/"
        },
        "id": "RRT0q0WDeWY-",
        "outputId": "c451804d-f644-42dd-8dd3-f747de23dcc9"
      },
      "source": [
        "X * 2"
      ],
      "execution_count": 92,
      "outputs": [
        {
          "output_type": "execute_result",
          "data": {
            "text/plain": [
              "array([[ 8,  0,  2],\n",
              "       [10,  8, 18],\n",
              "       [ 2, 10, 14]])"
            ]
          },
          "metadata": {},
          "execution_count": 92
        }
      ]
    },
    {
      "cell_type": "code",
      "metadata": {
        "colab": {
          "base_uri": "https://localhost:8080/"
        },
        "id": "OogXkneXeZ1q",
        "outputId": "6dbfe6d5-f81e-41c2-821b-19bd8c4f9037"
      },
      "source": [
        "Y / Z"
      ],
      "execution_count": 94,
      "outputs": [
        {
          "output_type": "execute_result",
          "data": {
            "text/plain": [
              "array([[1.        , 1.5       , 1.16666667],\n",
              "       [3.        , 0.66666667, 0.2       ],\n",
              "       [4.        , 3.5       , 2.66666667]])"
            ]
          },
          "metadata": {},
          "execution_count": 94
        }
      ]
    },
    {
      "cell_type": "code",
      "metadata": {
        "colab": {
          "base_uri": "https://localhost:8080/"
        },
        "id": "XaBfuntAegBw",
        "outputId": "08a21577-672d-4ef9-831a-158024235b77"
      },
      "source": [
        "X / 2"
      ],
      "execution_count": 95,
      "outputs": [
        {
          "output_type": "execute_result",
          "data": {
            "text/plain": [
              "array([[2. , 0. , 0.5],\n",
              "       [2.5, 2. , 4.5],\n",
              "       [0.5, 2.5, 3.5]])"
            ]
          },
          "metadata": {},
          "execution_count": 95
        }
      ]
    }
  ]
}