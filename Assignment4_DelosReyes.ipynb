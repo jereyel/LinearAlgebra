{
  "nbformat": 4,
  "nbformat_minor": 0,
  "metadata": {
    "colab": {
      "name": "Assignment4_DelosReyes.ipynb",
      "provenance": [],
      "collapsed_sections": [],
      "authorship_tag": "ABX9TyPkQO0Pbta5ooPeiRn/kGgo",
      "include_colab_link": true
    },
    "kernelspec": {
      "name": "python3",
      "display_name": "Python 3"
    },
    "language_info": {
      "name": "python"
    }
  },
  "cells": [
    {
      "cell_type": "markdown",
      "metadata": {
        "id": "view-in-github",
        "colab_type": "text"
      },
      "source": [
        "<a href=\"https://colab.research.google.com/github/jereyel/LinearAlgebra/blob/main/Assignment4_DelosReyes.ipynb\" target=\"_parent\"><img src=\"https://colab.research.google.com/assets/colab-badge.svg\" alt=\"Open In Colab\"/></a>"
      ]
    },
    {
      "cell_type": "markdown",
      "metadata": {
        "id": "kRb4Y_cehM7A"
      },
      "source": [
        "#Linear Algebra for ECE"
      ]
    },
    {
      "cell_type": "markdown",
      "metadata": {
        "id": "jaoRGTvfhcXa"
      },
      "source": [
        "###Laboratory 4: Matrices"
      ]
    },
    {
      "cell_type": "markdown",
      "metadata": {
        "id": "DQKP6GV_h7UG"
      },
      "source": [
        "###Objectives"
      ]
    },
    {
      "cell_type": "markdown",
      "metadata": {
        "id": "LhsUnqgmh-Y7"
      },
      "source": [
        "**Familiarization with matrices and their relation to linear equations\n",
        "\n",
        "**Execute basic matrix operations.\n",
        "\n",
        "**Program and translate matrix equations and operations using Python."
      ]
    },
    {
      "cell_type": "markdown",
      "metadata": {
        "id": "ckqVDv-zhk3d"
      },
      "source": [
        "#Matrices"
      ]
    },
    {
      "cell_type": "markdown",
      "metadata": {
        "id": "t_rXJfsYhm9B"
      },
      "source": [
        "The notation and use of matrices is probably one of the fundamentals of modern computing. Matrices are also handy representations of complex equations or multiple inter-related equations from 2- dimensional equations to even hundreds and thousands of them.\n",
        "\n",
        "Let's say for example you have $A$ and $B$ as system of equation.\n",
        "\n",
        "$$ A = \\left\\{ \\begin{array}\\ x + y \\\\ 4x - 10y \\end{array} \\right. \\\\ B = \\left\\{ \\begin{array}\\ x+y+z \\\\ 3x -2y -z \\\\ -x + 4y +2z \\end{array} \\right. $$\n",
        "We could see that $A$ is a system of 2 equations with 2 parameters. While $B$ is a system of 3 equations with 3 parameters. We can represent them as matrices as:\n",
        "\n",
        "$$ A=\\begin{bmatrix} 1 & 1 \\\\ 4 & {-10}\\end{bmatrix} \\\\ B=\\begin{bmatrix} 1 & 1 & 1 \\\\ 3 & -2 & -1 \\\\ -1 & 4 & 2\\end{bmatrix} $$"
      ]
    },
    {
      "cell_type": "code",
      "metadata": {
        "id": "ZopBcxW3Ggxb"
      },
      "source": [
        "import numpy as np\n",
        "import matplotlib.pyplot as plt\n",
        "import scipy.linalg as la\n",
        "%matplotlib inline"
      ],
      "execution_count": 96,
      "outputs": []
    },
    {
      "cell_type": "markdown",
      "metadata": {
        "id": "zav1QBxqGQYS"
      },
      "source": [
        "## Activity"
      ]
    },
    {
      "cell_type": "markdown",
      "metadata": {
        "id": "zuqRF7uvGUAq"
      },
      "source": [
        "### Task 1"
      ]
    },
    {
      "cell_type": "markdown",
      "metadata": {
        "id": "_8ypVgmrGZx7"
      },
      "source": [
        "Create a function named `desc_mat()` that througouhly describes a matrix, it should: <br>\n",
        "1. Displays the shape, size, and rank of the matrix. <br>\n",
        "2. Displays whether the matrix is square or non-square. <br>\n",
        "3. Displays whether the matrix is an empty matrix. <br>\n",
        "4. Displays if the matrix is an identity, ones, or zeros matrix <br>\n",
        "   \n",
        "Use sample matrices in which their shapes are not lower than $(3,3)$.\n",
        "In your methodology, create a flowchart discuss the functions and methods you have done. Present your results in the results section showing the description of each matrix you have declared."
      ]
    },
    {
      "cell_type": "code",
      "metadata": {
        "id": "iA3ltH1kGcth"
      },
      "source": [
        "## Function area"
      ],
      "execution_count": null,
      "outputs": []
    },
    {
      "cell_type": "code",
      "metadata": {
        "id": "VKXwwlxXmHX9"
      },
      "source": [
        ""
      ],
      "execution_count": null,
      "outputs": []
    },
    {
      "cell_type": "code",
      "metadata": {
        "id": "JVl7v243GmdU"
      },
      "source": [
        "def desc_mat(matrix):\n",
        "    if matrix.size > 0:\n",
        "        is_square = True if matrix.shape[0] == matrix.shape[1] else False \n",
        "        print(f'Matrix:\\n{matrix}\\n\\nShape:\\t{matrix.shape}\\nRank:\\t{matrix.ndim}\\nIs Square: {is_square}\\n')\n",
        "    else:\n",
        "        print('Matrix is Null')"
      ],
      "execution_count": 48,
      "outputs": []
    },
    {
      "cell_type": "markdown",
      "metadata": {
        "id": "Nc6X6y9ymExu"
      },
      "source": [
        "![1.png](data:image/png;base64,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)"
      ]
    },
    {
      "cell_type": "code",
      "metadata": {
        "id": "8GQTlkhZGdxn"
      },
      "source": [
        "## Matrix declarations"
      ],
      "execution_count": null,
      "outputs": []
    },
    {
      "cell_type": "code",
      "metadata": {
        "id": "R37fpvtPGu9R"
      },
      "source": [
        "A = np.array([\n",
        "    [1, 2, 3],\n",
        "    [3, 2, 1],\n",
        "    [1, 3, 5]\n",
        "])"
      ],
      "execution_count": 41,
      "outputs": []
    },
    {
      "cell_type": "code",
      "metadata": {
        "id": "HrutPDh3KDpF"
      },
      "source": [
        "B = np.array([\n",
        "    [2, 4, 10],\n",
        "    [6, 6, 16]\n",
        "])"
      ],
      "execution_count": 42,
      "outputs": []
    },
    {
      "cell_type": "code",
      "metadata": {
        "id": "qrXnN89cLBZZ"
      },
      "source": [
        "C = np.array([])"
      ],
      "execution_count": 43,
      "outputs": []
    },
    {
      "cell_type": "code",
      "metadata": {
        "id": "uf08WEFkbeqX"
      },
      "source": [
        "zeros = np.zeros((3,3))"
      ],
      "execution_count": 80,
      "outputs": []
    },
    {
      "cell_type": "code",
      "metadata": {
        "id": "lgpITVXwbwzd"
      },
      "source": [
        "ones = np.ones((3,3))\n"
      ],
      "execution_count": 75,
      "outputs": []
    },
    {
      "cell_type": "code",
      "metadata": {
        "id": "X1At6XW7cIKE"
      },
      "source": [
        "identity = np.identity(10)"
      ],
      "execution_count": 81,
      "outputs": []
    },
    {
      "cell_type": "code",
      "metadata": {
        "id": "VGgdtQ4FGfEL"
      },
      "source": [
        "## Test Areas"
      ],
      "execution_count": null,
      "outputs": []
    },
    {
      "cell_type": "markdown",
      "metadata": {
        "id": "gSJ6ByzPbOp3"
      },
      "source": [
        "1. Displays the shape, size, and rank of the matrix. <br>\n"
      ]
    },
    {
      "cell_type": "code",
      "metadata": {
        "colab": {
          "base_uri": "https://localhost:8080/"
        },
        "id": "gzuJo2RSHIh1",
        "outputId": "7dc5ae46-b596-428c-8683-b1866f726809"
      },
      "source": [
        "desc_mat(A)"
      ],
      "execution_count": 44,
      "outputs": [
        {
          "output_type": "stream",
          "name": "stdout",
          "text": [
            "Matrix:\n",
            "[[1 2 3]\n",
            " [3 2 1]\n",
            " [1 3 5]]\n",
            "\n",
            "Shape:\t(3, 3)\n",
            "Rank:\t2\n",
            "Is Square: True\n",
            "\n"
          ]
        }
      ]
    },
    {
      "cell_type": "markdown",
      "metadata": {
        "id": "0W6EL2L6bP4I"
      },
      "source": [
        "2. Displays whether the matrix is square or non-square. <br>\n"
      ]
    },
    {
      "cell_type": "code",
      "metadata": {
        "colab": {
          "base_uri": "https://localhost:8080/"
        },
        "id": "2zScWJ_jKUMX",
        "outputId": "810529a9-1c09-43a9-c672-dbe70229aef6"
      },
      "source": [
        "desc_mat(B)"
      ],
      "execution_count": 45,
      "outputs": [
        {
          "output_type": "stream",
          "name": "stdout",
          "text": [
            "Matrix:\n",
            "[[ 2  4 10]\n",
            " [ 6  6 16]]\n",
            "\n",
            "Shape:\t(2, 3)\n",
            "Rank:\t2\n",
            "Is Square: False\n",
            "\n"
          ]
        }
      ]
    },
    {
      "cell_type": "markdown",
      "metadata": {
        "id": "5Uwn3tmZbTjI"
      },
      "source": [
        "3. Displays whether the matrix is an empty matrix. <br>\n"
      ]
    },
    {
      "cell_type": "code",
      "metadata": {
        "colab": {
          "base_uri": "https://localhost:8080/"
        },
        "id": "Xha6KJlnLJQc",
        "outputId": "23dbcf4d-afa6-429e-c57c-691769919841"
      },
      "source": [
        "desc_mat(C)"
      ],
      "execution_count": 46,
      "outputs": [
        {
          "output_type": "stream",
          "name": "stdout",
          "text": [
            "Matrix is Null\n"
          ]
        }
      ]
    },
    {
      "cell_type": "markdown",
      "metadata": {
        "id": "xicUEH9BbWfv"
      },
      "source": [
        "4. Displays if the matrix is an identity, ones, or zeros matrix <br>\n"
      ]
    },
    {
      "cell_type": "code",
      "metadata": {
        "colab": {
          "base_uri": "https://localhost:8080/"
        },
        "id": "c1VKZ--qbZCG",
        "outputId": "f586c233-7d78-4bce-842d-89d9a5c47e01"
      },
      "source": [
        "desc_mat(zeros)"
      ],
      "execution_count": 74,
      "outputs": [
        {
          "output_type": "stream",
          "name": "stdout",
          "text": [
            "Matrix:\n",
            "[[0. 0. 0.]\n",
            " [0. 0. 0.]\n",
            " [0. 0. 0.]]\n",
            "\n",
            "Shape:\t(3, 3)\n",
            "Rank:\t2\n",
            "Is Square: True\n",
            "\n"
          ]
        }
      ]
    },
    {
      "cell_type": "code",
      "metadata": {
        "colab": {
          "base_uri": "https://localhost:8080/"
        },
        "id": "1VwYxl7Xb1rV",
        "outputId": "3daab0e7-def1-4b54-93df-340f92e483e9"
      },
      "source": [
        "desc_mat(ones)"
      ],
      "execution_count": 76,
      "outputs": [
        {
          "output_type": "stream",
          "name": "stdout",
          "text": [
            "Matrix:\n",
            "[[1. 1. 1.]\n",
            " [1. 1. 1.]\n",
            " [1. 1. 1.]]\n",
            "\n",
            "Shape:\t(3, 3)\n",
            "Rank:\t2\n",
            "Is Square: True\n",
            "\n"
          ]
        }
      ]
    },
    {
      "cell_type": "code",
      "metadata": {
        "colab": {
          "base_uri": "https://localhost:8080/"
        },
        "id": "UCmSpDDCcP9D",
        "outputId": "b0612922-eaa9-4ad8-d267-13dc68237b83"
      },
      "source": [
        "desc_mat(identity)"
      ],
      "execution_count": 82,
      "outputs": [
        {
          "output_type": "stream",
          "name": "stdout",
          "text": [
            "Matrix:\n",
            "[[1. 0. 0. 0. 0. 0. 0. 0. 0. 0.]\n",
            " [0. 1. 0. 0. 0. 0. 0. 0. 0. 0.]\n",
            " [0. 0. 1. 0. 0. 0. 0. 0. 0. 0.]\n",
            " [0. 0. 0. 1. 0. 0. 0. 0. 0. 0.]\n",
            " [0. 0. 0. 0. 1. 0. 0. 0. 0. 0.]\n",
            " [0. 0. 0. 0. 0. 1. 0. 0. 0. 0.]\n",
            " [0. 0. 0. 0. 0. 0. 1. 0. 0. 0.]\n",
            " [0. 0. 0. 0. 0. 0. 0. 1. 0. 0.]\n",
            " [0. 0. 0. 0. 0. 0. 0. 0. 1. 0.]\n",
            " [0. 0. 0. 0. 0. 0. 0. 0. 0. 1.]]\n",
            "\n",
            "Shape:\t(10, 10)\n",
            "Rank:\t2\n",
            "Is Square: True\n",
            "\n"
          ]
        }
      ]
    },
    {
      "cell_type": "markdown",
      "metadata": {
        "id": "YvcoSjC4dSWc"
      },
      "source": [
        "### Task 2"
      ]
    },
    {
      "cell_type": "markdown",
      "metadata": {
        "id": "6mQYOPhqdU3H"
      },
      "source": [
        "Create a function named `mat_operations()` that takes in two matrices a input parameters it should:<br>\n",
        " 1. Determines if the matrices are viable for operation and returns your own error message if they are not viable.\n",
        " 2. Returns the sum of the matrices.\n",
        " 3. Returns the differen of the matrices.\n",
        " 4. Returns the element-wise multiplication of the matrices.\n",
        " 5. Returns the element-wise division of the matrices.\n",
        "\n",
        "Use 5 sample matrices in which their shapes are not lower than $(3,3)$.\n",
        "In your methodology, create a flowchart discuss the functions and methods you have done. Present your results in the results section showing the description of each matrix you have declared."
      ]
    },
    {
      "cell_type": "code",
      "metadata": {
        "id": "tCFE62VJdS5L"
      },
      "source": [
        "def mat_operations(matrix):\n",
        "    print(f'Matrix:\\n{matrix}\\n\\nShape:\\t{matrix.shape}\\nRank:\\t{matrix.ndim}\\n')"
      ],
      "execution_count": 83,
      "outputs": []
    },
    {
      "cell_type": "code",
      "metadata": {
        "id": "FNe0mclFdad3"
      },
      "source": [
        "X = np.array([\n",
        "   [4,0,1],\n",
        "   [5,4,9],\n",
        "   [1,5,7],         \n",
        "])\n",
        "Y = np.array([\n",
        "   [2,6,7],\n",
        "   [3,2,1],\n",
        "   [4,7,8]\n",
        "])\n",
        "\n",
        "Z = np.array([\n",
        "    [2,4,6],\n",
        "    [1,3,5],\n",
        "    [1,2,3]\n",
        "])"
      ],
      "execution_count": 85,
      "outputs": []
    },
    {
      "cell_type": "code",
      "metadata": {
        "colab": {
          "base_uri": "https://localhost:8080/"
        },
        "id": "mlQK3Dh4d_dH",
        "outputId": "79ab0f8c-eb30-4c0b-fe3f-f6052145f840"
      },
      "source": [
        "Y + Z"
      ],
      "execution_count": 86,
      "outputs": [
        {
          "output_type": "execute_result",
          "data": {
            "text/plain": [
              "array([[ 4, 10, 13],\n",
              "       [ 4,  5,  6],\n",
              "       [ 5,  9, 11]])"
            ]
          },
          "metadata": {},
          "execution_count": 86
        }
      ]
    },
    {
      "cell_type": "markdown",
      "metadata": {
        "id": "ux9_u2YhnhL0"
      },
      "source": [
        "![2.png](data:image/png;base64,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)"
      ]
    },
    {
      "cell_type": "code",
      "metadata": {
        "colab": {
          "base_uri": "https://localhost:8080/"
        },
        "id": "wA_rcAGeeKoS",
        "outputId": "d2b347e3-30a3-4865-997f-bf840273faa0"
      },
      "source": [
        "Z + 8"
      ],
      "execution_count": 88,
      "outputs": [
        {
          "output_type": "execute_result",
          "data": {
            "text/plain": [
              "array([[10, 12, 14],\n",
              "       [ 9, 11, 13],\n",
              "       [ 9, 10, 11]])"
            ]
          },
          "metadata": {},
          "execution_count": 88
        }
      ]
    },
    {
      "cell_type": "code",
      "metadata": {
        "colab": {
          "base_uri": "https://localhost:8080/"
        },
        "id": "LCFoBmtgeC-h",
        "outputId": "0aca4c57-27be-406c-92f0-72bb77b0e3ff"
      },
      "source": [
        "Z - X"
      ],
      "execution_count": 87,
      "outputs": [
        {
          "output_type": "execute_result",
          "data": {
            "text/plain": [
              "array([[-2,  4,  5],\n",
              "       [-4, -1, -4],\n",
              "       [ 0, -3, -4]])"
            ]
          },
          "metadata": {},
          "execution_count": 87
        }
      ]
    },
    {
      "cell_type": "markdown",
      "metadata": {
        "id": "d3VHvxsHnj9g"
      },
      "source": [
        "![3.png](data:image/png;base64,iVBORw0KGgoAAAANSUhEUgAAA1QAAAEgCAYAAACzTTKjAAAAAXNSR0IArs4c6QAAAARnQU1BAACxjwv8YQUAAAAJcEhZcwAADsMAAA7DAcdvqGQAACxzSURBVHhe7d1tcFzVnefx/+0HPbZsWZJt2djYYIXExDgkcXZMJevAzoBZCFnDZuPUrmG3tohfEIrarSKpyoupODsvUjWwNVOpkFQIlaoBZzekUuBNQjZOphaGzYM3eGaIMZCADBg/yA+SLFtSq6V+2nNun5a6pZa6+3RLVt/z/WChvrdbUj/cc8/93XPuOV5WEQAAAABA1ULmOwAAAACgSgQqAAAAALBEoAIAAAAASwQqAAAAALBEoAIAAAAASwQqAAAAALBEoAIAAAAASwQqAAAAALBEoAIAAAAASwQqAAAAALBEoAIAAAAASwQqAAAAALBEoAIAAAAASwQqAAAAALBEoAIAAAAASwQqAAAAALBEoAIAAAAASwQqAAAAALBEoAIAAAAASwQqAAAAALBEoAIAAAAASwQqAAAAALBEoAIAAAAASwQqAAAAALBEoAIAAAAASwQqAAAAALBEoAIAAAAASwQqAAAAALBEoAIAAAAASwQqAAAAALBEoAIAAAAASwQqAAAAALBEoAIAAAAASwQqAAAAALBEoAIAAAAASwQqAAAAALBEoAIAAAAASwQqAAAAALBEoAIAAAAASwQqAAAAALBEoAIAAAAASwQqAAAAALBEoAIAAAAASwQqAAAAALBEoAIAAAAASwQqAAAAALBEoAIAAAAASwQqAAAAALDkZRVze3nKTEk2OSqSGs19z0yKpNUX5hdqFgk3ixftEIl05L6HmsydCLr3RyZlMpUxSwi6kOfJlu4Ws4RSLo6nZCSRMktA9da0R2VlS9gsYbG9M5yQdGZ5H56ifqLhkGxepY5dG9jyCVTZlGTH3pXsxBnJxk+r0BRXAeqKWq+fnqf+hdTNtHjpKX0EkfsZlOR/pCpAeZ7a+Wf1gbVaVgddXnSFClptEmrfKNJyjXix69R6Kogg6R9KyJ8uTvifN9zgqfL9sfXt0tvBSZP5vHYuLidHJlWxoFzAgqpTb+ptk2s7G/uAr1G8fiEu76i6LBSiE5Ur1BG+/NnGmHS1Rc2axnN1A5UKSJmR4yKjb0tm7IRkQxHxdAsUFp9uxVLvfyi2RaTjAxJauU1tDey8Gt2v37siIxMpApVDdKm944ZOiXCiaV75QAXY0CWLQLV0/s+JyzI+leYEiEN09XXXB1eZpcZ0VY6gs5ODkjn7gqT++N8lc/5XKky9pdaqwkOYWjr6vc6mJH3lj5I590v1WTymPpOfq89myDwAjehKIk2YckxbU4gwBSAQptJZv8s6Ycotq1oi5lbjWtJAlVFBKn36f0n63WckM/IH/4BeXyOFq8ffaenPwG8tfFV9Nn8nmTM/UXu1YfMINIrB8SS9YR2jP+7eWON2kQCAQroey+3Z4Aq/Huto/HpsyQJV5uzPJPPeDyRz+bhamDBrsexkEv5nlHr3oKTP/MysRCO4oCqiJBfxOkW3TK3h2ikAAXF+dErSV/FKFCy9sEpUqwNwYnDRA1VmtF/Sb39HHaS/IZIepxm3UaTHJHvlDUm9/W3Jjp0wK7GcnR9NUr4ck8pkpKu18btKAIA2GGc0TteEQp7Emhp/gLRFDVTpU89J5uxPJZu8lOveh8aiP7PkiKRO/0TSZ35qVmI5mkpnGCrdQata6e4HIBjGptJCJwu36HHxetqCcVJwcQJVdkrSfstGv0pVdO9rdF5mQrJX3pTU208QjJepoXhKD44Ph+i2yHUB6HcOANrQeEpSJCqnREMhWRsLRrf1ugcqPUpc6q3vSDY5wsF3kPitVZcl9adviUypzxbLiu7ul6YeckpY7b172glUAIJhYHSKE4POyUp3Oy1Uc2WmJP3+//SvlUJAZeKSeu8Z9V2PxIPlYjDO5+Ea3ULV0czE3ACC4ZKeQxFOiYY9aYks6tVHS6Z+ryJx3h/AQJJXzAoEVmo0N1hF4oJZgatJT4CYppuEW7LZhp5RHgAK6QnpmfbDPWsCNO1HXQKVnqg3dfJHIum4WYPAS49L+v0fikxdMitwteh5OzLM2+GUsDry4PopAEFxMa6vnzILcII/7UdArp/Sag9U2SnJvPc/1AH2qFkBZ6TGJPXu0+pGOreMq+L8WIoWKsfo0fG7aaECEBB6/ilqMbdk1HFLUEb402oOVOl3fyDZ9JhZgnN0S9U7OlThahnm+inn6DN7rdFg9DsH4DY9j++VBCdmXRNrDvm9LYKipho5c+bnfnc/uC07eVEyA//bLGEpjSRSTObroDWM7gcgIPSgSnrUUrhDH7X0dgSnu59mvQlnRvslM/62Oprm7Ljzsim1Pbwl2bETZgWWyiDzdjgnomqiIF3IC8BtF8aTkuT6Kaf4034EqLufZh+ozv1SJMXw6DDUtpAZOGwWsFTO6X7nur8EnKHzM/NPAQgKPY8i9ZhbdD0WtJFqrQJVZkCHKa6bQrGs2iYy5/7eLGEp+P3O6fLnlLamkH8NFQA0uql0ViZTGbquO2ZVS7Bap7SqA1V2akgyo3/yu3kBRXTXv8tvMJT6EtHDpXNc7Rb9cfcyXDqAgND1WG7PBlfoT3vdiuDVY1UHqsyFl/2JXYGS0mO5bQSLLtfvnG4SLgnavB0A3KaHS0/T3c8pYZWogthtvapApUf0y8bfN0tAaZnxdyU7xeiPi033O6ebhFtSmYx0tQavqwQANw3G6e3kmlDIk1hT2CwFR1WBKjN0hIEoUF46LtmhV8wCFsNUOuP3O4dbVrXS3Q9AMIxNpf3BCeAOPfhI0Eb3y6s8UOlrpsbeMQvAwvSw+ip95xZQd0PxFLPKO8bvd871UwACYohpP5wTDYVkbUC7rVccqLJX/ijZDHNOoUKZKbXNvGUWUG+6u1+aesgp/rwdDJcOICAG9LQf5jZckZXudsdbqDL64DgzaZaAMtS2krn8R7OAetMzy8MtuoWqozl4/c4BuOnSBL1YXBMNe9ISqepqo4ZR2avKJCSbGDALQIX0NpOZMguol/GpNN0kHKP7nXcHbBJEAO7SYYppP9yztiO4o9RWFKgy46fU/zgjjupks0nJxtW2g7rS83ZkmbfDKXq4dOafAhAUenQ/xlVyi67HVge423pFgcqbOO2P3AZUJRUnUC2C82MpSdNC5RQ9Oj4tVACCQs8/RS3mlow6bgnqCH9aRYEqPcbcU7CTjZ8xt1Avw1w/5Rx9Zq81Gsx+5wDcoufxvTKZNktwRaw5JOEA9/OsrIaeGjY3gOpkJy+aW6iHkUSKyXwdtIbR/QAEhB5UidNDbtFHLb0Bvn5KK7tNZ3WY8miYha2sZJMj5jZqNci8Hc6JqJpoTYxABSAYLownJUU15hR/2o8Ad/fTyp8kmBpRydKloXoT8sJjz8nOB2a+/kbPUQtL6mgwedncxnx+9KMfydjYmFma3znd71z3lyin/9tyYN+35bRZDLrTz9wuB5550yxVZuzlr6r36Kvy6qy8n1tf4r3z39Pb5Rcl9gf+3//rwzLzCQ7Lq3+t1qnHz/mq8nnq/Mz8U/PTZeeNN94wS7XzP/+iz3KxvCm/UNtDbnvKbS8HX873Bsndp7cXvS63TerloJfp+pWbHPM+zvnZ3PqZ9xv1UGk9pudRrKgeKzBTBoq/Su2Pp9WlHpwpp3o/P982U7TfmPV3i8qvqUdK1T3LT2WvvRK6HusK+HXA5Vuo0hNqw3dlrgAdpn4uf7XuVjny9H3m61aR/1YQqkZOyn954DfygmVBOH5QhbSDju3EUwxoUs6Pf/xj+dKXvrRghaSrn8sJVRaXUZe/pTr4tAlM5cR2fUMe3H1UDj1Z8PxHDqtlkT3fekg2mFXT+h6SR/fvkCPPzXq9qoJ86vC98uBXdkvMrFJVh9z8lV/JgYOFX9+UneqenbdszT2kQrrfub6GCqW9/vrrcuDAAf+rnsHKRr3Kw9jLT8uR7Y/Ko2q72bfrvPz6yaOy84Dehkpsl4FSv3KTs1Xu/Naj0nf4kaID79PPPCJHdn9TvbddZg3qoZJ6bCqdlclURlVjFvs0Uyamt40D98qRA/UJJgvXMTukt8fcrNqbBeX3CzL43PPSt/9ZdfsbcnOneciyVstrn7GqNditU1rZQOXp4dLTCbMUdHF56zWRvTsLd7Jd8sAX18qzRziTZSObGlehnEEUKjExMbFghTQ0npQw10+VtOF+VVndX/0B14b71cHascflkH/mbVheffJxkf1fnreii+16oODx2pvyiwPPq8qy3IGuPvOeO4i7s8+sqoD+tIM8b0c96TC1XIJV9XJBougAf921BQG9Pgc1jceu3BTp3C179ImQA6bFIH8CxGJ/gfLK1WN62o/cnq0O+r4ge7YflePH5jk+63tIBZdaT0JslW27N0qPqhM6N+2QnvUVhPA5f7e4/Fb0O5YFi9degv601zkw7YeXLdPumhk+Kulzv6zX5r/MFbRQ7Su14QzL3zzwkjzr314rf/nNT8rdakPTrU4P/tJfqcys91uzHhmRTXeckGfV/Z/97Fr5yU/O5x52x3x/I3jC6+4Ub9XHzBJK+fznP29uzWhtbZW7775b7rrrLonFYvLGhbicGEpUdmZPdys4IPKgv1PXByV75fi6e0UOPy+5E7XqgMLs8PWZuafkUdkzoILCseL7dIvNwYdfkm3fyp9N010AHhE58Cu5U/TfeF6vzJ05LGqhUcxz2LP/lBx68qi/Sp+l2/Y79fcO+4v+8vSBkv+3HjfPT1EHUTok6bP+j5uf99fd87563Anp2f28HFG/Z/p3Sv4+HYqeNQenudd+aF3ud5XkP89T0qcq5n71Psx5HbMVvLed+rkdubXsz/ivoYLHzRYNefKJjTHpcuDsnq2vfe1r8uabc88s33jjjX650t9fOxeXkyOT5p6Flf+scmXgiFma3ob97WKB8qAVPmb3vbJTlUe/LPWZMrrzWdkjj81s7/Jp+bD8g7xulvSZbb1dF5WJwr+lf/9z6jmJKhvHdsgeU279Mm7KXL5c+cy2vNOUJS3/N3Lmea1aUXmd+VuzFT3XQoXPYx625WYusx9Qz7Pv2FHpKXwdFdB73Jt62+TazubcCpRUST32z2fG5Mxo9SdZS28LM+Vm3y7xb59T9dwRXa709nXLi9P76g0LbOtF22gF22WO2ab8OnOH+r0iRwbM8zN/68GDt8nxgvKzRlWqF/L9APN/Z95ylPv9Ra9noceburpHP4/DpV/LvPsNZd59RB3o64A/dd0KiTUF+/Kh8oHq0lHJnFXvsitnxv0Q9I8zFcgX75K//ZctZknx7z8tt+dDU/8fZOfznfLClzdJt1r0w5WYsGR+lxT8jqL7XaA2r+zqv5Cf/easWYHZwuGwHDx40CzNla+Quj96u0xUOtLs9A59JlAdOpYPSmbZhIz8jjR/sOQvD5idrdlJlwxU6rELHvD4zyHXvaGw0ir5d/KVx33mQGfW3/UfqwNTQYUyE5pK3Z/72b5jCzy/Arn3oCBIlpF77vrgTArem3n478OpeQ84F+JJVrpH3pKBgQGzBrO98sor0t8/HcPn0IHqX+39olzx2syahS24TZvtNHcAp/fxxdvpwj9bouxMl4fi31v8e4p/rrhsz9r2TZkrDD7Fv2vW859VRou31YVe68LPqS6KnotZV4sS+41K6aOfD66KyGu//fvcCsyh66nvf//7ZmmufD3WefPtMmUxoW/JslViez1UeFKscLv0b8+3rUtxOapAqTLqd9PVy4V/t6j8zipTC5btEq9noceb7bt/VvCaPnlQ9LuLX++C+4g6aAp7cscH6lGIl7fyXf5U3Kry2sHG1rlJ/tZcP/XCF9fKke/9fOGBKfo+IkdMmNItXCfnHPesldtvKghkLqKb2oIquTjXC0dVJVRbQezb/wVzsNMlPev8GzNURfApcwC24Z5HVVB4SfrrcsHsvXKr2SnH1m/0l7eZv6O7EMzIdXnKHwTK4ImZlqqSdsi27fPs7P0uPiKHHr5dHbDqFrJ8ZTSfN+W4f2bueTm+8B+dlnuPji7YPTBHVYB+JV7ucaXpi3gr2T4wv7q+fyOvyPFjM9u03tZu3b1Al6NC/S/KkYLt3+8+mrtZldO/09tTviybbfHwiwUX3s/8DR0A+4+o0HZfvgyocnbfvWrdKwXXeRW8np4tMv2j/mstKGfqte7LX/ehX0vBPiPX9ary8lNebeWmlDG9T1Pfi1975bJMQ7ugiuqxpjZ/cAJrxx6Xx/0BHcyXf/KgOHD37fzEAvv7ebb1quXK1czf2iqf2l9Yn1WognJU9HrKPn6H7LnHBMLOa6Wwl7Deb8ju22b2G9Pd5CvZR9Smx5FJ6cu2UGVNlz+XDf3f38jd34vJU09/RLbNbqEqatFaKztvOi9H8l0GZz9Wca6FSgn17pZQ18fNEkop11ViNNskr54dl3SllVGJM12FZ5wKz07NPTOnz4I9Lb36zJ0Un4GffYas5FnDvFlnxGYvz/5Z/3nkuxxsL279KXqOs1oFtNKv4REZrOBsdP5nH930tApgG2ee74KK34f5zH1eldOnIW5c0yrXdTl+QqaM+br8bd26Vfbu3VvfLn/+Nmy67BUyZ4UX+tm59+XKZa5VtriMFj+2cFszZ639bkaFTNefwVllzvxsvsfFDNMaO7uMFpatOb9rhv/8SnTjK+4umDPfYxfqVlRxucmflTeLRV0SC02/rgfk3MOV7RcK6bJIl7/yytVjQ8moHD8ft4qmC5WtnBItK4Xb90Lb+uw6pqwS+3/9+5/bknt+RX9rbvktKufzlqNcF8bC17Pg47e/MqtenP/vFiuzjzBLtiKe55eda1YG/1rg8qP8hVSyrOWMQiPR3fceOylDZjGve13p4qsd/5kKU/p6KL9V65Py4Owz/65T246ntyFUTFdAn/vc5+SJJ57wKyjd71wPM1txmLIx8P7M2aiR92XQ3FwyqnJ76bA+KDSjN+2/1dxhxx/FS4UyefKxhUeAUhVf/gL12K4v+2f7nqrXaIIFv9uGP28Hw6VXTQcpPTDF17/+dT9M1ZV/VlsfaJjtNP9VwWfst9AeOyEzm+N5OTcnGJWTa13WB1BFf3/eEcPWSu/2XNAofnwFB0r+az0lgyXKj/9adPemot85a1ANQ4+mWfiY6a/53rNqyo3fajbzO0uf3FAHk9ODzWyVOw/cK/3l9guoWal6bEBP+2Hub2y5cjV4dqZleuzsKXOrctWUI63ax8/I7Tf6T5pr+IvUsI+oSFa62924BrhsoBJPvRERR87K9G2Uva/9o9xdNKx5Ql54/oTIHRtlm1kzx8BoLoSNnJSn3G7MmyvcpLYyLqivRKkKKE/PLL+oCrr4nf7p49K//Vbp0wdofreBgi5NfrelxXJUzpkk5z+H3M3q5Q/IvvKNXNe/wmHRi7w5a4S+Lrl5/9whlq3os59Fv7t6+qx4R7NLcwDWZlGDVF7nJ2SbCt0vFY7yuK/C+Vn6bvMHi5j+WcuytOEWHQh+OGuOm/nm2umSvp3FQ/3rM/EVDe3uv9bC7oy51+qXDf1ajj0uv86XE7295++rRR3KzWxjLz/mX4eyJ3/Q2ffQ3OkSUDcL1WOXJoIyBU+uXM2Uw1y3uapVW45qKHd6vyEFXYP9/Ya/H6hhH1GBaNiTlkj5qBEE5a+hCreK57lylrRL/uvTd8lfDrxUMLHvz+VXO++a6aLXqa+JOi9/9Ujuuqptn/m47NQhTD/2eyIPfnHtTMAqYdvOLSK/VL+/REtYIHkqUEUquxjcZfNVQNr4VFpSNV4/VdbujXLu4Vy/9FwYyXeryPUN739yb67P+u+2yJ7t/h2+mA5efr/2GidP9K9FETlyIPccjt+i556ZCVi5yuCR8jt5v6vFzAGZ3+ok6vmVnNjzkbnDMfvXX+khlvNzm+jHVTjPif7b5vnlr9fIv57ir/Lvle6J3e1Iv/NaffjDH65/kJp9rYb6yh206Gv9vik9+fJgtqH8GeKFy0NuTiTJ/6weja+gLFXMnw/tlDxlnpd/nWCpedMMf761dTOvp7h8L2Tua9Vd5XLlJfdaBvPbtxnsoXQLUeVqLTez5bpIzb2OMj9dwtz9AmqxUD2mw9Rynk6v4jrGyM1j+Lwph7nR+KpXbTmqodzN2W9snN4P2O8jynNp2o/y11BNDkr6vR+IpMfNGqAK4TaJXPeASFO5JmnM5+SlhLxxMSHpRQpVtVzn44Kxl78t/dsfmqdLVaFhefWZV6Tv/tororA68ND9zjes5JqNeqjmGipgNq6hqt3bQwl56+KEM1eQQPwJ6T+6vl3Wxtw4OVi+hap5ldqZVDpWMzBLVm07hKmanB9LLVqYQjnD0n9yS677Yzkjr8i5TQuNMFU5PTAmLVQAguJ8YK6fQqUy6rilp82dSz4q6NgYVv86zG2gOl50hbkFW0OLff0UFtAlN1fa4tS5W+4se3FwZaKhkLRG3eh3DiDY9PnAKwlOzLsm1hyW8HLu51lnFdXYXts15hZQHa9Nzz0EWyMJ3e98cXdIM/NRYLlY7cioSACCT58UdOi4Gor+uHs73OplUVmgil2nHunOhWWoE7XNeO1q24G1wfHU4g9IgWUlomqiNY70OQcQfBfGk5KiGnOKP+2HQ939tMr6lLRtEC/E5JKoktpmvHZaqGpxTvc7r2AGegSHzs/MPwUgKPQ8itRjbslkRLocuw64shaqSIdIc5c/SStQKa+52x/lD3Z0cbucSKk3kr4SLok1h/zRkQCg0U2lszKZyqhqjH2aS1Y51jqlVdZCpYRW3Kj+xySTqFAoIp7eZmBtaDwpYSohp+hP26V5OwAE26Cqx3J7NrhCf9rrHLt+Sqs4UHkdHxAJt5sloIxQq4T0NgNrut95kuunnKJbplbT3Q9AQOjh0tN093OKnkfRxW7rFQcqibRLqG0D/WBRkVDserXN0N2vFrrfOd0k3KIPPLpaGeEPQDBcjKfMLbhCH7bEmtzr0VZ5oFK87k9IKFKPaSsRaOE2CXV93CzAxlQqIwn1BbesIkwBCIixybRwDt49q9vd7LZeXaBqvUakpdssAaV5zavVdtJrlmBjaIKzeq7RbZG9DJcOICCG4kz74ZqI58laR+uxqgKVFl59q/qpVrMEzOK1SLj3NrMAW7q7X5p6yCn+vB1cPwUgIAb0tB/mNlyRlW5HJ6avOlDpOalC7Zu4lgolhTo2i7SsN0uwddEfGQnOUPtTT/3X0cxIqgCC4RI9LZwTDXvSEqk+WgSB1av21u0WL7rCLAFGpEO83n9tFmBrfCrNqEiO0Z92t4PzdgAIJh2mmE7PPS5P+2EXqPSIfz23qBvMl4KcbKhJbROfVNsG3UFrpeft0O0VcIceLr3XwXk7AATToH/9lFmAE1yf9sO6XS7UtUO82GazBKdl1fbQfp3aJj5mVqAW58dSkuZCXqfoYWa72whUAIJBzz9FLeaWjDpu6XG4p0VNHR3DGz8nXtMqswRnNXerbeHfmgXUaijO9VOuiYZC0hp1s985gGDR5wOvJNJmCa6INYcl7HA/z5prcG/jvxOJdJolOCeyUiKb1DaAuhhJ6H7ndPdzzWpHR0UCEDz6pCDXT7lFf9yud1uvOVCFmnskvP5OdYNrZ5yjPvPwNZ8RiXaZFajV4DjzdrgmomqiNcw/BSAgLownJUU15hR/2g/HB1aqSx8TL3a9ClW3qxvNZg0CL9SsPvPd4rVvMitQD+d0v3NG+HOK/rSZfwpAUFwYS1KPOUZ/3F2OXwdct0773optErl+H6HKAVmvSSLXPaA+8xvNGtSDrn4uJ1KqDNFXwiXtTSF/dCQAaHRT6awkkhlVjbFPc0lnK93W6xaofM1rJbzhbvEiHWYFAiccU5/xPeqzXm1WoF6GxpMSphJyiv60XZ63A0Cw6Gk/cns2uEJ/2uuY9qPOgUrxOj4koWv3qhu8uYGim0/UZxre/O8l1PHB3DrUle53nuT6Kae4Pm8HgGDRw6UzMb1bwipR0W19EQKV5rWskcjWL4s096qlcG4lGpcXFq9tvf+Zes09ZiXq7fxokm4SjtEHHl10lQAQEBfjKXMLrtCHLbEmjvUXJVDlRbb8Zwmt3aVurOACxUalPrvQ6k9L+Lr/ZFZgMUylMpJgWnnnrCJMAQiIscm0PzgB3LK6nW7r2qIGKi3UfYuENv0HCbVtEAm3m7VY9kLqs2q9RgWpfRLq2WlWYrEMTXBWzzW6LbKX4dIBBMRQnGk/XBPxPFlLPeZb9EClhZpXqQPz/yjh9Z8RaerRK8w9WHbUZ+M1r5HQhnskoj4zL8qkzUtBd/dLUw85xZ+3g37nAAJiQE/7YW7DFVnpZmJ635IEqjyvY4tE+vZL6JrPite2Uf11JgNeNkIt6jO5VsLX/BsJb3lQQrHrzR1YChf9kZHgjGxWPPVfRzP9zgEEwyV6WjgnGvakJbKkUWLZuirvQqjjAxLefL9Ern9AQt1/JtK0Wq1s9gc/wBLR77XfGrXW/wz8FsTN+1To7TMPwFIZn0ozKpJj9Kfd7fis8gCCQ4cpptNzD9N+zPCyy2W0iMlByYy9KxJ/X7KJ85JNjamVKu95nvoXlmw6nnucOhTRZ3Yxv6IP1G8FzPhnxP3v4XbxWteK175ZQrHrVJjt9h+Gq+fkpUl5/XxcfzpwhD6TtX1dm2xYSffnpfDaubicHJlkFE3YUfXnTb1tcm0n5XU+f7o4IW8PTvjHbHCDnjfzY9e0cw2VsXwCVQnZlApRqVGR5BX1fUyyyct+0MrqZcwrFFkpEo2JF10hoidZjqov9d2LtJlHYDnR1/C+M5wwS3CB7iKxYSVn9pbK4HhKRhJ0R4K9NeqgcQVddOeVTGf9kxYo7ZXf/15Wr1kjmzdvNmsanx4qvZcJfact60AFAAAANLLvfve7snXrVtm1a5dZg6DhSjIAAAAAsESgAgAAAABLBCoAAAAAsESgAgAAAABLBCoAAAAAsESgAgAAAABLBCoAAAAAsESgAgAAAABLBCoAAAAAsESgAgAAAABLBCoAAAAAsESgAgAAAABLBCoAAAAAsESgAgAAAABLBCoAAAAAsESgAgAAAABLBCoAAAAAsESgAgAAAABLBCoAAAAAsESgAgAAAABLBCoAAAAAsESgAgAAAABLBCoAAAAAsESgAgAAAABLBCoAAAAAsESgAgAAAABLBCoAAAAAsESgAgAAAABLBCoAAAAAsESgAgAAAABLBCoAAAAAsESgAgAAAABLBCoAAAAAsESgAgAAAABLBCoAAAAAsESgAgAAAABLBCoAAAAAsESgAgAAAABLBCoAAAAAsESgAgAAAABLBCoAAAAAsESgAgAAAABLBCoAAAAAsESgAgAAAABLBCoAAAAAsESgAgAAAABLBCoAAAAAsESgAgAAAABLBCoAAAAAsESgAgAAAABLBCoAAAAAsESgAgAAAABLBCoAAAAAsESgAgAAAABLBCoAAAAAsESgAgAAAABLBCoAAAAAsESgAgAAAABLBCoAAAAAsESgAgAAAABLXlYxtwEAAADU4MUXX5SLFy+aJZGhoSFpamqSjo4Os0Zk27ZtcuONN5olNDoCFQAAAFAnOlB95zvfMUulPfHEE7J69WqzhEZHlz8AAACgTm677Tbp6uoyS3Pt2rWLMBUwBCoAAACgjvbu3WtuzbXQfWhMBCoAAACgjuZrpaJ1KpgIVAAAAECdlWqJonUqmAhUAAAAQJ3NbqWidSq4CFQAAADAIihskaJ1KrgIVAAAAMAiyLdS0ToVbMxDBQAAgIaVymQlkcrKRDKtvjKSzuh16n/LxDvvvCNr166V9vZ2s+bqi4ZD6suT1khImiPqezQsIc/ciaoRqAAAALDsJdNZGYyn5NJEUi6p71NqOZHKBSedBUIqEejH6ANbzyMdLEQf/qs85YconQRUJpWwWmiJhqRJfV8di0pna0R62iLmJ7AQAhUAAACWpWQ6I2euJOX0lUkZTaRVAFChSR/9a/oQluBUP7Pez6gKVmn1Xq9b0SS9HVFZ19Fk7sFsBCoAAAAsKyMTKXnvUkIGRpN+6wkHq1dXWI+6oD6Eazubpa+nVZp18xamEagAAACwLOgg9dZQQobjSTG9+bCM6Nigr73SrVVb17RJE8HKR6ACAADAVaUHkfjDQFwujhOkGoVupdrY2SQfWt1m1riLQAUAAICr5r1Lk/LOcELiU+mia3iw/OlPq70pLDf3tkpnWzS30kEEKgAAAFwV/+/UqAzH05LmcLSh6daqTaua5YaeVrPGLQQqAAAALKl4MiO/PXnFnz8KwaDHrVjREpZPbV6RW+EQAhUAAACWzHA8Jf98dkwmCFPBo2JFcyQkf97X6dREwTpMAgAAAItudCot/0SYCi7Pk8l0Vg6/fcmscAMtVAAAAFh0A6NT/kh+qfzEvAi0SEjkz7d0+sOsBx0tVAAAAFhUg/GUHBsYJ0w5RA9//+KJEd0LMPAIVAAAAFg0Y5NpefXMmCSZX8o5U+oz/4d3L5ul4CJQAQAAYNH8/vSoJNK0TLlqTKWqfzo7bpaCiUAFAACARfHKqVGJJwlTrjs3OuVP3hxUBCoAAADU3buXEjKcSJsluExfOvfu8KRcTqTMmmAhUAEAAKCuJlMZ/wA6SVc/GBNqmzh+Pm6WgoVABQAAgLp6TR04x6donUKxy4m0vDM8YZaCg0AFAACAuhkcT8mleMqf5BUopLv+nRia9L8HCYEKAAAAdfPHi3GZpKsf5pFUaertoWANUEGgAgAAQF1cHE/KBBNOYQG5ASom1PfghG4CFQAAAOrixFCC1imUpTeRE8OTZqnxEagAAABQs7HJtIwxEAUqoBunzl4hUAEAAADTzo5OSSJF6xQqk0hmZXgiGPNSEagAAABQs/NjwZy0FYtDD05x9nIwWqkIVAAAAKjJ2FRGJlN090N1huLB2GYIVAAAAKjJpXhSphiMAlVKZjL+ZL+NjkAFAACAmlyMpyQdtNlaseh0CL+caPyuogQqAAAA1GRkIiWe55kloDIZFcIHVRhvdAQqAAAAWEukMrROwY4K4VcC0ELlZRVzGwAAAKjKUDwpR8+MS9KFa6hGDsvBhx+XfrNYZPc35cD9W6cfI/uflX27usyd2pvyi31PS++3viE3d4qcfuZ2eeqwuWvaDtlj7ndFJKTeuhtWSSO3b9JCBQAAAGsTqayknRqQQoeeX8mBg7O+dJgq0P/kD+W0uT0vHcIKfsej+0UOPfxVeXXE3O+AkIpSE8nGHpiCQAUAAABryVRGMuY28nZI3/bn5aln3jTLlYnt+oY8uPuoHPppdT/X0DyRyQafEJpABQAAAGsprh4padt9j0rf4UfkFyX7B86vc9MOkYH3ZcwsB50ey6TRu4sSqAAAAGDNvTx1VA49fLsc2Ff4VaKbXs9u2bN/hxx57nBV4Si2fqPIsRPiSq8/fe1UusE3IgIVAAAArLkXqEpdQ1V6IInYri/LHnlcDr08bNZgNt3dz2voISkIVAAAAKiFOham1998uuTm++6V/icfq3igibGzp0S2bxF3Bvpr/I2HQAUAAAB76niYOX0X0PeQGWjiRbNiIcPSf+SoyLprJWbWBF2zHjedLn8AAABwVThEmipnw/3flJ2Hn5cjZnk+Yy8/JoeO7ZA99xQPwR50jb4NMbEvAAAArL07PCmvX4ibpYBbaGLf7Y/Ko1/ZLTH/MS/JtlkT9I69/FV5/EmZnri39MS+98qDBx+SDWbJBU1hTz6xISarWiNmTeMhUAEAAMDa6cuT8oeBeACuhMHVEA158qnNHdLeFDZrGg9d/gAAAGCtTR0IR8N0+4Md3bTTyGFKI1ABAADAWnu0sQ+GcXW1RBs/jBOoAAAAYK054vndtoCqZbOysqVxr53KI1ABAACgJp0NPKAArh7P86S7jUAFAAAAx/W0R4VGKlSrJeJJJy1UAAAAcF1nS1iaSFSoUtjzZIXadhodgQoAAAA16WgOS3OEw0pUR7dsBgFbPgAAAGq2tiMYB8dYGk3hkKxbQaACAAAAfBtWNkkL81GhEtmsPzpkdxuBCgAAAPC1RcMSa2ZOKpQXCnlyTUBapzQCFQAAAOpiS1ezRGmlQhl6E7m+q9UsNT4CFQAAAOpidaxJYk20UmF+Ic+TzataAjXMPoEKAAAAdfOhnlZpppUK82hS6eOG1cFpndIIVAAAAKib7vaIrGpt/MlaUX+6VWpLd4sELW4TqAAAAFBXN/W2SVuUw0wU61RB+7quFrMUHGzpAAAAqCs9ye/16sA56tH1DzktEU+2rW0zS8FCoAIAAEDdbV7V7Hf/A8IhT67vbpUVAR1Wn0AFAACARbFjQ0za6frnvN5YVK5XATuo2MIBAACwaP7FtTG/uxfck81mpaMpLB9d327WBBOBCgAAAIumPaoOqNe1S4SjTuc0hT359PUrzFJwsWkDAABgUXW3R+Uj62IS9rJmDYIuEvLkL/o6zVKweVndFgcAAAAssrGptPzu/VGZTHH4GWRRFaZ23+BGmNJooQIAAMCSiDWF5ePr26WF/n+BpNtp9PVydzgUpjRaqAAAALCkJlJZ+e17V9T3jFmDRhfyRFY2h+WTm4N/zdRsBCoAAABcFb8/NSZD8aSkORptaE1hPe9Yq9zQ02LWuIVABQAAgKvm/ZFJeXswIfFkWjyP4dUbiW6Valdp6ubeNlnZ6u4kzgQqAAAAXFW659+xgTG5MJ70b2P509dKbexslg/2tJo17iJQAQAAYFm4nEjLW4MTfjfAlO4HSIvVshNWH8n6FU2ydU2bP88UCFQAAABYZnSwOnlpUk5fnlRHqyIZjlavGh0V9JxS2qZVzdLX1SJNjNJYhEAFAACAZSmlktSZK1Ny9vKUjCRSEvI8SZKuloSeSyqtYsK6jibp7Yj631EagQoAAADLXloFqYvjSRWs0jIcT8pUKjs97LoezEK3oegAQN6qTES/Z+pN01FAv2eRsOfPD6a78a2JNUlnS1i62twdaKIaBCoAAAA0LN2KldDhKpmWRDIj6p8KCBzeLkR34Yuq4NQaDUmL/z3M5Wo1IFABAAAAgCWuKAMAAAAASwQqAAAAALBEoAIAAAAASwQqAAAAALBEoAIAAAAASwQqAAAAALBEoAIAAAAASwQqAAAAALBEoAIAAAAASwQqAAAAALBEoAIAAAAASwQqAAAAALBEoAIAAAAASwQqAAAAALBEoAIAAAAASwQqAAAAALBEoAIAAAAASwQqAAAAALBEoAIAAAAASwQqAAAAALAi8v8BJWcyilRhyjsAAAAASUVORK5CYII=)"
      ]
    },
    {
      "cell_type": "code",
      "metadata": {
        "colab": {
          "base_uri": "https://localhost:8080/"
        },
        "id": "PGaZJVbneGUL",
        "outputId": "432a9c88-d9a6-4eb9-bc0e-14acf4d4bd72"
      },
      "source": [
        "Z - 0"
      ],
      "execution_count": 90,
      "outputs": [
        {
          "output_type": "execute_result",
          "data": {
            "text/plain": [
              "array([[2, 4, 6],\n",
              "       [1, 3, 5],\n",
              "       [1, 2, 3]])"
            ]
          },
          "metadata": {},
          "execution_count": 90
        }
      ]
    },
    {
      "cell_type": "code",
      "metadata": {
        "colab": {
          "base_uri": "https://localhost:8080/"
        },
        "id": "xMBfyuajeT9p",
        "outputId": "b761d8f3-f17d-4acb-e44e-8cc80de2e6af"
      },
      "source": [
        "Y * X"
      ],
      "execution_count": 91,
      "outputs": [
        {
          "output_type": "execute_result",
          "data": {
            "text/plain": [
              "array([[ 8,  0,  7],\n",
              "       [15,  8,  9],\n",
              "       [ 4, 35, 56]])"
            ]
          },
          "metadata": {},
          "execution_count": 91
        }
      ]
    },
    {
      "cell_type": "markdown",
      "metadata": {
        "id": "BRrjtweOnsmw"
      },
      "source": [
        "![Screenshot 2021-09-25 234007.png](data:image/png;base64,iVBORw0KGgoAAAANSUhEUgAAA18AAAEWCAYAAACZji3kAAAAAXNSR0IArs4c6QAAAARnQU1BAACxjwv8YQUAAAAJcEhZcwAADsMAAA7DAcdvqGQAACukSURBVHhe7d1/cFzlvd/x79kf+rmyZUm2ZWNjgxUSE+OQxOl1Jrm+0HuJU0hak6bxnRZop0P8B2GYdsZkJn904vTONDOBTu4w/JgQJjMFp00yGaA3geLkTqE0P3yDc0vAQAIyxmAsG0uybK1Wq/11+jxnn5VW0kralbVn95zn/QqK9pxdS6vdc/Y5n/N8z/M4riIAAAAAgLqKmO8AAAAAgDoifAEAAACADwhfAAAAAOADwhcAAAAA+IDwBQAAAAA+IHwBAAAAgA8IXwAAAADgA8IXAAAAAPiA8AUAAAAAPiB8AQAAAIAPCF8AAAAA4APCFwAAAAD4gPAFAAAAAD4gfAEAAACADwhfAAAAAOADwhcAAAAA+IDwBQAAAAA+IHwBAAAAgA8IXwAAAADgA8IXAAAAAPiA8AUAAAAAPiB8AQAAAIAPCF8AAAAA4APCFwAAAAD4gPAFAAAAAD4gfAEAAACADwhfAAAAAOADwhcAAAAA+IDwBQAAAAA+IHwBAAAAgA8IXwAAAADgA8IXAAAAAPiA8AUAAAAAPiB8AQAAAIAPCF8AAAAA4APCFwAAAAD4gPAFAAAAAD4gfAEAAACADwhfAAAAAOADwhcAAAAA+IDwBQAAAAA+IHwBAAAAgA8IXwAAAADgA8IXAAAAAPjAcRVzO3wKGXGz4yK58eL3wpRIXn1hYZFWkWirOPEukVhX8XukxdyJsHt3bEqmcgWzhLCLOI5s620zS6jk/EROxtI5swTUbl1nXFa3Rc0S6u3t0bTkC+E9tMVs8WhEtq5Rx64BEo7w5ebETZ4Ud/J9cVOnVcBKqbB1Sa3Xf5qj/ouom3lx8hl9tFH8N6jI2xxU2HIc1VC4+iBcLasDNCe+SoWyDol0bhZpu0KcxFVqPY1JmAyOpOVP5ye99xt2cNT+/YmNndLfxQmWhbx6NiWnxqbUbsF+gWVQbep1/R1yZXewDg6D6rUPUvK2assiEQq7bKGO8OXPNiekpyNu1jS/4IYvFaYKY8dFxt+SQvKEuJGYOLpnC/Wne8fU6x9JbBPp+pBEVu9QWxIfdEH3q3cuydhkjvBlEb3Xfu6abolxUmpBpfAFLIfeswhf/vnfJy7KRCbPyRKL6Obr5g+vMUvBELgjZndqWApnnpHcH/+rFM79UgWvN9VataMRvPyjX2s3J/lLf5TC2V+o9+I+9Z48q96bEfMABNGldJ7gZZmOlgjBC0AoZPKuVzZP8LLLmraYuRUcgQlfBRW68qf/p+RPPiGFsT94B//6mi40jvcBp98DrxfyZfXe/DcpvP936hNw1DwCQTE8kaUi1zL67e5PBKdMAwAWo9ux4icbbOG1Y13Ba8cCEb4KZ34uhXd+KIWLx9XCpFmLplNIe+9R7uRhyb//c7MSQfCBarSyXKBsFd3jtY5rvQCExLnxjOQDeiUNlieq0tfaAJ5EbOrwVRgflPxbj6gD+tdF8hN0JQdFPinupdcl99bD4iZPmJVoZufGs+xflskVCtLTHrxyDQCoZDjFqKS2iUQcSbQEb/C3pg1f+feelMKZn4mbvVAsMUSw6PcsOya5038n+fd/ZlaiGWXyBYaXt9CadkoOAYRDMpMXijfsoscL7OsI5gnE5gtfbkbyXo/JoEpglBgGnVOYFPfSG5J76yFCdJMaSeX0hAKwiO7j3BDAOnkAqGRkIic50pdV4pGIrE8Es3S+qcKXHi0v9+Yj4mbHOFAPE68X7KLk/vSgSEa9t2gquuQwT5tllaj65O/rJHwBCIeh8QwnEa3jSm8nPV+Xp5CR/Lv/w7u2CyFVSEnunSfUdz0iEZrFcIr3wza656urlUnSAYTDBT1HJawSjzrSFmvaq6cW1RzPOn3OG5xBspfMCoRWbrw4EEf6A7MCjaQno8xTqmEX15WeDnq9AITDmApeTJVin3UBniql4eFLT5qcO/UTkXzKrEHo5Sck/+6PRDIXzAo0ip4XpcC8KFaJqqMUrvcCEBbnU/p6L7MAK3hTpQT0ei+tseHLzUjhnf+uDsbHzQpYI5eU3MnH1Y18cRkNcS6Zo+fLMnpGgV56vgCEhJ7fi1bMLgV13BLUkQ61hoav/MkfiptPmiVYR/eAva0DGBpllOu9rKPPGLbHg1knDwDl9JzKl9KcxLVNojXiVXEEVcNa4ML7z3olh7CbO3VeCkP/yyzBT2PpHBMrW2gdoxwCCAk9YJQevRX20Ect/V3BLTnUGrLJFsYHpTDxljry5qy79dyc2h7eFDd5wqyAX4aZF8U6MdVqBfkiZQAo98FEVrJc72UVb6qUAJccao0JX2d/IZJjSHkYalsoDB0xC/DLWV0nr2s2YA2dtZnfC0BY6HkqacfsotuxoI/Y63v4Kgzp4MV1XpjNVdtE4ezfmyX4wauTp+zQKh0tEe+aLwAIukzelalcgfJ5y6xpC3avl+Zr+HIzI1IY/5NXagbMossPL77O8PM+0UPMcwxuF/129zPEPICQ0O1Y8ZMNttDv9oZVwW/HfA1fhQ9e9CbZBSrKJ4vbCOquWCdPqYZNgj4vCgCU00PM5yk5tEpUpa8wlM77Fr70yIZu6l2zBFRWmDgpboZRMOtN18lTqmGXXKEgPe3BL9cAAG04RRWVbSIRRxItUbMUXL6Fr8LIUQbZwNLyKXFHXjILqIdMvuDVycMua9opOQQQDslM3ht4AfbQA6sEfZTDEn/Cl77GK/m2WQAWp6ciUEm9uIAVN5LKCW2WXbw6ea73AhASI0yVYp14JCLrQ1I670v4ci/9UdwCc3qhSoWM2mbeNAtYabrkME+bZRVvXhSGmAcQEkN6qhRzG7ZwpbeTnq+qFfSBdGHKLAFLUNtK4eIfzQJW2nCKEyG20T1fXa3Br5MHAO3CJNUxtolHHWmL+Xa1VF3V/68opMVND5kFoEp6mylkzAJWykQmT6mGZXSdfG/AJ6QEgBIdvJgqxT7ru8IzWm/dw1dh4j31f5xpR21cNytuSm07WFF6XhSXeVGsooeYZ34vAGGhRzlkzCi76HZsbYhK5+sevpzJ094IdkBNcinCVx2cS+YkT8+XVfSMAvR8AQgLPb8XrZhdCuq4JSwjHWp1D1/5JHN7YXnc1PvmFlbKKNd7WUefMWyPh6NOHoDd9JzKl6byZgm2SLRGJBqiWtP6t8iZUXMDqI07dd7cwkoYS+eYWNlC6xjlEEBI6AGjOJVkF33U0h+i6720um7Drg5eDp3DWC5X3OyYuY3LNcy8KNaJqVZrXYLwBSAcPpjISo5mzCreVCkhKjnU6nsCITOmEqtNwxun5Zn7npTdd8x8fVfPF4xlUkeO2YvmNhbyk5/8RJLJpFla2FldJ69rNpYy+LAcuu1hOW0Ww+70EzfJoSfeMEvVSb74DfUafUNennNuoLi+wmvnvaY3yXMVPg+83/+dIzLzDo7Ky99R69Tj533V+Dx11mZ+r4Xpfef11183S/WxnO2r8d6Q59T2Vml79V/xuVR8Db39av5+WKL3x2r/hpr3aayoatsxPU9lVe1Ylbz9s/wz1vtaeJvyrEgbObOP6edw+EUfqsTq0LZPf77pnz2rHVs5uh3rCdl1y/Xt+cpPqp3ElrkYdPB6Vv5mww1y9PEvma8bRP5zWQAbOyX/4Y5fyzPL7Mw5flgFusOWlXHmGKxlKT/96U/la1/72qKNl26qLqbVvthEZYfeQU2dPqzL1ePgN7Hn23Ln3mPy9KNlz3/siFoW2ffgXbLJrJo2cJccPLBLjj455+9VDdZjR26VO7++VxJmlWpm5Pqv/1IOHS7/ekB2q3t2f3p78SFV0nXy+povVPbaa6/JoUOHvK96h7DaNVMAWp6V2fe2y+cfPCgDRx6fc0CsXp9DT8nuQ9+W67vNqmn6tfuG/OqUuvnb6g44a96nsaKqaccyeVemcgXVjK3wZ9reB2Z93h48IPL03SsRUpbah3dJf5+5GRjz/6aBLevNrfpY0x6uXi+truHL0UPM59NmKexS8uarIvt395hlrUfu+Op6+fFRrntbDjc3oQI8A0RUY3JyctHGa2QiK1Gu96po0+2qwb29tlCjbbpdBaJX7penvTOWo/Lyo/eLHLi3woFgUWLPHWWP10oHj0sd2OmesHvkqDpA+PyAWVUF/W6HaV6UetLBq3lDGKR7r9wwJxidfmKxfUIFtsP3Sv/QMTkqN6oD6urCU637NFbWUu2Yniql+MlWX95ntTwlxxcKTQN3Vb1NLWy77Ni7WfrUttW9ZZf0bSw/dgyOTZ++tfjc+7bJwIYry04irgz9bm8I4VQp9e35cnPiWnPA1yHXXCfzglbvn39Gjt6md6pR+e49v1cNwTn5m3tmer+83qzpMsWyXjGvl+wP8l1z/3/56a/lzl+o9b94wZreL312yxFmsa/FQo2XrpPPLut6r2IJ3OEnHpbDXjmG/po5I1g8s32krEyu7Gzh2BH1b8rLN8rOmA0+LPc/ekxEHejcX6n3y5RHvOyV/BR/dqk8o3x5mve7Zu4rnW3XvWuPHVE3jtxTXOc97mF5zvyc6Z85fV95+Ycp/1vwzL06wDt0qww+ep8c/s5+eVoOyr49izWgpcf/yHuNki8+Lkd3HpTPLhGoki/e5/3sgzUGxLDNi+KHRoSwYlmb2W6n9wUTuNWto4fmbOvGovueVwKktnPvvpl9sHz/mbdde/tc6b7nzUplsf3YqPQ3zNv3ZjH7VunflH1V+lu1UjD6lb5fPacXjuySfV9ceJ84/cR+Ob77x3Jwy+M1lHTVuk+jHhZqx/QQ8/kVLDmsTnFbfU61gd42qrdl0z55+5u5XWpT9Fdxe1t6H950ezHA6V7X4kmE4u86/OIRbx/zfl5Z+6j33+m2eHp9cX8s/e65v2dWm/lbs1KrYr+e/3lR4W9SQdR77t175bZlnMRcSlRFiDCWzjvuShbPzlG4cEwKZ9Snry0BTAcmL2AV7f7qzfK3f95mlhTv/tNy0wOfkVv0mbTBP8jup7rlmXu3SK9a1EHsTrmhGNbMz5KynzHrfhuoTdNd+1fy81+fMSswVzQalcOHD5ul+drb2+WWW26R3o/fJJPVjs6rG5NDInd6Z/b0h606CHnl1tnLGx7weov0h7M+wNp96JfeB7C3PKSCgi6j0x/ud78gOx4slQXpD/d7RMxj9cHZ/UdvKD7W+8VlvOfwlAwc+LHcpg5+vMeqsFbx95jndPZLxfu8RqXs93qPleLzLd6nz2YXf642//7ivx14ZZHnV6b4GpRen6UVn/su9fOl7LVZgPc6vCf7lnpcBY640jv2pgwNDZk1mOull16SwcEKR0XGtddeK/90/1flktNh1tRu1vY116x9be5jZ+8vcxW3uwX2PbP/lO7TZu9vxZ89PL0fVNg3S/tb3+L78WJ/w6J/+3KY/WFg5zH1h5ee+8orvrbV79OL0Uc/H14Tk1d/8/fFFZhHt1M/+MEPzNJ8pXas+/qbJLPCkytX2kaL2//m2W2ePgFWagvKt3mzr5Xaqtmf2Yvvw/OV2ttd5t9Xam/Lt8vi/fokw/zfre4uf57TP9v8+5ra5/Lfc67Gv+nytKj09bkP1dj4BUB9yw5VrPP9JEUjdW+RvzXXez3z1fVy9PvPLj7oxsDH5KgJXvqasVPzjpHWy03XlYU3G1Eqt6hqzp040bhqsC5vRxw48Nfmw75H+jZ4N2aU9d5s+uJBFSpekMHps2mX41a5wRxcJTZu9pZ3mN+jyzRmFK+Rmm4Ihk/IwofT2i7ZsXOBg7buvbLPq/e/STW+om4vHrx0g3Vcn91frERljuJrpA4elyxnUo2h16gvr+xJX6Bcx3NrVqj363f6t/r9Le1bZts48vxMD9ZSFt33ZvYXfZA2ePSYDOz+lNmet8tnD+xS614qnj0ffF6Olj2+WHZVHf03yN4bZ/6GZZbxVmXgr2WfCl6Dde2Rqn2fXorLlMCLqqoda+nwBl6oC907W+rhUV/eZ/+c6/xm9p1KZtoqr/yueGv59t5hPvNV2/alW9XzK/tMKNvXZOwlOa6C2nR7ZvaP468Ue3pn75vmZ1Vl7udFsY2t18mOxfSFbKCNkrr2fLmjxyR/VtfK2Wvk//5abvl+Qh57/GOyY27P16yesvWy+7pzclQP2DHd81X2WMW6ni8l0r9XIj2fNEuo5Ctf+Yq5NaN0pvDmm2+WcbdFXj4zIflq9/QKZ8umz6wpi5/Z1mfPHpd+fTZNajmzNses5zB/ee6/LZ4R1A9Uds7uVZr1HOed7Ztzv6f4PGd6BRZW+re6tGnmTOlSZr8OC5n/vKqnT1lcu65druqx/OTNEr75zW/KG2/MLyvdvn277N+/3+v5evVsSk6NTZl7arfw+1g6E20Wp5XOei++nVTebs2+Nzxn/6mwzZXvQzJvXyw+N683edGer/mfD+Vq/9tnevIWcjn7RTVKP7+2fXphel+8rr9DruxuLa5ARUu1YyPZuBw/l1rxGLv09lRhGy9vj+a2VbPamOo+62dU+F3ezzshN6ifL3Of69zfPevfy6I/a/Ger8Wed61/0/LFHMfbd65YHb5rl+t7zVdEJda6Rbsmo0sI7zslI2axpHfDwudKjv9cBa/PlUZH/IzcObdHwXZq23H0NoSq6cbqy1/+sjz00ENeY5ZIJLyheasOXssx9O50TbqMvSvD5qZvVCPiXf/xoBmt6sAN5o7l8S7kVwFOHr1vzuhqc6iGzysBUQ1hYs+9sm/nU/LYgteH1ajsZy+HNy8K13vVTIcufb3Xt771LS941VexF1mXK5WPtHbocOlgqApV73vrpX+nyPCZytc+eT3Lr5yQmc39nJytEIzmK/4Ng6fOmeVqVRrRs/hV7wO6RdVzn0bVKrVjQ3qqFHN/2M3anxar5PB62d6T4YrtVIV9c8mqkJLFPy/840pvZ/hGOtTqGr7EUS9azJKzPQObZf+rv5dbZg2GkZZnnjoh8rnNssOsmWdovBjYxk7JY3Z3Es4XbVFbaDh3vJVWqbEqGU7VecTIslKn0z+7XwZ33iAD+uCx+0rpk5kSiGJpU70ck7PmyNN7DsWbtSsdfH3928Xyw/Jhp2d5Y85Ihepg8oAuGbtnwQEDqqbPSM762bXTZ9u7Wm2aY/Hy+Bu6ZuiRwkoDsGi6N2rWwBlLWWjfm6dHBnaXlRmq7fdXj5aVFQ3c6I3u9kJpYIryfXWJ/Vj/DeVlUd7fUGkQnaZXx30aVVmsHbswadHgW9P706i8/OTsst5Zuj8lO8rKDGXwR971YqUyxOK+OTNFg1eGWLLofj3380KflCwNuuGfeNSRtlh9Y0qj1Pear2i7OI4tZ1975D8+frP8p6EXykYvfFZ+ufvmmTLBbn0Nlx7tsHgd2I4vfFJ268CmH/t9kTu/un4mjFWwY/e24miHFXrYQslR4Su2/AvdbbFQY6VNZPKSq1uhvLF3s5y9u1grXwwupdIlc13Jo/uLtfS/3Sb7dnp3eBL6QFGPdljLwWYl3jDUxdGX9O85/mk9J9ZMGCs2QPcsfUDolXDMHHx5Z75FPb95DU6x7GLeMNfe9WK71PMojSClH1c+mtQi9O8ujRKnD6jV99LfM/tr6ddKV5L3hrROfqV99KMf9Sd0zbmmZHoEQm/+t/fkMbN+9rUmeijq4naw4Gh9C+5783nzWG3Q+5t+fHH7nSkVLM6lJaV99UmR3dP76uL78fy/YfP086h632u4avdp1Mti7ZgOXsGcrrCKfbiCAfVvXvD2p/1LjHSre5AfkL7Svum1X2U9596+WbyGWd//gtxadj3aEu3zrM8L9fmiB/Pxnsfy/qblCPNUKfW95mtqWPLv/FAkP2HWADWIdkjsqjtEWkoHCKjVqQtpef18WvJ1CmD1vv4i6JIvPiyDO++qooxsVF5+4iUZuH3hg+dq6aF5dZ38ptVcY7ISLvear3ph3wsGrvm6fG+NpOXN85MWlB1WuObLUnqqlI9v7JT1iXCeSKxvz1frGvXBU+341sAcrtp2CF6X5VwyV7fghaWMyuCpbQuUgc0x9pKc3bLYaFrV0wOE0vMFICz0/F60YnYpqOOWvo7wXnZS52LKqPqvy9wGauPEV5lbWK6Rel/vhUX0yPXV9mR175XPr9CZzngkIu3xcNbJA7CLPnd4Kc1JfNskWqMSDWataVXqWnaoFc48K4Wxl80SUL3Imk9IZMPnzRJqNZbOyT+8m5QsPV9WuXJ1i+zc0GmWcLmatewQwUDZ4eU5P5GV359OSo5mzBp6n/lQX5tc09deXBFCdT896iSuUr8lvBfNoU7UNuN0qm0HyzY8kav/YBtoKjHVaq0LaY08APt8oMIXwcsu3lQpIS451Opfm9KxSZwIE32iRmqbcTo3mwUsx1ldJ1/fjm00GZ21md8LQFjoeSppx+xSKIj0hPy65fr3fMW6RFp7vAlzgWo5rb3eaIdYHr27XUzn1AsZ3pppzJdojXijRAFA0GXyrkzlCqoZ4zPNJmtC3uul+XJVdmTVter/mPATVYrExNHbDJZtZCIrURosq+h3O8zzogCwy7Bqx4qfbLCFfrc3dIW/esOX8OV0fUgkygXgqFKkXSJ6m8Gy6Tp5Btqwi+7xWkvJIYCQ0EPM5yk5tIqep9KG0nlfwpfEOiXSsYm6XVQlkrhabTOUHF4OXSdPqYZd9EFKT3v4yzUA2OF8KmduwRb6sCXREv5KOX/Cl+L0fkoisZWYQhShFu2QSM8nzQKWI5MrSFp9wS5rCF4AQiI5lRfO19tnbacdpfP+ha/2K0Taes0SUJnTulZtJ/1mCcsxMsnZQtvoPs5+hpgHEBIjKaZKsU3McWS9Je2Yb+FLi669Qf3G8E6ahsvktEm0/0azgOXSJYd52iyrePOicL0XgJAY0lOlmNuwhSu9nXZUcPgavvScX5HOLVz7hYoiXVtF2jaaJSzXeW+EKFhDfZ466n9drYwoCyAcLlDBYZ141JG2mL+xpFF8/yudDXvFia8yS4AR6xKn/5+ZBSzXRCbP6FCW0e92rwXzogCwgw5eTFdoH5umSvE/fOmRD/s+rW4wHw2K3EiL2iY+o7YNSlIvl54XRfeDwB56iPl+C+ZFAWCHYe96L7MAK9g2VUpD+vciPbvESWw1S7Caq7aHzqvUNvEJswKX41wyJ3kuUraKHpq3t4PwBSAc9PxetGJ2Kajjlj6LKjgaVlwZ3fxlcVrWmCVYq7VXbQv/0izgco2kuN7LNvFIRNrjdtTJAwg3fe7wUjpvlmCLRGtUohbVmja0xXY2/yuRWLdZgnViqyW2RW0DWBFjaV0nT8mhbdZaMjoUgPDTJxC53ssu+u22rXS+oeEr0ton0Y2fVze41sc66j2PXvEFkXiPWYHLNTzBvCi2ialWax3zewEIiQ8mspKjGbOKN1WKZYNGNbxWxUlcrQLYTepGq1mD0Iu0qvd8rzidW8wKrISzuk6ekQ6tot9t5vcCEBYfJLO0Y5bRb3ePZdctN8WFAs6qHRK7+jYCmAVcp0ViV92h3vNrzRqsBN1UXUzn1D5EvYZNOlsi3ihRABB0mbwr6WxBNWN8ptmku92+0vmmCF+e1vUS3XSLOLEuswKhE02o9/iL6r1ea1ZgpYxMZCVKg2UV/W7bNC8KgHDTU6UUP9lgC/1ub7BwqpTmCV+K0/URiVy5X92gjCZUdLeMek+jW/+1RLo+XFyHFaXr5LNc72UV2+ZFARBueoj5PCWHVomq9GVj6XxThS/NaVsnse33irT2q6VocSWCy4mK07HRe0+d1j6zEivt3HiWUg3L6IOUHgvLNQCE0/lUztyCLfRhS6LFvmP9pgtfJbFt/14i6/eoG6u4+DKo1HsXWfsXEr3q35kVqIdMriBp9QW7rCF4AQiJ5FTeG3gBdlnbaWfpfNOGLy3S+2mJbPk3EunYJBLtNGvR9CLqvWq/QoWu2yTSt9usRL2MTHK20Da6j7OfIeYBhMRIiqlSbBNzHFlvaTvW1OFLi7SuUQfx/1aiG78g0tKnV5h70HTUe+O0rpPIpi9KTL1nTpwJtP2gSw7ztFlW8eZF4XovACExpKdKMbdhC1d6O+2s4Gj68FXidG2T2MABiVzxz8Xp2KyeORMzN41Im3pPrpToFf9CotvulEjianMH/HDeGyEK1nBdcdT/ulq5JhZAOFyggsM68agjbbHAxJAVFbi/OtL1IYluvV1iV98hkd4/E2lZq1a2egM7wCf6tfZ6udZ774HXM7n1NhWQB8wD4JeJTJ7RoSyj3+3eDq73AhAOOngxXaF9bJ4qxXHDMJrF1LAUkidFUu+Kmz4nbi6pVqpc6Tjqv6i4+VTxceqwRZ8xxsJmbQxe72LBO9PufY92itO+XpzOrRJJXKWCb6/3MDTOqQtT8tq5lH53YAl9xmznhg7ZtJoSbD+8ejYlp8amGE0Uy6Paz+v6O+TKbvbXhfzp/KS8NTzpHbPBDnpe0k9c0WntNV/hCF8VuDkVuHLjItlL6ntS3OxFL5S5ehkLisRWi8QT4sRXiegJr+PqS313Yh3mEWgm+vrkt0fTZgk20GUam1YzubJfhidyMpamJArLt04dYK6iTHhB2bzrneBAZS/97neydt062bp1q1kTfHp4+X4LJ1cuCW34AgAAAILse9/7nmzfvl327Nlj1iDo7LzSDQAAAAB8RvgCAAAAAB8QvgAAAADAB4QvAAAAAPAB4QsAAAAAfED4AgAAAAAfEL4AAAAAwAeELwAAAADwAeELAAAAAHxA+AIAAAAAHxC+AAAAAMAHhC8AAAAA8AHhCwAAAAB8QPgCAAAAAB8QvgAAAADAB4QvAAAAAPAB4QsAAAAAfED4AgAAAAAfEL4AAAAAwAeELwAAAADwAeELAAAAAHxA+AIAAAAAHxC+AAAAAMAHhC8AAAAA8AHhCwAAAAB8QPgCAAAAAB8QvgAAAADAB4QvAAAAAPAB4QsAAAAAfED4AgAAAAAfEL4AAAAAwAeELwAAAADwAeELAAAAAHxA+AIAAAAAHxC+AAAAAMAHhC8AAAAA8AHhCwAAAAB8QPgCAAAAAB8QvgAAAADAB4QvAAAAAPAB4QsAAAAAfED4AgAAAAAfEL4AAAAAwAeELwAAAADwAeELAAAAAHxA+AIAAAAAHxC+AAAAAMAHhC8AAAAA8AHhCwAAAAB8QPgCAAAAAB8QvgAAAADAB4QvAAAAAPAB4QsAAAAAfED4AgAAAAAfEL4AAAAAwAeELwAAAADwAeELAAAAAHxA+AIAAAAAHxC+AAAAAMAHhC8AAAAA8IHjKuY2AAAAgAZ5/vnn5fz582ZJZGRkRFpaWqSrq8usEdmxY4dce+21ZglBQ/gCAAAAmoAOX4888ohZquyhhx6StWvXmiUEDWWHAAAAQBO48cYbpaenxyzNt2fPHoJXwBG+AAAAgCaxf/9+c2u+xe5DMBC+AAAAgCaxUO8XvV7hQPgCAAAAmkilHi56vcKB8AUAAAA0kbm9X/R6hQfhCwAAAGgy5T1d9HqFB+ELAAAAaDKl3i96vcKFeb4AAABgpVzBlXTOlclsXn0VJF/Q69T/NYm3335b1q9fL52dnWZN48WjEfXlSHssIq0x9T0elYhj7sSSCF8AAAAItWzeleFUTi5MZuWC+p5Ry+lcMWTp3BBR6UE/Rh8UOw5JYjE6Oqjs5QUunSJUfpWoWmiLR6RFfV+biEt3e0z6OmLmX6Ac4QsAAAChk80X5P1LWTl9aUrG03kVFlTA0klB04e/hKyVM+f1jKsQllev9YZVLdLfFZcNXS3mHhC+AAAAEBpjkzl550JahsazXq8MB7qNFdUjTKg34cruVhnoa5dW3W1mMcIXAAAAAk+HrjdH0jKayoqpKEQT0ZFDXyume8G2r+uQFktDGOELAAAAgaUHyPjDUErOTxC6gkL3fm3ubpGPrO0wa+xB+AIAAEAgvXNhSt4eTUsqk591zRGan363Oluicn1/u3R3xIsrLUD4AgAAQOD8w3vjMprKS55D2UDTvWBb1rTKNX3tZk24Eb4AAAAQGKlsQX5z6pI3PxfCQY/JsaotKp/duqq4IsQIXwAAAAiE0VRO/t+ZpEwSvMJHRZLWWET+cqA71JM266AJAAAANLXxTF7+keAVXo4jU3lXjrx1wawIJ3q+AAAA0NSGxjPeiIa50iTJCLVYROQvt3V7Q9OHDT1fAAAAaFrDqZy8MjRB8LKInjLg+RNjuhIxdAhfAAAAaErJqby8/H5SsszfZZ2Mes//z8mLZik8CF8AAABoSr87PS7pPD1etkqqBPaPZybMUjgQvgAAANB0XnpvXFJZgpftzo5nvIm0w4LwBQAAgKZy8kJaRtN5swSb6Uv9To5OycV0zqwJNsIXAAAAmsZUruAdbGcpN4QxqbaJ4+dSZinYCF8AAABoGq+qg+xUhl4vzHYxnZe3RyfNUnARvgAAANAUhidyciGV8ybcBcrp8sMTI1Pe9yAjfAEAAKAp/PF8SqYoN8QCsip5vTUS7ME3CF8AAABouPMTWZlkQi8sojj4xqT6HtyATvgCAABAw50YSdPrhSXpTeTE6JRZCh7CFwAAABoqOZWXJINsoAq60+vMJcIXAAAAsCxnxjOSztHrheqks66MTgZz3i/CFwAAABrqXDIcE+jCH3rgjTMXg9n7RfgCAABAwyQzBZnKUXKI2oykgrnNEL4AAADQMBdSWckw0AZqlC0UvImXg4bwBQAAgIY5n8pJPugz58J3OrBfTAevXJXwBQAAgIYZm8yJ4zhmCahOQQX2YRXcg4bwBQAAgIZI5wr0emF5VGC/FMCeL8dVzG0AAADANyOprBx7f0KyNlzzNXZEDt99vwyaxVn2PiCHbt8+/Rg58GO5bU+PuVN7Q5677XHpf/Dbcn23yOknbpLHjpi7pu2SfeZ+W8Qi6qW7Zo0Eqd+Uni8AAAA0xGTOlbxVg23ogPRLOXR4zpcOXmUGH/2RnDa3F6QDW9nPOHhA5Om7vyEvj5n7LRBRsWsyG6xBNwhfAAAAaIhsriAFcxslu2Rg51Py2BNvmOXqJPZ8W+7ce0ye/llt/y7QHJGpgE3OTfgCAABAQ+S4+qWiHV86KANH7pHnKtYoLqx7yy6RoXclaZbDTo/TErSSVcIXAAAAGsK+7HVMnr77Jjl0W/lXhVLBvr2y78AuOfrkkZqCVGLjZpFXTogtlYf6Wq98wDYiwhcAAAAawr7wVemar8qDZCT23Cv75H55+sVRswZz6ZJDJ1DDbRC+AAAA0CjquJnKw4X0yPVfulUGH72v6kE0kmfeE9m5TewZ8DB4Gw/hCwAAAI2hjp2ZX3kRA3eZQTSeNysWMyqDR4+JbLhSEmZN2LXqseYpOwQAAACWFo2QvJay6fYHZPeRp+SoWV5I8sX75OlXdsm+L84etj7sgrYNMckyAAAAGuLk6JS89kHKLIXcYpMs7zwoB7++VxLeY16QHXMmS06++A25/1GZnkS58iTLt8qdh++STWbJBi1RRz61KSFr2mNmTfMjfAEAAKAhTl+ckj8MpQJ45Q6aQTziyGe3dklnS9SsaX6UHQIAAKAhOtRBczxK6SGWR3chBSl4aYQvAAAANERnPFgHzmgubfHgBXfCFwAAABqiNeZ4pWNAzVxXVrcF51qvEsIXAAAAGqY7QIMloHk4jiO9HYQvAAAAoGp9nXGh8wu1aos50k3PFwAAAFC97raotJC+UKOo48gqte0EDeELAAAADdPVGpXWGIekqI3uMQ0itnQAAAA01PquYB5IozFaohHZsIrwBQAAANRs0+oWaWO+L1TDdb1RMns7CF8AAABAzTriUUm0MucXlhaJOHJFQHu9NMIXAAAAGm5bT6vE6f3CEvQmcnVPu1kKHsIXAAAAGm5tokUSLfR+YWERx5Gta9oCPTUB4QsAAABN4SN97dJK7xcW0KKSyzVrg9vrpRG+AAAA0BR6O2Oypj14E+ei/nRv17beNgl6NCd8AQAAoGlc198hHXEOUTFbtwrlV/W0maXgYssGAABA09ATLl+tDrLjDuWHKGqLObJjfYdZCjbCFwAAAJrK1jWtXgkiEI04cnVvu6wKyVQEhC8AAAA0nV2bEtJJ+aH1+hNxuVqF8bBgiwYAAEBT+idXJrySM9jHdV3paonKxzd2mjXhQPgCAABAU+qMq4PvDZ0S44jVOi1RR/7i6lVmKTzYlAEAANC0ejvj8rENCYk6rlmDsItFHPmrgW6zFC6Oq/v0AAAAgCaWzOTlt++Oy1SOQ9cwi6vgtfeacAYvjZ4vAAAANL1ES1Q+ubFT2qhBDCXdH6Sv7/tciIOXRs8XAAAAAmMy58pv3rmkvhfMGgRdxBFZ3RqVz2wN3zVecxG+AAAAEDi/ey8pI6ms5DmSDbSWqJ7XrV2u6Wsza8KN8AUAAIBAendsSt4aTksqmxfHYUj6ING9XZ0qeV3f3yGr2+2ZUJvwBQAAgMDS1YevDCXlg4msdxvNT1/btbm7VT7c127W2IPwBQAAgMC7mM7Lm8OTXiliTtci0hPWdKLqLdm4qkW2r+vw5vGyEeELAAAAoaFD2KkLU3L64pQ60hUpcKTbMDpm6Dm7tC1rWmWgp01aLB+tkvAFAACA0Mmp1PX+pYycuZiRsXROIo4jWZKYL/RcXXkVMTZ0tUh/V9z7jiLCFwAAAEItr0LX+YmsCmF5GU1lJZNzp4eq1wN16L4ZHRbIZtWJ6ddMvWg6RujXLBZ1vPnXdCnhukSLdLdFpafDnkE0akH4AgAAgJV071haB7FsXtLZgqj/VJjg0HgxuowwrkJWezwibd73KJfX1YDwBQAAAAA+sPuKNwAAAADwCeELAAAAAHxA+AIAAAAAHxC+AAAAAMAHhC8AAAAA8AHhCwAAAAB8QPgCAAAAAB8QvgAAAADAB4QvAAAAAPAB4QsAAAAAfED4AgAAAAAfEL4AAAAAwAeELwAAAADwAeELAAAAAOpO5P8DB4iesAilLdkAAAAASUVORK5CYII=)"
      ]
    },
    {
      "cell_type": "code",
      "metadata": {
        "colab": {
          "base_uri": "https://localhost:8080/"
        },
        "id": "RRT0q0WDeWY-",
        "outputId": "c451804d-f644-42dd-8dd3-f747de23dcc9"
      },
      "source": [
        "X * 2"
      ],
      "execution_count": 92,
      "outputs": [
        {
          "output_type": "execute_result",
          "data": {
            "text/plain": [
              "array([[ 8,  0,  2],\n",
              "       [10,  8, 18],\n",
              "       [ 2, 10, 14]])"
            ]
          },
          "metadata": {},
          "execution_count": 92
        }
      ]
    },
    {
      "cell_type": "code",
      "metadata": {
        "colab": {
          "base_uri": "https://localhost:8080/"
        },
        "id": "OogXkneXeZ1q",
        "outputId": "6dbfe6d5-f81e-41c2-821b-19bd8c4f9037"
      },
      "source": [
        "Y / Z"
      ],
      "execution_count": 94,
      "outputs": [
        {
          "output_type": "execute_result",
          "data": {
            "text/plain": [
              "array([[1.        , 1.5       , 1.16666667],\n",
              "       [3.        , 0.66666667, 0.2       ],\n",
              "       [4.        , 3.5       , 2.66666667]])"
            ]
          },
          "metadata": {},
          "execution_count": 94
        }
      ]
    },
    {
      "cell_type": "markdown",
      "metadata": {
        "id": "jDd8fUtjnwNz"
      },
      "source": [
        "![4.png](data:image/png;base64,iVBORw0KGgoAAAANSUhEUgAAA2kAAAEeCAYAAAAQMF32AAAAAXNSR0IArs4c6QAAAARnQU1BAACxjwv8YQUAAAAJcEhZcwAADsMAAA7DAcdvqGQAAC0uSURBVHhe7d0LcFzVnefx/+2Hni1b1sOSwS9sQWJiDCFmYzZZD8yEOAshA2wmTmWB3ZolrgpJUTtbTmqTqa04M1WT2oHMTFE8EseTqgVnNyEp8E4CiSEzsOyEeGInS4zBBGSDwVh+SLJstVot9WvPuX3a7pa6pZbU3bq65/sJHfW93S23+t7T5/7uOfccJ6MIAAAAAMATAuYnAAAAAMADCGkAAAAA4CGENAAAAADwEEIaAAAAAHgIIQ0AAAAAPISQBgAAAAAeQkgDAAAAAA8hpAEAAACAhxDSAAAAAMBDCGkAAAAA4CGENAAAAADwEEIaAAAAAHgIIQ0AAAAAPISQBgAAAAAeQkgDAAAAAA8hpAEAAACAhxDSAAAAAMBDCGkAAAAA4CGENAAAAADwEEIaAAAAAHgIIQ0AAAAAPISQBgAAAAAeQkgDAAAAAA8hpAEAAACAhxDSAAAAAMBDCGkAAAAA4CGENAAAAADwEEIaAAAAAHgIIQ0AAAAAPISQBgAAAAAeQkgDAAAAAA8hpAEAAACAhxDSAAAAAMBDCGkAAAAA4CGENAAAAADwEEIaAAAAAHgIIQ0AAAAAPISQBgAAAAAeQkgDAAAAAA8hpAEAAACAhxDSAAAAAMBDnIxi7vtHelwyiWGR5HD2Z3pMJKVuKC1QLxKsFyfcIhJqyf4M1JkH4XfvDI3JWDJtluB3AceRte0NZgnFnBlJylA8aZaAmVvaHJbFDUGzhGo7OhiXVNp/h7QoLhwMyOol6tjVxxZ2SMskJRN9SzKj70kmdlwFsZgKZefVev0nOeq/gLqbEic1ro9Ksq9BUe5uoEKZ46gKJaMP1tWyOpBzwotUeGuSQPMKkYZLxYlcptZT6fhJ70Bcfn9m1N3esIOjyve1lzRLdwsnYkp55WRMjg2NqWJBucAsqDr1qu4mWdnq74NIr3j1dEyOqrosEKCDmC3UEb58eEVE2prCZo3/LLyQpkJXeuiQyPCbko4ekUwgJI5uKUP16dY29fkHImtFWi6XwOL1ag/iC3Gh++e3z8vQaJKQZhFdaj9+RauEOHlVUi6kAbOhSxYhrXb+6cg5GRlPcVLFIrr6uvl9S8ySPy2YI+zMWL+kTzwtyde/JelTz6mA9oZaqwokAa129GedSUrq/OuSPvms2hb3q23yjNo2A+YJWIjOx1MENMs01QUIaAB8YTyVcbvrE9DssqQhZO75l+dDWlqFs9Tx/y2ptx6X9NDv3JCgrznD/HG/CPU2cFs1X1bb5n9I+r1/UN+Ug+YZWCj6RxL0BLaM3tzdEf92DwFgF12PZb/ZYAu3Hmvxfz3m6ZCWPvFTSb/9fUmfO6QWRs1aeE467m6j5Fu7JfXeT81KLASnVeWW4EJrq+gWtKVciwbAJ04Nj0tqgV25g7kJqpTWacHJRk+GtPRwr6TefFQd+L8mkhqhCXuhSEUlc/41Sb75iGSiR8xKeNmp4QTlyzLJdFraGv3fTQSAHfpjjMJqm0DAkUid/wex81xIS737pKRP/EQyibPZro1YWPQ2SwxJ8vg/SOq9n5iV8KLxVJph9y20pJGujgD8ITqeEjqD2EWPd9jRZMeJRu+EtMy4pNwWmF6V1OjauNA56VHJnD8syTcfJmx71EAsqSdagEV0m+kyC/rxA7DDwEhSkqQ0q4QDAemK2NFl3xMhTY8OmHzjUckkhjig9xO3Ve2cJH//kMi42rbwFN3VMUXdZpWg+sbvaCakAfCHvuFxTjZaJyPtzbSk1UZ6XFLv/C/32jP4VDomybcfVz/1CEzwiv4Y28M2uiWtpZ7J6AH4w1k9xyesEg460hDy3NVaVTG/f2X8lDvIhCTOmxXwreRwdkCR+GmzAvNJT/qZoouIXTIZaWuiFQ2APwypgMYUMvZZatEUMvMW0vTk1MljT4ikYmYNfC81Iql3fiAyftaswHzR88qkmVfGKkF1NMP1aAD84kxMX49mFmAFdwoZS65H0+YnpGXGJf32/1QH7cNmBayRjEryrcfUnVR2GfPiVDRJS5pl9EwL7bSkAfAJPT8atZhd0uq4xZaRHbV5CWmpt74vmVTULME6ukXtqA5qmC+DXI9mHX0GsjFsRz9+AP6m564+H+dkr20i9QG3V4gtal5jp997xu3qCLtlxs5Iuu9nZgm1NBRPMoG1hZYyqiMAn9ADX+nRamEPfdTS3WJPV0etprt4erhX0iNvqiN0zuJbL5NU+8MbkokeMStQK/3MK2OdkKrdbLrYGoC/nR5JSILr0aziTiFjUVdHrbYh7eSzIkmG2oeh9oV0316zgFo5qfvx674isIbO5MyPBsAv9Dyf1GN20fWYbSMU1yykpft0QOM6NBTKqH0iffIXZgm14Pbjp7ujVZrqAu41aQCw0I2nMjKWTNNt3zJLGuxqRdNqEtIy4wOSHv6928UNKKC7PZ57jWH5a0QPvc+xul305u5m6H0APqHrsew3G2yht/ayRfbVYzUJaenTL7qTGQNFpaLZfQRVl+3HTxcRm9g2rwwAf9ND76fo6miVoEppNnbZr3pI0yM5ZmLvmCWguPTIW5IZZ9TPatP9+OkiYpdkOi1tjfZ1EwHgT/0xemXZJhBwJFIXNEv2qHpISw/sY7AQTC8Vk8zAfrOAahhPpd1+/LDLkka6OgLwh+h4yh1AAvbQA8TYNqpjTnVDmr4GLXrULABT01M0qESfXUDFDcSSQt1mF7cfP9ejAfCJAaaQsU44EJAuS7vsVzWkZc6/Lpk0c6KhTOlxtc+8YRZQabqrY4q6zSruvDIMvQ/AJ/r0FDLmPmyRkfZmWtIqLq0PuNNjZgmYhtpX0udeNwuotP4YJ0xso1vSWurt68cPwJ/OjtLbxjbhoCMNoapfneVJ1fur03HJxPvMAlAmvc+kx80CKmVkPEUXEcvofvztlk38CcC/dEBjChn7dLXYOzpx1UJaeuRd9X+cucfMZDIJycTUvoOK0vPKZJhXxip66H3mRwPgF3pUR8a+souuxzot7rJftZDmjB53R+wDZiQZI6RVwaloUlK0pFlFz7RASxoAv9Dzo1GL2SWtjltsHdlRq1pIS0WZGw2zk4m9Z+6hUga5Hs06+gxkY9jOfvwA/EXPXX1+LGWWYItIfUCCFvdxrV4NPj5o7gAzkxk7Y+6hEobiSSawttBSRnUE4BN64CtOOdlFH7V0W3w9mlaVfT6jA5pDozRmKyOZxJC5j7nqZ14Z64RU7bY0QkgD4A+nRxKSpBqzijuFjMVdHbXqnJgYH1IJ2KZhn+Py9P1Pyqa7L97+Vs/LjFlSR5iJc+Y+SnniiSckGo2apdJO6n78uq/IdHofkR13PiLHzaLfHX/8Jtnx+GGzVJ7oi19Vn9FX5eUJ5xCy64t8du5nepP8vMj3gfvv//VeubgFB+Xlv1br1PMn3Wb4PnUmZ3600nTZee2118xSFQ3tld1F9pcFw2PfCaXK34WyM0U50eVtUjl0t8+EsmZuxcosKq/cekzP81lWPTadUtt8yu/Y7P61+8W59RBz91/9ne++hxqXq2qU5Qvfb9nPp9JlRtdjbZZfV12dlrTUqCpMtsxloQPaM/KXy26QfY/dYW43iPxFXlAbOib/+e5fytOzrKgP7VbBb7dl3UeTDDoznR//+MfyxS9+ccpKTldp5+KqLHqou+OFisosV8tsQth0Ipu/KfdsOSB7dua9f1VR7dkpcttD98pys+qCnntl+7aNsu/JCX+vqjB37b1d7vnKFomYVao6kmu+8pzs2J1/e1A2qUc2Xb8u+5Qy6X78+po0FPfqq6/Kjh073FtNwtos1KqcTFSNclOpv+VC+ftJ4fuLvni/7JHtsv2uUuVkUPr7Nkp3h1nMad0idxaUN3Xbcbt64HZZ35N9CqqrnHpsPJWRsWRaVWOV+k7bqL6v87e7+p7de9+cQ5g27b6+bGXed341HZafq/BZ6eA0+e9bIR2t5m6FLWm0uxVNq0pIc/TQ+6m4WfK7mLzxisjWTW1mWWuTuz/fJT/cx3V5s5FJjqigz0AX5RgdHZ2ykhsYSUiQ69GKWn6XqpxLHtSVtvwuVaEffED2uBX6oLy88wGRbV+Wa0pUVJHNd+c9X1OV546nZNOOIqGugD47eZ/s2/KgfGIGB4x6a9s8r8xM6IDm9bA2r3ruVQew0+2ntbX81u3Sow6oLxx85k6SbMs/4THB0H45JDdIz3QHk7ploKyyiUqarh7TU8hkv9mqZZ18dNtG6d23v0S4yp5Au3Nz/nHezEU23CCbVnWJtK6Ujg1rpUrZprhqlOXW62T9Fv13tEnHsiInQeZAb+1lTCEjQVU57TD3KyYzelzSI0erWqS8w5HB3jflkXNdcs+GRrNOpGnVSrM8KH+77VeyV0bkxZ8NyrIbV8oVDdnWsU89cFh2PaVvF9e7rW7bjsnhkZfkz9Tjp1ODcv8zIyJH3pZdI4X/hl/ps2WBljXiNC4za1DMj370I3NPJJlMugeZzz77rCQSCVm1apXU1dXJ20Nj7twyZZ2BHNwvL7wgcu0d18kiNyB8Sn5xNCoH7/+aPPnk4/LCk1HpcR/Lnm3/m4Nd0rr3C/LtRwsfcw907vl7Sf/hx6Rb79PuGb3PSe+Gu6Vn8BH5q2/9k8ipl+Sl3i7Z+JEeKYgTukvGffulteNJ+faf/3f1ex+XuHpdw9Pq37tf/zvZ5Z5cXen+W18w70/dRq6TG67udM/2PfTECVVufpZdt+q36nnPyomRr8lu9Xsu/M6Duce+IAc7PikbVmXLrP7bv300+7sm65SeDVF58ls/k+O9D8pLsl3+9HNXFf4dBXLPP+R+RoEX/0aeSHxOPnvrhL99guiLfyHfO/452X7vpimfN1E44MjlHY2M7DiFF9SO3t/fb5ZEzpw5467TLWxLly6Vzs5OOR1NyLn4HEeTix+Rg8+8LUtvzpWFibJlY7fZfy/s26ocTFlOtPx9X9UNuiz+IqX34dFs2XXvZ+uLbHnN258Lys1haTVldVK5af6RWx4Ly/bk1+XKTNHvi+n+FrfMfy1bfvNvpf7uhh5Z03FYnngu5T5++kfq7+75r/LZDxcrq1nRX/+9vL78T2Sj+TyKU3/Dg/9FTv/xD+WOD869nnVPlkTCsriB1oCplFOP9faPyrlKjexYokyOH/tHeen4avnXep/T++Su/RL/paovHtX7+bVy8sFcmTLlazb7utp3e9x9UNUJ+Y/llYHjHV1y4s+/kK0v20y5mqIs6zL7V6auvFhm9Ov+k/zilHr+C+Z7RdW9+WW5+OsUU3+fGPlHVVeax029Ovl76SpZeXX2dYuuLvUdNzv6uur3L22SOn1hmsWcTEU6+RZKnz0g6RN79dG2WeNzOljd9xvZZxY3ff5m+bt/k7e3uo8fl5se/Ijcok+d9P5ONj3VKk9/eZW0q0Ud2O6RG2Tfnap2Nr9L8n5HweM2ULtkpvNj8tNfqoMFFBUMBmX37t1mabLGxka55ZZbpP2DN8louXWbrih2iNzjnm3TX/JbZc/B2wuXlz3otj7pimKXKuKbdjzntvK4y33bZbvuvqe/5L/0gqx/6JumdUkfiN4nYp6rK4cH9t2Qfa77D+dx38NT0rPth+5ZS/e5Ow8U/3fMezp5R/Yxt3LJ+3fd50r2/WYf0y1e2d+rTX48+9qeg1O8vzzZzyD3+Uwv+943qt8veZ9NCe7n8K7cNt3zinAkI+1Db0hfX59Zg4n2798vvb2l+wFdeeWV8odbPy/nnSazZpYmlYV82f330CazT0547pTlxJSp/tz+XFBupPD3KgX7erHyuHPFhf244LkF3wmFr5vJ98XUf8tsmM9ONkrvwYvvvRT9Nx263rzvErLlM/fdMnf66Od9S0Lyyku/yK7AJLqe+t73vmeWJsvVY63X3CTjlZrEumiZLF6ecvVOYVnNlq+K7eumbuooKI+5Oi//3y1SlouVQfM+JpbzgucWvG7C7zTvp3dL4XLB+6toWS6uLujIxy+fYeXnQ9Xp7qhiX+Wjn4e1rpK/M9ejPf35Ltn33WemHjyk52rZZwKavqbt2KRjqS656aoKnpJYiOiiN6Vyzq04wbCq2OZWEHu2fdYc/OjuDO6dizZsl4+agx63C9LBF6S3IgMk3C43mAopcskKdzl3fUjrqo3ZO65sF5QLB179R2Tq7vcbZf2G7O+dpHWL3LZNZM+XblIV5DRdp1yH5ZAKqSJPyaEy+/xnP6MDU3aNzFKVq3vAPd3zitMXWlfh3JtVavL56S546kAvt6/rffCGLQfUuly32Cn0Pi/78sqJ9HxWbtuQvTst89pcmXK745azH+vX5ZX57L9Z+Lopvy8qSpX9O25XAU0fzE4d0LJldZprzNRB6669G8so9zOTYerlKZVVj9U1uQNIVNYB97v+4sAh2W7luSCUNfU+U6l9ParrzbxylS2P5Tn+q6dEttx44X3oMiF7n592cBD9uovvP9eFOP91qizcqoOeortmZu/VVIflA4bkVKUlLTN4QFInnzVLdhr4v7+UW74bkV2PXS3rJ7akFbS8dcmmq07JPj3wyIWWtLznKta1pCmB7i0SaPuQWUIxn/nMZ8y9i3JnHm+++WYZztTJyydGJFVuCS9yVq7UGbyCM28ufdbuMenWZydl4pnKwjN6U56Jm3CGb+LyxNe678MNS8qGwlaqyWcHC8+eFv8b8s6mTiH32u2rHitohZjahDObJUx+X+XTpzauXNool7VZfpJnGl//+tfl8OHJg2OsW7dOtm7d6rakvXIyJseGxswjs1T0rL3h7tvqIGsicwZ7RuWkyJn+UmV38u8t3C8L9r+8f6dVv27nAfcV+cppvZv+bynyOagD16LPz5nqs82nn6dPvJT8XeWVy5nSZfGq7iZZ2VqfXYGipqvHBhJhOXQqVrm4W85+U9HyNbWpy+NU9XDXpMcK3/eE/frCY5+VfvW6PaquLKQHU1GfyVzq7woJOY5bdi5dPKmzs3WqM7pjQCXgikc/j9JdF+8/JgNmMad9Wend99BPVUD7eG40yI/IPVx6VUjtO47eh1A2Xal9+tOflocfftit9CKRiDtkcdkBbTb63rl4kfXQO3LxCp8aUZXtC/rsd26Urm03mAdm5/jj98k+FfRk5/1TD5muKju3m6OqkCObv+y2Juyq1Gh4eb97Ntx5ZRh6f8Z0ONOXZ3/jG99wA1pNdKyVHtFdpnIjzJnbLLd9udzW6YNHZKaN3u7rdHCa8H4vHCDOljugQeHvdG8VOgjULRWy6bqSv8st9zMcnAfVUawe69NTyJjHkS/bgtd77JRZLlf2dfrkSmGZm+ZkR01lpL2Zazm16lyR56gPN2TJ2aOeFbL1ld/ILQVD5Mfl6aeOiHx8haw3aybpG84Gu6FjssvuRsfJgnVqz6SAlqNYpZbTH6vyCJl53RuP/+QB6d1gRk9zu0fkddtyu1dVywE5adKh+x6yd2cuF46+8s1st8f8IfYLHJ4wMmObXLNtwmhzs6XP8Bb87pnTZ+9b6m2ao3Ju5iWc5eiR0VTAfyF/1M87y5yLyXQ1vPDa3h/knRk3B28XRqrLdc01em4s6N4YffGxgu6PJenXHXxA/jm3n+v9tQpDfFfWoPocpGQ3Z90qMJeTIqiMqeqxs6P+ns4pN/pvrlxly2PO1GV5+fX53RsH5eUn87s/lqZf17vzBxe6N+py4KX5EMNBRxpCdg8YklOda9KCjeI4tpzNbZM/e+xm+W99L+RNZv2MPLfp5ovdE1v1NWan5C/vy16ntv6TH5JNOtjp535X5J7Pd10MbUWs37RW5Fn1+4u02PmSo0JaaI4X7FugVKWmjYynJFn5jvyFtqyQk6Zffzbg5M58m+GMd27N9vf/1dqC62X0MMQ9qlJ6YK6VgnsNj8i+Hdn3cOh6PafYxdCWrcDum35+JrcbyMVw5LaOiXp/k1rHst0+Jp11d69n26jeR26SXf28Micw1v+2eX/utQnqZ+7vKbxN/1npnuvt9OMvywc+8IEahrOJ17+om7tv6WsqH5SOXDkx+1auZWrqcjLhtU+KbMorY9nrH/Vr9e99XrrV/nnROvnEQ9ul3+xn7jWYeXP8lS43ha/bYQbiKacFqmJlfsZOycmDpeZx0gFOd998Sna5n9OEW4XnikNxU9VjOqAttOkeZ76vTyiPx1YUXJM2ZVl25+F81+y/WyfMFbhO1pv6cdKJn4LXTf4OmEotyjJTyFxUnWvSxvol9fb3RVIjZg0wA8EmCV12t0jdHLvRWOzY2bi8diYuqSoFtYLrVjBJ9MVHpHfDvWV0HxmUlx/fLz13zb1rV1AdzOh+/MsXcw1MJVTkmrSamXztCuYX16TN3ZsDcXnjzKhl3R0LrwGzTUil8g9e0uxOX4FqtaTVL1FfUBWa0wL2yah9h4A2J6eiyaoFNExnUHqPrZ1+4lxtaL+cXFX6epmZ0AOi0pIGwC9OcT2addLquKWjictdcqrU6TOo/msx94GZccLutKmYg4FqX4+GKbTJNeW2jLVukU9UqOUjHAgwgTUAX9DnGM/PdTJ5LDiR+qAEF1of1yqqSndHLX3iGUkPvWyWgPIFllwrgWWfMEuYqaF4Uv7lnagkaEmzysrFdbJhWbNZwlwtrO6O8Bq6O87NmZGE/OZ4VJJUY9bQZebyjga5oqMxuwLVaklTH3bkMvXbufgPM6T2GadZ7TuYtf6RZPUHDYGnhFTttpQ+/AB84rQKaQQ0u7hTyNDVsUD1+sY0LRcnwISqmCG1zzjNK8wCZuOk7sdfnQZyeJTO5MyPBsAv9Dyf1GN2SadF2riuukD1WtJCLSL1be7ExEC5nPp2d3RHzI4ubufiSfVB0qfbJpH6gDsqFgAsdOOpjIwl06oa4zvNJktoRZukqleZBxZdqf6PiVVRpkBIHL3PYNYGRhISpGKzit7azCsDwC/6VT2W/WaDLfTWXtZCK9pEVQ1pTsvlIkEuZEeZAo0S0PsMZk3342fAELvoFrROujoC8Ak99H6Kro5W0fN80mV/sqqGNAk1S6BpOf2KUZZAZI3aZ+jqOBe6Hz9dROyiD2baGukmAsAfzsSS5h5soQ9bInX0vJuouiFNcdqvk0CoElO1wteCTRJo+5BZwGyMJ9MSVzfYZQkBDYBPRMdSwnl9+3Q202W/mOqHtMZLRRrazRJQnFPfqfaTbrOE2RgY5eyjbXSbaTdD7wPwiYEYU8jYJuQ40kU9VlTVQ5oW7LxB/UtMTocSnAYJdt9oFjBbuqtjirrNKu68MvTjB+ATfXoKGXMftshIezM9QoqpSUjTc6YFmldxbRqKCrSsFmm4xCxhts64I2LBGur71FH/a6mnHz8AfzhLjxDrhIOONIRqE0cWmpp9Ks6yLeKEF5klwAi1iNP9b80CZmtkPMVoWJbRW7udeWUA+IQOaEz3aB+mkCmtdiFNj/TYcb26w8ZAViZQp/aJj6h9g66wc6XnldHtKrCHHnq/m3llAPhEv3s9mlmAFZhCZmo1bV8MtG0UJ7LaLMFqGbU/NF+m9olrzQrMxaloUlJcbG0VPWRxexOVGwB/0POjUYvZJa2OWzroEVJSzTuBBld8Wpy6JWYJ1qpvV/vCvzMLmKuBGNej2SYcCEhjmH78ABY+fY7xfDxllmCLSH1QgvRxLWleanhnxZ+IhFrNEqwTWiyhVWofQEUMxXU/fr7kbNPJaFgAfEKfaORY3S56c9Nlf2rzEtIC9R0SvOQT6g7XIllHbfPgpZ8UCbeZFZir/hHmlbFNSNVuS5lXBoBPnB5JSJJqzCruFDJ0dZzSvPWVcSJrVFC7Sd2pN2vge4F6tc23iNO8yqxAJZzU/fgZ2dEqemszPxoAvzgdTVCPWUZv7jauq57SvF7Q4CxaL6E1dxLULJBx6iR02d1qm19p1qASdJV2Lp5UZYh+IjZprgu4o2IBwEI3nspIPJFW1RjfaTZpbaQVbTrzGtJc9V0SXH6LOKEWswK+E4yobXyr2tadZgUqZWAkIUEqNqvorc28MgD8Qk8hk/1mgy301l7G9WjTmv+Qpjgt75fAyq3qDhvMV3Qzj9qmwdWfk0DL+7LrUFG6H3+C69GswrwyAPxED72foqujVYIqpdFlf3qeCGma07BUQuu+LFLfrZaC2ZVYuJygOE2XuNvUqe8wK1Fpp4YTdBGxjD6YaaObCACfOBNLmnuwhT5sidRxrD8dz4S0nNDaP5VA12Z1ZxEXkS5UatsFOv9Agpf9R7MC1TCeTEtc3WCXJQQ0AD4RHUu5A0jALp3NdNkvh+dCmhZov14Cq/69BJqWiwSbzVp4XkBtq8ZLVTi7UwIdm8xKVMvAKGcfbaPbTLsZeh+ATwzEmELGNiHHkS7qsbJ4MqRpgfol6mD/P0jwkk+K1HXoFeYReI7aNk79Ugksv1VCaps5YSYqrwXd1TFF3WYVd14Z+vED8Ik+PYWMuQ9bZKS9mR4h5fBsSMtxWtZKqGebBC79lDhNK9Q7ZgJszwg0qG2yUoKX/rEE194jgcga8wBq4Yw7IhaskcmIo/7XUk8/fgD+cJYeIdYJBx1pCHk+fnjCgvmUAi2XS3D1XRJac7cE2j8sUtepVta7A1SgRvRn7baadbnbwG3pXH2nCtI95gmolZHxFKNhWUZv7fYmzj4C8Acd0Jju0T5MIVM+J7OQR+cY65d09C2R2DuSiZ+STDKqVqrc6Tjqv6BkUrHs89ThjT4DjdIKdgK3tTLtnrl3fwabxWnsEqd5tQQil6mA3O4+DfPn2NkxefVUTG8dWEKfUduwrEmWL6brdy28cjImx4bGGD0Vs6Pqz6u6m2RlK+W1lN+fGZU3+0fdYzbYQc/reu2lzVyTVqaFHdKKyCRVMEsOiyTOq59RySTOueEto5dRUiC0WCQcESe8SERPLB5WN/XTCTWZZ8BL9HXWRwfjZgk20N1Dli/mDGSt9I8kZShOVyzM3lJ1ILqI7sklJVIZ90QIitv/619L59Klsnr1arNm4dPD7ncziXXZfBfSAAAAgIXsO9/5jqxbt042b95s1sA2XLkHAAAAAB5CSAMAAAAADyGkAQAAAICHENIAAAAAwEMIaQAAAADgIYQ0AAAAAPAQQhoAAAAAeAghDQAAAAA8hJAGAAAAAB5CSAMAAAAADyGkAQAAAICHENIAAAAAwEMIaQAAAADgIYQ0AAAAAPAQQhoAAAAAeAghDQAAAAA8hJAGAAAAAB5CSAMAAAAADyGkAQAAAICHENIAAAAAwEMIaQAAAADgIYQ0AAAAAPAQQhoAAAAAeAghDQAAAAA8hJAGAAAAAB5CSAMAAAAADyGkAQAAAICHENIAAAAAwEMIaQAAAADgIYQ0AAAAAPAQQhoAAAAAeAghDQAAAAA8hJAGAAAAAB5CSAMAAAAADyGkAQAAAICHENIAAAAAwEMIaQAAAADgIYQ0AAAAAPAQQhoAAAAAeAghDQAAAAA8hJAGAAAAAB5CSAMAAAAADyGkAQAAAICHENIAAAAAwEMIaQAAAADgIYQ0AAAAAPAQQhoAAAAAeAghDQAAAAA8hJAGAAAAAB5CSAMAAAAADyGkAQAAAICHENIAAAAAwEMIaQAAAADgIYQ0AAAAAPAQQhoAAAAAeAghDQAAAAA8hJAGAAAAAB5CSAMAAAAADyGkAQAAAICHENIAAAAAwEOcjGLuAwAAAKix559/Xs6cOWOWRAYGBqSurk5aWlrMGpH169fLlVdeaZbgd4Q0AAAAYB7pkPboo4+apeIefvhh6ezsNEvwO7o7AgAAAPPoxhtvlLa2NrM02ebNmwloliGkAQAAAPNs69at5t5kUz0GfyKkAQAAAPOsVGsarWh2IqQBAAAAHlCsxYxWNDsR0gAAAAAPmNiaRiuavQhpAAAAgEfkt5zRimYvQhoAAADgEbnWNFrR7MY8aQAAALBKMp2ReDIjo4mUuqUlldbr1P95xNGjR6Wrq0uam5vNmvkXDgbUzZHGUEDqQ+pnOCgBxzyIiiOkAQAAwJcSqYz0x5JydjQhZ9XPcbUcT2bDmM4XAZUy9HP0wbDjkDimoiODymhuMNPpQeVcCaqFhnBA6tTPzkhYWhtD0tEUMq/AXBDSAAAA4BuJVFreO5+Q4+fHZDieUqFCBTGdKDR92EsYq5wJn2dYhbWU+qyXLaqT7pawLGupM49gpghpAAAAWPCGRpPy9tm49A0n3FYeDnDnV1CPfKE2wsrWeunpaJR63QyHshHSAAAAsGDpcPbGQFwGYwkxPRnhITpq6GvZdKvauqVNUkdYKwshDQAAAAuOHujjd30xOTNCOFsodGvaitY6eX9nk1mDUghpAAAAWFDePjsmRwfjEhtPFVwTBe/TW6u5LijXdDdKa1M4uxKTENIAAACwYPzLu8MyGEtJikPYBU23qq1aUi9XdDSaNchHSAMAAIDnxRJpeenYeXd+M/iDHltkUUNQPrp6UXYFLiCkAQAAwNMGY0n5fyeiMkpA8x8VRepDAfmjnlYmx86jAywAAADgScPjKfktAc2/HEfGUhnZ++ZZswIaLWkAAADwpL7hcXcEx2RuMmr4Wigg8kdrW90h+21HSxoAAAA8pz+WlIN9IwQ0i+ipFJ4/MqR7QFqPkAYAAABPiY6l5OX3opJg/jPrjKtt/n/eOmeW7EVIAwAAgKf8+viwxFM0p9gqqpLab0+MmCU7EdIAAADgGfvfHZZYgoBmu5PD4+6E5bYipAEAAMAT3jobl8F4yizBZvpSxLcGx+RcPGnW2IWQBgAAgHk3lky7B+UJujnCGFX7xKFTMbNkF0IaAAAA5t0r6mA8Nk4rGgqdi6fk6OCoWbIHIQ0AAADzqn8kKWdjSXdiYyCf7vZ4ZGDM/WkTQhoAAADm1etnYjJGN0eUkFAJ7c0BuwYRIaQBAABg3pwZScgoE6JhCtlBREbVT3uCPCENAAAA8+bIQJxWNExL7yJHBsfMkv8R0gAAADAvomMpiTJYCMqgG9FOnCekAQAAAFV1Ynhc4kla0VCeeCIjg6N2zJtGSAMAAMC8OBW1c6JizI4eQOTEOTta0whpAAAAqLnoeFrGknR1xMwMxOzYZwhpAAAAqLmzsYSMM2AIZiiRTrsTXPsdIQ0AAAA1dyaWlJRtMxRjznSwPxf3fzdZQhoAAABqbmg0KY7jmCWgPGkV7PtVwPc7QhoAAABqKp5M04qG2VHB/rwFLWlORjH3AQAAgKobiCXkwHsjkrDhmrShvbL7Sw9Ir1kssOVB2XHXugvPkW0/lDs3t5kHtcPy8zsfk+6HvinXtIocf/wm2bXXPHTBRrnNPG6LUEB9dFcsET+3w9KSBgAAgJoaTWYkZdWgITpIPSc7dk+46YCWp3fnD+S4uV+SDnZ5v2P7NpE9X/qqvDxkHrdAQMWz0YS/Bw8hpAEAAKCmEsm0pM195GyUng1Pya7HD5vl8kQ2f1Pu2XJA9vxkZq9b0ByRMZ9Pgk5IAwAAQE0ludqmqPV3bJeevffJz4v2jSytddVGkb53JGqW/U6PN+P3rrKENAAAANSUfRntgOz50k2y4878W5Euih1b5LZtG2Xfk3tnFLgil6wQOXhEbOnxqK9FS/l8JyKkAQAAoKbsC2nFrkkrPthHZPOX5TZ5QPa8OGjWYCLd1dHx9bAhhDQAAADUmjq+psdjKW1yzR23S+/O+8seDCR64l2RDWvFngEe/b/zENIAAABQW+oYm3msp9BzrxkM5HmzYiqD0rvvgMiylRIxa/yuXo/BT3dHAAAAoHKCARLadJbf9aBs2vuU7DPLpURfvF/2HNwot91aOJy/3/l9H2IyawAAANTUW4Nj8urpmFnyuakms96wXbZ/ZYtE3Oe8IOsnTEodffGr8sBOuTBZdfHJrG+Xe3bfK8vNkg3qgo5ctzwiSxpDZo3/ENIAAABQU8fPjcnv+mIWXFmEaggHHPno6hZprguaNf5Dd0cAAADUVJM6uA4H6fKI2dFNTH4OaBohDQAAADXVHPb3ATaqqyHs/4BPSAMAAEBN1Ycct8saMGOZjCxu8O+1aDmENAAAANRcq48HfUD1OI4j7U2ENAAAAKDiOprDQmMaZqoh5EgrLWkAAABA5bU2BKWOlIYZCjqOLFL7jt8R0gAAAFBzLfVBqQ9xKIqZ0S2wNqBkAAAAYF50tdhxwI3KqAsGZNkiQhoAAABQNcsX10kD86WhHJmMOypoexMhDQAAAKiapnBQIvXMmYbpBQKOXGpJK5pGSAMAAMC8WdtWL2Fa0zANvYusaWs0S/5HSAMAAMC86YzUSaSO1jSUFnAcWb2kwaopGwhpAAAAmFfv72iUelrTUEKdSixXdNrTiqYR0gAAADCv2ptDsqTR/xMUY+Z069na9gaxLcIT0gAAADDvrupukqYwh6Yo1KrC+2VtDWbJHpQEAAAAzDs9sfUadTAeduj2iKyGkCPru5rMkl0IaQAAAPCE1Uvq3a6PQDDgyJr2Rllk6RQNhDQAAAB4xsblEWmm26P1uiNhWaNCu60oAQAAAPCUf7Uy4nZ1g30ymYy01AXlg5c0mzV2IqQBAADAU5rD6iB9WbOEOFK1Tl3QkT9Ys8gs2YtdHwAAAJ7T3hyWq5dFJOhkzBr4XSjgyMd6Ws2S3ZyMblMEAAAAPCg6npJfvTMsY0kOWf0srALalisIaDm0pAEAAMCzInVB+dAlzdJA30df0u1F+vrDjxPQCtCSBgAAAM8bTWbkpbfPq59pswYLXcARWVwflI+s5hq0iQhpAAAAWDB+/W5UBmIJSXEEu6DVBfW8eI1yRUeDWYN8hDQAAAAsKO8Mjcmb/XGJJVLiOAzVv5Do1rNmldCu6W6SxY1MXF4KIQ0AAAALju71eLAvKqdHEu59eJ++9mxFa728r6PRrEEphDQAAAAsWOfiKXmjf9TtApnUfSBpWfOcoNoklyyqk3VLm9x50DA9QhoAAAAWPB3Wjp0dk+PnxtQRrkiaI9x5o+OFnvNMW7WkXnraGqSO0TlnhJAGAAAA30iqdPbe+XE5cW5chuJJCTiOJEhsNaHnOkupaLGspU66W8LuT8wOIQ0AAAC+lFLh7MxIQoW1lAzGEjKezFwYwl8POKLbenSoIMOVJ6Q/M/Wh6figP7NQ0HHnr9NdGJdG6qS1IShtTQwGUgmENAAAAFhFt7bFdWBLpCSeSIv6T4UODomnorsvhlUYawwHpMH9GeTyvyoipAEAAACAh3AFHwAAAAB4CCENAAAAADyEkAYAAAAAHkJIAwAAAAAPIaQBAAAAgIcQ0gAAAADAQwhpAAAAAOAhhDQAAAAA8BBCGgAAAAB4CCENAAAAADyEkAYAAAAAHkJIAwAAAAAPIaQBAAAAgIcQ0gAAAADAQwhpAAAAAOAhhDQAAAAA8BBCGgAAAAB4CCENAAAAADyEkAYAAAAAHkJIAwAAAAAPIaQBAAAAgIcQ0gAAAADAQwhpAAAAAOAhhDQAAAAA8BBCGgAAAAB4hsj/B36SCAL2r6XrAAAAAElFTkSuQmCC)"
      ]
    },
    {
      "cell_type": "code",
      "metadata": {
        "colab": {
          "base_uri": "https://localhost:8080/"
        },
        "id": "XaBfuntAegBw",
        "outputId": "08a21577-672d-4ef9-831a-158024235b77"
      },
      "source": [
        "X / 2"
      ],
      "execution_count": 95,
      "outputs": [
        {
          "output_type": "execute_result",
          "data": {
            "text/plain": [
              "array([[2. , 0. , 0.5],\n",
              "       [2.5, 2. , 4.5],\n",
              "       [0.5, 2.5, 3.5]])"
            ]
          },
          "metadata": {},
          "execution_count": 95
        }
      ]
    },
    {
      "cell_type": "markdown",
      "metadata": {
        "id": "esTjrhdWhJ7r"
      },
      "source": [
        "## Conclusion"
      ]
    },
    {
      "cell_type": "markdown",
      "metadata": {
        "id": "xL8PYkkNgC2j"
      },
      "source": [
        "In many ways, matrix in useful. As ECE students matrix is very applicable in a way that a electrical circuit works inside an electrical board. It is also to be said that matrices are used to solved alternating current network equations which is in line to my couse. "
      ]
    }
  ]
}